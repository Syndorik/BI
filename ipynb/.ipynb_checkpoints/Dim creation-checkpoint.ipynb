{
 "cells": [
  {
   "cell_type": "markdown",
   "metadata": {},
   "source": [
    "# Creation of dimension"
   ]
  },
  {
   "cell_type": "markdown",
   "metadata": {},
   "source": [
    "The purpose here is to extract the different dimension of the final_result file"
   ]
  },
  {
   "cell_type": "code",
   "execution_count": 1,
   "metadata": {},
   "outputs": [
    {
     "name": "stdout",
     "output_type": "stream",
     "text": [
      "The pandas version is 0.23.4.\n",
      "The pandas version is 0.23.4.\n"
     ]
    }
   ],
   "source": [
    "import pandas as pd\n",
    "import numpy as np\n",
    "import random as rd\n",
    "pd.options.display.max_columns = 400\n",
    "print('The pandas version is {}.'.format(pd.__version__))\n",
    "import hashlib\n",
    "from rdgeneration import Rdgen\n",
    "pd.options.mode.chained_assignment = None \n",
    "import os\n",
    "import copy"
   ]
  },
  {
   "cell_type": "markdown",
   "metadata": {},
   "source": [
    "## Import file"
   ]
  },
  {
   "cell_type": "code",
   "execution_count": 2,
   "metadata": {},
   "outputs": [],
   "source": [
    "df = pd.read_csv('../results/final_res.csv')"
   ]
  },
  {
   "cell_type": "markdown",
   "metadata": {},
   "source": [
    "## Dim Etudiant"
   ]
  },
  {
   "cell_type": "code",
   "execution_count": 3,
   "metadata": {},
   "outputs": [],
   "source": [
    "def get_ind(var,strr,dic,unique,printed):\n",
    "    if((var[printed] in unique) and (var[printed] not in dic) ):\n",
    "        dic[var[printed]] = var[strr]\n",
    "        \n",
    "def get_ind2(df):\n",
    "    df.drop('index', axis = 1,inplace=True)\n",
    "    df.drop_duplicates(inplace=True)\n",
    "    df.reset_index(inplace=True)\n",
    "    return df"
   ]
  },
  {
   "cell_type": "code",
   "execution_count": 4,
   "metadata": {},
   "outputs": [],
   "source": [
    "df[\"time_year\"] = df[\"N° Etudiant\"].apply(lambda var: var.split(\"_\")[0])\n",
    "df[\"codeCS\"] = df[\"code_UE\"].apply(lambda var : var.split('-')[0])\n",
    "df[\"idcss\"] = df.loc[:,[\"responsable_UE\",\"codeCS\"]].apply(lambda var : var[\"codeCS\"] + \"-\" +var[\"responsable_UE\"], axis=1)\n",
    "df[\"semestre\"] = df[\"code_UE\"].apply(lambda var : var.split(\"-\")[2])\n",
    "df[\"unicite\"] = df.loc[:,[\"time_year\",\"semestre\"]].apply(lambda var : var[\"time_year\"]+\"-\"+var[\"semestre\"],axis = 1)"
   ]
  },
  {
   "cell_type": "code",
   "execution_count": 5,
   "metadata": {},
   "outputs": [],
   "source": [
    "df.drop(\"Unnamed: 0\", inplace=True, axis=1)\n",
    "df.reset_index(inplace= True)"
   ]
  },
  {
   "cell_type": "markdown",
   "metadata": {},
   "source": [
    "### Definition des jetons"
   ]
  },
  {
   "cell_type": "markdown",
   "metadata": {},
   "source": [
    "On regarde libelleUE, codeCS et semestre pour avoir l'ensemble des UE et affecter les Jac aux differentes CS"
   ]
  },
  {
   "cell_type": "markdown",
   "metadata": {},
   "source": [
    "Au vu des résultats, les UVs ne sont pas pareils en fonction des années. Donc une CS pour 2015 peut être évalué par 4 UV et en 2016 par 2 seulement et en 2017 par 3. <br>\n",
    "On va établir nos jetons a partir du minimum d'UV validant les CS. C'est à dire que pour l'exemple précédent, l'UV va être validé pour la validation de 2 UV et ce pour chaque année. <br>\n",
    "Toutes les UV donnent 4 jetons. (choisis aléatoirement)"
   ]
  },
  {
   "cell_type": "code",
   "execution_count": 6,
   "metadata": {},
   "outputs": [],
   "source": [
    "forj = df[[\"nom_UV\",\"codeCS\",\"semestre\"]].drop_duplicates()"
   ]
  },
  {
   "cell_type": "code",
   "execution_count": 7,
   "metadata": {},
   "outputs": [],
   "source": [
    "forj = df[[\"nom_UV\",\"codeCS\",\"semestre\",\"time_year\"]]"
   ]
  },
  {
   "cell_type": "code",
   "execution_count": 8,
   "metadata": {},
   "outputs": [],
   "source": [
    "forj_2015 = forj[forj[\"time_year\"] == \"2015\"].drop_duplicates()\n",
    "forj_2016 = forj[forj[\"time_year\"] == \"2016\"].drop_duplicates()\n",
    "forj_2017 = forj[forj[\"time_year\"] == \"2017\"].drop_duplicates()"
   ]
  },
  {
   "cell_type": "code",
   "execution_count": 9,
   "metadata": {},
   "outputs": [],
   "source": [
    "forj_2015_s1 = forj_2015[forj_2015[\"semestre\"] == \"S1\"].sort_values(\"codeCS\")\n",
    "forj_2015_s2 = forj_2015[forj_2015[\"semestre\"] == \"S2\"].sort_values(\"codeCS\")\n",
    "forj_2016_s1 = forj_2016[forj_2016[\"semestre\"] == \"S1\"].sort_values(\"codeCS\")\n",
    "forj_2016_s2 = forj_2016[forj_2016[\"semestre\"] == \"S2\"].sort_values(\"codeCS\")\n",
    "forj_2017_s1 = forj_2017[forj_2017[\"semestre\"] == \"S1\"].sort_values(\"codeCS\")\n",
    "forj_2017_s2 = forj_2017[forj_2017[\"semestre\"] == \"S2\"].sort_values(\"codeCS\")"
   ]
  },
  {
   "cell_type": "code",
   "execution_count": 10,
   "metadata": {},
   "outputs": [],
   "source": [
    "def sdf(annee,semestre,cs):\n",
    "    dff = globals()[\"forj_\"+str(annee)+\"_\"+str(semestre)]\n",
    "    return dff[dff[\"codeCS\"] == cs]"
   ]
  },
  {
   "cell_type": "code",
   "execution_count": 11,
   "metadata": {},
   "outputs": [
    {
     "data": {
      "text/html": [
       "<div>\n",
       "<style scoped>\n",
       "    .dataframe tbody tr th:only-of-type {\n",
       "        vertical-align: middle;\n",
       "    }\n",
       "\n",
       "    .dataframe tbody tr th {\n",
       "        vertical-align: top;\n",
       "    }\n",
       "\n",
       "    .dataframe thead th {\n",
       "        text-align: right;\n",
       "    }\n",
       "</style>\n",
       "<table border=\"1\" class=\"dataframe\">\n",
       "  <thead>\n",
       "    <tr style=\"text-align: right;\">\n",
       "      <th></th>\n",
       "      <th>nom_UV</th>\n",
       "      <th>codeCS</th>\n",
       "      <th>semestre</th>\n",
       "      <th>time_year</th>\n",
       "    </tr>\n",
       "  </thead>\n",
       "  <tbody>\n",
       "    <tr>\n",
       "      <th>9379</th>\n",
       "      <td>Calcul scientifique</td>\n",
       "      <td>STC</td>\n",
       "      <td>S1</td>\n",
       "      <td>2017</td>\n",
       "    </tr>\n",
       "  </tbody>\n",
       "</table>\n",
       "</div>"
      ],
      "text/plain": [
       "                   nom_UV codeCS semestre time_year\n",
       "9379  Calcul scientifique    STC       S1      2017"
      ]
     },
     "execution_count": 11,
     "metadata": {},
     "output_type": "execute_result"
    }
   ],
   "source": [
    "sdf(2017,'s1','STC')"
   ]
  },
  {
   "cell_type": "code",
   "execution_count": 12,
   "metadata": {},
   "outputs": [
    {
     "data": {
      "text/plain": [
       "array(['IGA', 'IGB', 'interpA', 'interpB', 'intraA', 'intraB', 'intraC',\n",
       "       'STA', 'STB', 'STC'], dtype=object)"
      ]
     },
     "execution_count": 12,
     "metadata": {},
     "output_type": "execute_result"
    }
   ],
   "source": [
    "df[\"codeCS\"].unique()"
   ]
  },
  {
   "cell_type": "markdown",
   "metadata": {},
   "source": [
    "Après observation pour jac, on decide :\n",
    "- interpA interpB intraA intraB intraC : 4 sur l'année\n",
    "\n",
    "Car ce sont des matirèes qui ne sont pas pris par tout les étudiants.<br>\n",
    "\n",
    "Pour le reste: \n",
    "2015 S1 :\n",
    "- STA 12\n",
    "- STB 12\n",
    "- STC 4\n",
    "\n",
    "2015 S2:\n",
    "- STA 16\n",
    "- STB 4\n",
    "- STC 12\n",
    "- IGA 4\n",
    "- IGB 4\n",
    "\n",
    "2016 S1:\n",
    "- STA 12\n",
    "- STB 12\n",
    "- STC 4\n",
    "\n",
    "2016 S2:\n",
    "- STA 12\n",
    "- STB 4\n",
    "- STC 12\n",
    "\n",
    "2017 S1:\n",
    "- STA 8\n",
    "- STB 8\n",
    "- STC 4\n",
    "\n",
    "2017 S2:\n",
    "- STA 8\n",
    "- STB 8\n",
    "- STC 4"
   ]
  },
  {
   "cell_type": "code",
   "execution_count": 13,
   "metadata": {},
   "outputs": [],
   "source": [
    "jacq_dic = {\"2015\" : { \"S1\" : \n",
    "                      {\"STA\" : 12,\n",
    "                       \"STB\" : 12,\n",
    "                       \"STC\" : 4}, \n",
    "                      \"S2\" : \n",
    "                      {\"STA\" : 16,\n",
    "                       \"STB\" : 4,\n",
    "                       \"STC\" : 12, \n",
    "                       \"IGA\" : 4,\n",
    "                       \"IGB\" : 4}\n",
    "                     },\n",
    "            \"2016\" : { \"S1\" : \n",
    "                      {\"STA\" : 12,\n",
    "                       \"STB\" : 12,\n",
    "                       \"STC\" : 4}, \n",
    "                      \"S2\" : \n",
    "                      {\"STA\" : 12,\n",
    "                       \"STB\" : 4,\n",
    "                       \"STC\" : 12}\n",
    "                     },\n",
    "            \"2017\" : { \"S1\" : \n",
    "                      {\"STA\" : 8,\n",
    "                       \"STB\" : 8,\n",
    "                       \"STC\" : 4}, \n",
    "                      \"S2\" : \n",
    "                      {\"STA\" : 8,\n",
    "                       \"STB\" : 8,\n",
    "                       \"STC\" : 4}\n",
    "                     }\n",
    "            \n",
    "           }"
   ]
  },
  {
   "cell_type": "markdown",
   "metadata": {},
   "source": [
    "## Dim Temps"
   ]
  },
  {
   "cell_type": "code",
   "execution_count": 14,
   "metadata": {},
   "outputs": [],
   "source": [
    "df_tps = df.loc[:,[\"index\",\"time_year\",\"semestre\"]]\n",
    "df_tps[\"unicite\"] = df.loc[:,[\"time_year\",\"semestre\"]].apply(lambda var : var[\"time_year\"]+\"-\"+var[\"semestre\"],axis = 1)\n",
    "\n",
    "df_tps = get_ind2(df_tps)\n",
    "df_tps.drop(\"index\",axis=1,inplace=True)\n",
    "df_tps.reset_index(inplace=True)\n",
    "df_tps.drop(\"index\",axis=1,inplace=True)\n",
    "df_tps.reset_index(inplace=True)\n",
    "\n",
    "col = ['time_id', 'annee', 'semestre', 'unicite']\n",
    "df_tps.columns = col\n",
    "\n",
    "df[\"time_id\"] = df.apply(lambda var : df_tps[df_tps[\"unicite\"] == var[\"unicite\"]].index[0],axis = 1)\n",
    "df_tps.drop(\"unicite\",inplace= True,axis=1)"
   ]
  },
  {
   "cell_type": "markdown",
   "metadata": {},
   "source": [
    "## Dim Etudiant"
   ]
  },
  {
   "cell_type": "code",
   "execution_count": 15,
   "metadata": {},
   "outputs": [],
   "source": [
    "df_student = df.loc[:,[\"index\",\"N° Etudiant\",\"Nom\",\"Prénom\",\"time_year\"]]\n",
    "df_student = get_ind2(df_student)\n",
    "\n",
    "df_student.drop(\"index\",axis=1,inplace=True)\n",
    "df_student.reset_index(inplace=True)\n",
    "df_student.drop(\"index\",axis=1,inplace=True)\n",
    "df_student.reset_index(inplace=True)\n",
    "\n",
    "col = list(df_student.columns)\n",
    "col[0] = \"std ID\"\n",
    "df_student.columns = col\n",
    "\n",
    "df[\"std ID\"] = df.apply(lambda var : df_student[df_student[\"N° Etudiant\"] == var[\"N° Etudiant\"]].index[0],axis = 1)"
   ]
  },
  {
   "cell_type": "markdown",
   "metadata": {},
   "source": [
    "## Dim UV"
   ]
  },
  {
   "cell_type": "code",
   "execution_count": 16,
   "metadata": {},
   "outputs": [],
   "source": [
    "df_UV = df.loc[:,[\"index\",\"nom_UV\",\"code_UV\",\"time_year\",\"semestre\"]]\n",
    "df_UV = get_ind2(df_UV)\n",
    "df_UV.drop(\"index\",axis=1,inplace=True)\n",
    "df_UV.reset_index(inplace=True)\n",
    "df_UV.drop(\"index\",axis=1,inplace=True)\n",
    "df_UV.reset_index(inplace=True)\n",
    "\n",
    "col = list(df_UV.columns)\n",
    "col[0] = \"uv ID\"\n",
    "df_UV.columns = col\n",
    "\n",
    "df[\"UV ID\"] = df.apply(lambda var : df_UV[(df_UV[\"nom_UV\"] == var[\"nom_UV\"]) & (df_UV[\"code_UV\"] == var[\"code_UV\"]) & (df_UV[\"time_year\"] == var[\"time_year\"]) & (df_UV[\"semestre\"] == var[\"semestre\"])][\"uv ID\"].index[0],axis = 1)"
   ]
  },
  {
   "cell_type": "markdown",
   "metadata": {},
   "source": [
    "## Dim CS"
   ]
  },
  {
   "cell_type": "code",
   "execution_count": 17,
   "metadata": {},
   "outputs": [],
   "source": [
    "df_cs = df.loc[:,[\"index\",\"idcss\",\"responsable_UE\",\"libelle_UE\",\"codeCS\",\"semestre\",\"time_year\"]]\n",
    "df_cs = get_ind2(df_cs)\n",
    "df_cs.drop(\"index\",axis=1,inplace=True)\n",
    "df_cs.reset_index(inplace=True)\n",
    "df_cs.drop(\"index\",axis=1,inplace=True)\n",
    "df_cs.reset_index(inplace=True)\n",
    "\n",
    "col = ['cs ID', 'idcss', 'respoCS', 'nom_CS', 'codeCS','semestre','annee']\n",
    "df_cs.columns = col\n",
    "\n",
    "df[\"cs ID\"] = df.apply(lambda var : df_cs[(df_cs[\"idcss\"] == var[\"idcss\"]) & (df_cs[\"semestre\"] == var[\"semestre\"]) & (df_cs[\"annee\"] == var[\"time_year\"])].index[0],axis = 1)\n",
    "\n",
    "df_cs.drop(\"idcss\",inplace= True,axis=1)\n",
    "mandatory = ['STA','STB','STC','IGA','IGB']\n",
    "df_cs[\"jacq\"] = df_cs.apply(lambda line : jacq_dic[line[\"annee\"]][line[\"semestre\"]][line[\"codeCS\"]] if line[\"codeCS\"] in mandatory else  4,axis = 1)"
   ]
  },
  {
   "cell_type": "code",
   "execution_count": 18,
   "metadata": {},
   "outputs": [
    {
     "data": {
      "text/plain": [
       "Index(['cs ID', 'respoCS', 'nom_CS', 'codeCS', 'semestre', 'annee', 'jacq'], dtype='object')"
      ]
     },
     "execution_count": 18,
     "metadata": {},
     "output_type": "execute_result"
    }
   ],
   "source": [
    "df_cs.columns"
   ]
  },
  {
   "cell_type": "markdown",
   "metadata": {},
   "source": [
    "## Dim CG"
   ]
  },
  {
   "cell_type": "code",
   "execution_count": 19,
   "metadata": {},
   "outputs": [],
   "source": [
    "rel_CG_nom = {\"IG\": \"Compétences en ingénierie\",\n",
    "             \"interp\": \"Compétences interpersonnelles\",\n",
    "             \"intra\" : \"Compétences intra-personnelles\",\n",
    "             \"ST\" : \"Compétences scientifiques et techniques\"}\n",
    "df_cg = df.loc[:,[\"index\",\"codeCS\"]]\n",
    "df_cg[\"codeCS\"] = df_cg[\"codeCS\"].apply(lambda var: var[0:-1])\n",
    "df_cg[\"cg_nom\"] = df_cg[\"codeCS\"].apply(lambda var: rel_CG_nom[var])\n",
    "\n",
    "df_cg = get_ind2(df_cg)\n",
    "\n",
    "df_cg.drop(\"index\",axis=1,inplace=True)\n",
    "df_cg.reset_index(inplace=True)\n",
    "df_cg.drop(\"index\",axis=1,inplace=True)\n",
    "df_cg.reset_index(inplace=True)\n",
    "\n",
    "col = [\"cg id\",\"code cg\",\"cg_nom\"]\n",
    "df_cg.columns = col\n",
    "\n",
    "df[\"cg ID\"] = df.apply(lambda var : df_cg[df_cg[\"code cg\"] == var[\"codeCS\"][:-1]].index[0],axis = 1)"
   ]
  },
  {
   "cell_type": "code",
   "execution_count": 20,
   "metadata": {},
   "outputs": [
    {
     "data": {
      "text/plain": [
       "Index(['cg id', 'code cg', 'cg_nom'], dtype='object')"
      ]
     },
     "execution_count": 20,
     "metadata": {},
     "output_type": "execute_result"
    }
   ],
   "source": [
    "df_cg.columns"
   ]
  },
  {
   "cell_type": "markdown",
   "metadata": {},
   "source": [
    "# Degenerated Dim UvGrade"
   ]
  },
  {
   "cell_type": "code",
   "execution_count": 21,
   "metadata": {},
   "outputs": [],
   "source": [
    "temp = {'id' : [0,1,2,3,4,5], 'symbol' : ['+','=','-','','ABS','DIS']}\n",
    "uv_grade = pd.DataFrame(temp)"
   ]
  },
  {
   "cell_type": "code",
   "execution_count": 22,
   "metadata": {},
   "outputs": [],
   "source": [
    "dic_temp = {'+':0,'=':1,'-':2, np.nan:3,'ABS':4,'DIS':5}"
   ]
  },
  {
   "cell_type": "code",
   "execution_count": 23,
   "metadata": {},
   "outputs": [],
   "source": [
    "df['uv_grade_ID'] = df.apply(lambda var : dic_temp[var['note']], axis =1)"
   ]
  },
  {
   "cell_type": "markdown",
   "metadata": {},
   "source": [
    "# Dim Grade ECTS"
   ]
  },
  {
   "cell_type": "code",
   "execution_count": 24,
   "metadata": {},
   "outputs": [
    {
     "data": {
      "text/plain": [
       "array(['atteint', 'en dessous', 'au dessus', nan], dtype=object)"
      ]
     },
     "execution_count": 24,
     "metadata": {},
     "output_type": "execute_result"
    }
   ],
   "source": [
    "df[\"Grade\"].unique()"
   ]
  },
  {
   "cell_type": "code",
   "execution_count": 25,
   "metadata": {},
   "outputs": [],
   "source": [
    "temp = {'id' : [0,1,2,3,4,5,6,7], \n",
    "        'grade_ECTS' : ['A','B','C','D','E','F','FX',''], \n",
    "        'grade_atteint' : ['au dessus','atteint','atteint','atteint','atteint','en dessous','en dessous','']}\n",
    "cpt_grade = pd.DataFrame(temp)"
   ]
  },
  {
   "cell_type": "code",
   "execution_count": 26,
   "metadata": {},
   "outputs": [],
   "source": [
    "dic_temp = {'A':0,'B':1,'C':2,'D':3,'E':4,'F':5,'FX':6,np.nan:7}"
   ]
  },
  {
   "cell_type": "code",
   "execution_count": 27,
   "metadata": {},
   "outputs": [],
   "source": [
    "df['cpt_grade_ID'] = df.apply(lambda var: dic_temp[var['Grade ECTS']],axis =1)"
   ]
  },
  {
   "cell_type": "markdown",
   "metadata": {},
   "source": [
    "# Dim Degenerated Lieu"
   ]
  },
  {
   "cell_type": "code",
   "execution_count": 28,
   "metadata": {},
   "outputs": [],
   "source": [
    "temp = {'id' : [0], 'lieu': ['Nantes']}\n",
    "lieu_d = pd.DataFrame(temp)\n",
    "dic_temp = {'Nantes': 0}\n",
    "df['lieu_ID'] = df.apply(lambda var : dic_temp[var['lieu']],axis =1)"
   ]
  },
  {
   "cell_type": "code",
   "execution_count": 29,
   "metadata": {},
   "outputs": [
    {
     "data": {
      "text/plain": [
       "Index(['id', 'lieu'], dtype='object')"
      ]
     },
     "execution_count": 29,
     "metadata": {},
     "output_type": "execute_result"
    }
   ],
   "source": [
    "lieu_d.columns"
   ]
  },
  {
   "cell_type": "markdown",
   "metadata": {},
   "source": [
    "## Fact Table TDFNotes"
   ]
  },
  {
   "cell_type": "code",
   "execution_count": 30,
   "metadata": {},
   "outputs": [],
   "source": [
    "def jnote(line):\n",
    "    if line[\"note\"] == \"+\":\n",
    "        return 5\n",
    "    elif line[\"note\"] == \"=\":\n",
    "        return 4\n",
    "    else: \n",
    "        return 0"
   ]
  },
  {
   "cell_type": "code",
   "execution_count": 31,
   "metadata": {},
   "outputs": [],
   "source": [
    "ft_notes = df.loc[:,[\"cs ID\",\"UV ID\",\"time_id\",\"std ID\",\"lieu_ID\",\"note\"]]\n",
    "ft_notes[\"jetons_acquis\"] = ft_notes.apply(lambda line: jnote(line), axis = 1)\n",
    "ft_notes.drop(\"note\",inplace = True, axis = 1)"
   ]
  },
  {
   "cell_type": "markdown",
   "metadata": {},
   "source": [
    "## Fact Table TDF_csuv"
   ]
  },
  {
   "cell_type": "code",
   "execution_count": 32,
   "metadata": {},
   "outputs": [],
   "source": [
    "ft_csuv = df.loc[:,[\"cs ID\",\"UV ID\"]]\n",
    "\n",
    "def niv_cs(line):\n",
    "    tmp = df_cs[df_cs[\"cs ID\"] == line[\"cs ID\"]]\n",
    "\n",
    "    if tmp[\"semestre\"][tmp.index[0]] == \"S1\":\n",
    "        return 1\n",
    "    elif tmp[\"semestre\"][tmp.index[0]] == \"S2\" :\n",
    "        return 2\n",
    "\n",
    "ft_csuv[\"niveau_CS\"] = ft_csuv.apply(lambda line : niv_cs(line),axis = 1)\n",
    "ft_csuv[\"nb_jetons\"] = 4\n",
    "ft_csuv.drop_duplicates(inplace=True)"
   ]
  },
  {
   "cell_type": "markdown",
   "metadata": {},
   "source": [
    "#"
   ]
  },
  {
   "cell_type": "markdown",
   "metadata": {},
   "source": [
    "## Fact Table TDF_cscg"
   ]
  },
  {
   "cell_type": "code",
   "execution_count": 33,
   "metadata": {},
   "outputs": [],
   "source": [
    "ft_cscg = df.loc[:,[\"cs ID\",\"cg ID\"]]\n",
    "ft_cscg = ft_cscg.drop_duplicates()"
   ]
  },
  {
   "cell_type": "markdown",
   "metadata": {},
   "source": [
    "# Dim dégénéré CS code"
   ]
  },
  {
   "cell_type": "code",
   "execution_count": 34,
   "metadata": {},
   "outputs": [],
   "source": [
    "df_csdegen = df.loc[:,[\"codeCS\"]].drop_duplicates()\n",
    "df_csdegen = df_csdegen.reset_index().drop(\"index\",axis=1).reset_index()\n",
    "df_csdegen.columns = [\"code_cs_ID\",\"code_CS\"]"
   ]
  },
  {
   "cell_type": "markdown",
   "metadata": {},
   "source": [
    "# Fact Table TDF_csnote"
   ]
  },
  {
   "cell_type": "code",
   "execution_count": 35,
   "metadata": {},
   "outputs": [],
   "source": [
    "def ret_niv_jetons(line):\n",
    "    cc = ft_notes[(ft_notes[\"std ID\"] == line[\"std ID\"]) & (ft_notes[\"cs ID\"].isin(df_cs[df_cs[\"codeCS\"] == line[\"codeCS\"]].index))].groupby(\"cs ID\").sum()\n",
    "    cc = cc.reset_index()\n",
    "    cc[\"jacq\"] = cc.apply(lambda line : list(df_cs[df_cs[\"cs ID\"] == line[\"cs ID\"]][\"jacq\"])[0],axis = 1)\n",
    "    cc[\"jetons_acquis\"] = cc.apply(lambda line : str(line[\"jetons_acquis\"]) +\"_\"+str(ret_nv(line))+\"_\"+str(line[\"jacq\"]),axis = 1)\n",
    "    return \"-\".join(list(cc[\"jetons_acquis\"]))\n",
    "\n",
    "def ret_nv(line):\n",
    "    s = list(df_cs[df_cs[\"cs ID\"] == line[\"cs ID\"]][\"semestre\"])[0]\n",
    "    if(s == \"S1\"):\n",
    "        return 1\n",
    "    else:\n",
    "        return 2\n",
    "\n",
    "def retnbjeton(line):\n",
    "    jsum = sum(ft_notes[(ft_notes[\"std ID\"] == line[\"std ID\"]) & (ft_notes[\"cs ID\"] == line[\"cs ID\"]) ][\"jetons_acquis\"])\n",
    "    jaac = list(df_cs[df_cs[\"cs ID\"] == line[\"cs ID\"]][\"jacq\"])[0]\n",
    "    if jsum > jaac :\n",
    "        return jaac\n",
    "    else:\n",
    "        return jsum\n",
    "\n",
    "def niv_atteint(line):\n",
    "    if line[\"nb_jeton\"] == line[\"jetonmax\"]:\n",
    "        return line[\"niv\"]\n",
    "    else:\n",
    "        return 0\n",
    "\n",
    "\n",
    "def split_nv2(line):\n",
    "    l = line[\"tmp\"].split(\"-\")\n",
    "    if(len(l) == 2):\n",
    "        l = l[1]\n",
    "        \n",
    "    else :\n",
    "        l = l[0]\n",
    "        splitt = l.split(\"_\")\n",
    "        niv = splitt[1]\n",
    "        if (int(niv) != 2):\n",
    "            return 0\n",
    "        \n",
    "        ll = splitt[0]\n",
    "        if(int(ll) > int(splitt[2])):\n",
    "            ll = splitt[2]\n",
    "        return ll\n",
    "\n",
    "    splitt = l.split(\"_\")\n",
    "    ll = splitt[0]\n",
    "    if(int(ll) > int(splitt[2])):\n",
    "        ll = splitt[2]\n",
    "    return ll\n",
    "\n",
    "def split_nv1(line):\n",
    "    l = line[\"tmp\"].split(\"-\")[0]\n",
    "    \n",
    "    splitt = l.split(\"_\")\n",
    "    niveau = int(splitt[1])\n",
    "    if(niveau == 2):\n",
    "        return 0\n",
    "    \n",
    "    ll = splitt[0]\n",
    "    if(int(ll) > int(splitt[2])):\n",
    "        ll = splitt[2]\n",
    "    return ll\n",
    "\n",
    "def splitjacq_nv1(line):\n",
    "    l = line[\"tmp\"].split(\"-\")[0]\n",
    "    splitt = l.split(\"_\")\n",
    "    niveau = int(splitt[1])\n",
    "    if(niveau == 2):\n",
    "        return 0\n",
    "    return splitt[2]\n",
    "\n",
    "def splitjacq_nv2(line):\n",
    "    l = line[\"tmp\"].split(\"-\")\n",
    "    if(len(l) == 2):\n",
    "        l = l[1]\n",
    "    else :\n",
    "        l = l[0]\n",
    "        splitt = l.split(\"_\")\n",
    "        niv = splitt[1]\n",
    "        if (int(niv) != 2):\n",
    "            return 0\n",
    "        return splitt[2]\n",
    "\n",
    "    splitt = l.split(\"_\")\n",
    "    return splitt[2] \n",
    "\n",
    "\n",
    "def niveau_atteint(line):\n",
    "    nbj2a = int(line[\"nbre_jetons_niveau2_acquis\"])\n",
    "    nbj1a = int(line[\"nbre_jetons_niveau1_acquis\"])\n",
    "    tmpjac2 = int(line[\"tmp_jac2\"])\n",
    "    tmpjac1 = int(line[\"tmp_jac1\"])\n",
    "    if((nbj2a == tmpjac2) and (tmpjac2 != 0)):\n",
    "        return 2\n",
    "    elif((nbj1a == tmpjac1) and (tmpjac1 !=0)):\n",
    "        return 1\n",
    "    elif((nbj1a + nbj2a >= tmpjac1) and (tmpjac1 != 0)):\n",
    "        return 1\n",
    "    else:\n",
    "        return 0\n",
    "\n",
    "def ratio_jeton_niv_2(line):\n",
    "    nv_cs = int(line[\"niveau_atteint_Cs\"])\n",
    "    tmpjac = int(line[\"tmp_jac2\"])\n",
    "    if nv_cs == 2:\n",
    "        return 100\n",
    "    elif nv_cs == 0:\n",
    "        return 0\n",
    "    elif tmpjac == 0:\n",
    "        return 0\n",
    "    else:\n",
    "        return 100*int(line[\"nbre_jetons_niveau2_acquis\"])/tmpjac\n",
    "\n",
    "def ratio_jeton_niv_1(line):\n",
    "    nv_cs = int(line[\"niveau_atteint_Cs\"])\n",
    "    tmpjac = int(line[\"tmp_jac1\"])\n",
    "    if nv_cs == 2:\n",
    "        return 100\n",
    "    elif (nv_cs == 1):\n",
    "        return 100\n",
    "    elif tmpjac == 0:\n",
    "        return 0\n",
    "    else:\n",
    "        return 100*int(line[\"nbre_jetons_niveau1_acquis\"])/tmpjac"
   ]
  },
  {
   "cell_type": "code",
   "execution_count": 36,
   "metadata": {},
   "outputs": [],
   "source": [
    "def ret_nivmax_poss(line):\n",
    "    spli = line[\"tmp\"].split(\"-\")\n",
    "    if len(spli) == 2:\n",
    "        return 2\n",
    "    spli = spli[0].split(\"_\")\n",
    "    if int(spli[1]) == 2:\n",
    "        return 2\n",
    "    else:\n",
    "        return 1"
   ]
  },
  {
   "cell_type": "code",
   "execution_count": 37,
   "metadata": {},
   "outputs": [],
   "source": [
    "ft_csnote = df.loc[:,[\"std ID\",\"codeCS\"]]\n",
    "ft_csnote.drop_duplicates(inplace= True)\n",
    "ft_csnote[\"tmp\"] = ft_csnote.apply(lambda line : ret_niv_jetons(line),axis=1)"
   ]
  },
  {
   "cell_type": "code",
   "execution_count": 38,
   "metadata": {},
   "outputs": [],
   "source": [
    "ft_csnote[\"nbre_jetons_niveau1_acquis\"] = ft_csnote.apply(lambda line : split_nv1(line),axis = 1)\n",
    "ft_csnote[\"nbre_jetons_niveau2_acquis\"] = ft_csnote.apply(lambda line : split_nv2(line),axis = 1)\n",
    "ft_csnote[\"tmp_jac1\"] = ft_csnote.apply(lambda line : splitjacq_nv1(line),axis = 1)\n",
    "ft_csnote[\"tmp_jac2\"] = ft_csnote.apply(lambda line : splitjacq_nv2(line),axis = 1)\n",
    "ft_csnote[\"niveau_atteint_Cs\"] = ft_csnote.apply(lambda line : niveau_atteint(line),axis = 1)"
   ]
  },
  {
   "cell_type": "code",
   "execution_count": 39,
   "metadata": {
    "scrolled": true
   },
   "outputs": [],
   "source": [
    "ft_csnote[\"ratio_jeton_niv_de_0_à_1\"] =ft_csnote.apply(lambda line : ratio_jeton_niv_1(line),axis = 1)\n",
    "ft_csnote[\"ratio_jeton_niv_de_1_à_2\"] =ft_csnote.apply(lambda line : ratio_jeton_niv_2(line),axis = 1)\n",
    "ft_csnote[\"niv_max_possible\"] = ft_csnote.apply(lambda line : ret_nivmax_poss(line),axis =1)"
   ]
  },
  {
   "cell_type": "code",
   "execution_count": 40,
   "metadata": {},
   "outputs": [],
   "source": [
    "ft_csnote.drop([\"tmp\",\"tmp_jac1\",\"tmp_jac2\"],axis = 1,inplace=True)\n",
    "ft_csnote[\"codeCS\"] = ft_csnote[\"codeCS\"].apply(lambda col : list(df_csdegen[df_csdegen[\"code_CS\"] == col][\"code_cs_ID\"])[0])\n",
    "ft_csnote.columns = ['std_ID', 'code_cs_ID', 'nbre_jetons_niveau1_acquis',\n",
    "       'nbre_jetons_niveau2_acquis', 'niveau_atteint_Cs','ratio_jeton_niv_de_0_à_1', 'ratio_jeton_niv_de_1_à_2',\n",
    "       'niv_max_possible']"
   ]
  },
  {
   "cell_type": "code",
   "execution_count": 41,
   "metadata": {},
   "outputs": [],
   "source": [
    "def get_missing_line_cs(std):\n",
    "    comp = [0,1,2,3,4,5,6,7,8,9]\n",
    "    list_code_cs = list(std[\"code_cs_ID\"])\n",
    "    myset = set(comp).difference(list_code_cs)\n",
    "    toappend = []\n",
    "    for k in myset:\n",
    "        toappend.append(k)\n",
    "    line_to_append[list(std[\"std_ID\"])[0]] = toappend"
   ]
  },
  {
   "cell_type": "code",
   "execution_count": 42,
   "metadata": {},
   "outputs": [],
   "source": [
    "grp_by_std = ft_csnote.groupby(\"std_ID\")\n",
    "line_to_append ={}\n",
    "\n",
    "grp_by_std.apply(lambda line : get_missing_line_cs(line))\n",
    "\n",
    "copy_dic = copy.deepcopy(line_to_append)\n",
    "for k in copy_dic:\n",
    "    if line_to_append[k] == []:\n",
    "        line_to_append.pop(k)\n",
    "        \n",
    "std_col = []\n",
    "code_cs_col = []\n",
    "\n",
    "\n",
    "for k in line_to_append.items():\n",
    "    lenn = len(k[1])\n",
    "    std_id = [k[0]]*lenn\n",
    "    code_cs = k[1]\n",
    "    code_cs_col.append(code_cs)\n",
    "    std_col.append(std_id)\n",
    "\n",
    "std_pd = [item for sublist in std_col for item in sublist]\n",
    "code_cs_ID_pd = [item for sublist in code_cs_col for item in sublist]\n",
    "nbre_jetons_niveau1_acquis_pd = [0]*len(code_cs_ID_pd)\n",
    "nbre_jetons_niveau2_acquis_pd = [0]*len(code_cs_ID_pd)\n",
    "niveau_atteint_Cs_pd = [0]*len(code_cs_ID_pd)\n",
    "ratio_jeton_niv_de_0_à_1_pd = [0]*len(code_cs_ID_pd)\n",
    "ratio_jeton_niv_de_1_à_2_pd = [0]*len(code_cs_ID_pd)\n",
    "niv_max_possible_pd = [0]*len(code_cs_ID_pd)\n",
    "\n",
    "df_toappend = pd.DataFrame(data= {\n",
    "    \"std_ID\":std_pd,\n",
    "    \"code_cs_ID\" : code_cs_ID_pd,\n",
    "    \"nbre_jetons_niveau1_acquis\":nbre_jetons_niveau1_acquis_pd,\n",
    "    \"nbre_jetons_niveau2_acquis\":nbre_jetons_niveau2_acquis_pd,\n",
    "    \"niveau_atteint_Cs\":niveau_atteint_Cs_pd,\n",
    "    \"ratio_jeton_niv_de_0_à_1\":ratio_jeton_niv_de_0_à_1_pd,\n",
    "    \"ratio_jeton_niv_de_1_à_2\":ratio_jeton_niv_de_1_à_2_pd,\n",
    "    \"niv_max_possible\":niv_max_possible_pd\n",
    "    })"
   ]
  },
  {
   "cell_type": "code",
   "execution_count": 43,
   "metadata": {},
   "outputs": [],
   "source": [
    "ft_csnote = ft_csnote.append(df_toappend)\n",
    "ft_csnote[\"ratio_jeton_niv_de_1_à_2\"] = ft_csnote[\"ratio_jeton_niv_de_1_à_2\"].apply(round)\n",
    "ft_csnote[\"ratio_jeton_niv_de_0_à_1\"] = ft_csnote[\"ratio_jeton_niv_de_0_à_1\"].apply(round)"
   ]
  },
  {
   "cell_type": "markdown",
   "metadata": {},
   "source": [
    "# tests"
   ]
  },
  {
   "cell_type": "code",
   "execution_count": 44,
   "metadata": {},
   "outputs": [
    {
     "data": {
      "text/html": [
       "<div>\n",
       "<style scoped>\n",
       "    .dataframe tbody tr th:only-of-type {\n",
       "        vertical-align: middle;\n",
       "    }\n",
       "\n",
       "    .dataframe tbody tr th {\n",
       "        vertical-align: top;\n",
       "    }\n",
       "\n",
       "    .dataframe thead th {\n",
       "        text-align: right;\n",
       "    }\n",
       "</style>\n",
       "<table border=\"1\" class=\"dataframe\">\n",
       "  <thead>\n",
       "    <tr style=\"text-align: right;\">\n",
       "      <th></th>\n",
       "      <th>std_ID</th>\n",
       "      <th>code_cs_ID</th>\n",
       "      <th>nbre_jetons_niveau1_acquis</th>\n",
       "      <th>nbre_jetons_niveau2_acquis</th>\n",
       "      <th>niveau_atteint_Cs</th>\n",
       "      <th>ratio_jeton_niv_de_0_à_1</th>\n",
       "      <th>ratio_jeton_niv_de_1_à_2</th>\n",
       "      <th>niv_max_possible</th>\n",
       "    </tr>\n",
       "  </thead>\n",
       "  <tbody>\n",
       "  </tbody>\n",
       "</table>\n",
       "</div>"
      ],
      "text/plain": [
       "Empty DataFrame\n",
       "Columns: [std_ID, code_cs_ID, nbre_jetons_niveau1_acquis, nbre_jetons_niveau2_acquis, niveau_atteint_Cs, ratio_jeton_niv_de_0_à_1, ratio_jeton_niv_de_1_à_2, niv_max_possible]\n",
       "Index: []"
      ]
     },
     "execution_count": 44,
     "metadata": {},
     "output_type": "execute_result"
    }
   ],
   "source": [
    "ft_csnote[(ft_csnote[\"ratio_jeton_niv_de_0_à_1\"] == 0) & (ft_csnote[\"ratio_jeton_niv_de_1_à_2\"] == 100) ]"
   ]
  },
  {
   "cell_type": "markdown",
   "metadata": {},
   "source": [
    "pour nivmaxpossible"
   ]
  },
  {
   "cell_type": "code",
   "execution_count": null,
   "metadata": {},
   "outputs": [],
   "source": [
    "ft_csnote[(ft_csnote[\"tmp_jac2\"]== 0) & (ft_csnote[\"niv_max_possible\"] == 2)]\n",
    "ft_csnote[(ft_csnote[\"tmp_jac1\"]== 0) & (ft_csnote[\"niv_max_possible\"] == 1)]"
   ]
  },
  {
   "cell_type": "code",
   "execution_count": null,
   "metadata": {},
   "outputs": [],
   "source": [
    "len(ft_cgnote) == 515*4"
   ]
  },
  {
   "cell_type": "markdown",
   "metadata": {},
   "source": [
    "cs bien ajoutée initialisée"
   ]
  },
  {
   "cell_type": "code",
   "execution_count": null,
   "metadata": {},
   "outputs": [],
   "source": [
    "unique = ft_csnote[\"std_ID\"].unique()\n",
    "goodlen = True\n",
    "for k in unique:\n",
    "    if len(ft_csnote[ft_csnote[\"std_ID\"] == k]) != 10:\n",
    "        print(k)\n",
    "        goodlen = False\n",
    "goodlen"
   ]
  },
  {
   "cell_type": "markdown",
   "metadata": {},
   "source": [
    "cg bien ajoutée initialisée"
   ]
  },
  {
   "cell_type": "code",
   "execution_count": null,
   "metadata": {},
   "outputs": [],
   "source": [
    "unique = ft_cgnote[\"std_ID\"].unique()\n",
    "goodlen = True\n",
    "for k in unique:\n",
    "    if len(ft_cgnote[ft_cgnote[\"std_ID\"] == k]) != 4:\n",
    "        print(k)\n",
    "        goodlen = False\n",
    "goodlen"
   ]
  },
  {
   "cell_type": "code",
   "execution_count": 160,
   "metadata": {},
   "outputs": [
    {
     "data": {
      "text/plain": [
       "True"
      ]
     },
     "execution_count": 160,
     "metadata": {},
     "output_type": "execute_result"
    }
   ],
   "source": [
    "len(niv_list) == len(std_list) == len(perc_list)"
   ]
  },
  {
   "cell_type": "markdown",
   "metadata": {},
   "source": [
    "# Fact table cgnote"
   ]
  },
  {
   "cell_type": "code",
   "execution_count": 46,
   "metadata": {},
   "outputs": [],
   "source": [
    "def ret_nivmaxcg(line):\n",
    "    if(line[\"cg_ID\"] == 0):\n",
    "        return 2\n",
    "    elif(line[\"cg_ID\"] == 1):\n",
    "        return 1\n",
    "    elif(line[\"cg_ID\"] == 2):\n",
    "        return 1\n",
    "    elif(line[\"cg_ID\"] == 3):\n",
    "        return 2\n",
    "\n",
    "def niv_median(line):\n",
    "    indices = list(df_csdegen[df_csdegen[\"code_CS\"].isin(df_cs.loc[list(ft_cscg[ft_cscg[\"cg ID\"] == line[\"cg ID\"]][\"cs ID\"])][\"codeCS\"].unique())][\"code_cs_ID\"])\n",
    "    mediann = round(ft_csnote[(ft_csnote[\"std_ID\"] == line[\"std ID\"]) & (ft_csnote[\"code_cs_ID\"].isin(indices))][\"niveau_atteint_Cs\"].median())\n",
    "    return int(mediann)"
   ]
  },
  {
   "cell_type": "code",
   "execution_count": 47,
   "metadata": {},
   "outputs": [],
   "source": [
    "ft_cgnote = df.loc[:,[\"std ID\",\"cg ID\"]].drop_duplicates()\n",
    "ft_cgnote[\"niveau_atteint_cg\"] = ft_cgnote.apply(lambda line : niv_median(line),axis = 1) \n",
    "ft_cgnote.columns = ['std_ID', 'cg_ID', 'niveau_atteint_Cg']\n",
    "ft_cgnote[\"niv_max_possible\"] = ft_cgnote.apply(lambda line : ret_nivmaxcg(line),axis = 1)"
   ]
  },
  {
   "cell_type": "markdown",
   "metadata": {},
   "source": [
    "Pour niv max de CG:\n",
    "- IG --> 2 pour l'année 2015, 0 pour le reste\n",
    "- ST --> 2 tout le temps\n",
    "- Intra et Interp --> 1"
   ]
  },
  {
   "cell_type": "code",
   "execution_count": 48,
   "metadata": {},
   "outputs": [],
   "source": [
    "def get_missing_line(std):\n",
    "    comp = [0,1,2,3]\n",
    "    list_cg = list(std[\"cg_ID\"])\n",
    "    myset = set(comp).difference(list_cg)\n",
    "    toappend = []\n",
    "    for k in myset:\n",
    "        toappend.append(k)\n",
    "    line_to_append[list(std[\"std_ID\"])[0]] = toappend"
   ]
  },
  {
   "cell_type": "code",
   "execution_count": 49,
   "metadata": {},
   "outputs": [],
   "source": [
    "grp_by_std = ft_cgnote.groupby(\"std_ID\")\n",
    "line_to_append ={}\n",
    "\n",
    "grp_by_std.apply(lambda line : get_missing_line(line))\n",
    "\n",
    "copy_dic = copy.deepcopy(line_to_append)\n",
    "for k in copy_dic:\n",
    "    if line_to_append[k] == []:\n",
    "        line_to_append.pop(k)\n",
    "        \n",
    "std_col = []\n",
    "cg_col = []\n",
    "\n",
    "\n",
    "for k in line_to_append.items():\n",
    "    lenn = len(k[1])\n",
    "    std_id = [k[0]]*lenn\n",
    "    cg = k[1]\n",
    "    cg_col.append(cg)\n",
    "    std_col.append(std_id)\n",
    "std_pd = [item for sublist in std_col for item in sublist]\n",
    "cg_pd = [item for sublist in cg_col for item in sublist]\n",
    "niv_atteint_pd = [0]*len(cg_pd)\n",
    "niv_max_possible_pd = [0]*len(std_pd)\n",
    "df_toappend = pd.DataFrame(data= {\"std_ID\":std_pd,\"cg_ID\" : cg_pd,\"niveau_atteint_Cg\":niv_atteint_pd, \"niv_max_possible\":niv_max_possible_pd})\n",
    "ft_cgnote = ft_cgnote.append(df_toappend)"
   ]
  },
  {
   "cell_type": "markdown",
   "metadata": {},
   "source": [
    "# Dim dégénéré percentage"
   ]
  },
  {
   "cell_type": "code",
   "execution_count": 50,
   "metadata": {},
   "outputs": [],
   "source": [
    "prrcentage = list(range(0,101))"
   ]
  },
  {
   "cell_type": "code",
   "execution_count": 51,
   "metadata": {},
   "outputs": [],
   "source": [
    "df_degenereperc = pd.DataFrame(data = {\"percentage_ID\" : prrcentage, \"value\" : prrcentage})"
   ]
  },
  {
   "cell_type": "markdown",
   "metadata": {},
   "source": [
    "# TDF_NiveauCsNonatteint"
   ]
  },
  {
   "cell_type": "markdown",
   "metadata": {},
   "source": [
    "1394    17-1-50\n",
    "\n",
    "4124    17-1-67\n",
    "\n",
    "niveau 1 + 67% du niveau 2 (entre 1 et 2)"
   ]
  },
  {
   "cell_type": "code",
   "execution_count": 211,
   "metadata": {},
   "outputs": [],
   "source": [
    "ft_nivCsnonAtteint = df.loc[:,'std ID'].copy(deep = True).drop_duplicates()\n",
    "list_niv_nonatteint = []\n",
    "def retrieve_cs_non_atteint_niv(line):\n",
    "    std_cs = ft_csnote[ft_csnote[\"std_ID\"] == line]\n",
    "    niv_1 = std_cs[std_cs[\"niveau_atteint_Cs\"] == 1]\n",
    "    niv_1_nonatteint = niv_1.apply(lambda line : str(line[\"std_ID\"]) + \"-\" + str(line[\"niveau_atteint_Cs\"]) + \"-\"+ str(line[\"ratio_jeton_niv_de_1_à_2\"]),axis= 1)\n",
    "    \n",
    "    niv_0 = std_cs[std_cs[\"niveau_atteint_Cs\"] == 0]\n",
    "    niv_0_nonatteint = niv_0.apply(lambda line : str(line[\"std_ID\"]) + \"-\" + str(line[\"niveau_atteint_Cs\"]) + \"-\"+ str(line[\"ratio_jeton_niv_de_0_à_1\"]) if(line[\"niv_max_possible\"] != 0) else None,axis= 1)\n",
    "    \n",
    "    niv_0_nonatteint = list(filter(lambda x : x if x!= None else None,list(niv_0_nonatteint)))\n",
    "    \n",
    "    niv_2 = std_cs[std_cs[\"niveau_atteint_Cs\"] == 2]\n",
    "    niv_2_nonatteint = niv_2.apply(lambda line : str(line[\"std_ID\"]) + \"-\" + str(line[\"niveau_atteint_Cs\"]) + \"-\"+ str(line[\"ratio_jeton_niv_de_1_à_2\"]),axis= 1)\n",
    "    \n",
    "    list_niv_nonatteint.append(list(niv_0_nonatteint))\n",
    "    list_niv_nonatteint.append(list(niv_1_nonatteint))\n",
    "    list_niv_nonatteint.append(list(niv_2_nonatteint))"
   ]
  },
  {
   "cell_type": "code",
   "execution_count": 212,
   "metadata": {},
   "outputs": [],
   "source": [
    "c = ft_nivCsnonAtteint.apply(lambda line : retrieve_cs_non_atteint_niv(line))"
   ]
  },
  {
   "cell_type": "code",
   "execution_count": 213,
   "metadata": {},
   "outputs": [],
   "source": [
    "torm = ['std_ID',\n",
    "  'code_cs_ID',\n",
    "  'nbre_jetons_niveau1_acquis',\n",
    "  'nbre_jetons_niveau2_acquis',\n",
    "  'niveau_atteint_Cs',\n",
    "  'ratio_jeton_niv_de_0_à_1',\n",
    "  'ratio_jeton_niv_de_1_à_2',\n",
    "  'niv_max_possible']\n",
    "torm2 = None"
   ]
  },
  {
   "cell_type": "code",
   "execution_count": 218,
   "metadata": {},
   "outputs": [],
   "source": [
    "list_niv_nonatteint = list(filter(lambda x : (x != torm) and (x != []),list_niv_nonatteint))\n",
    "list_niv_nonatteint_sorted = [item for sublist in list_niv_nonatteint for item in sublist ]\n",
    "list_niv_nonatteint_sorted = list(map(lambda x: x.split(\"-\"),list_niv_nonatteint_sorted))"
   ]
  },
  {
   "cell_type": "code",
   "execution_count": 220,
   "metadata": {},
   "outputs": [],
   "source": [
    "std_list = list(map(lambda x : int(x[0]),list_niv_nonatteint_sorted ))\n",
    "niv_list = list(map(lambda x : int(x[1]),list_niv_nonatteint_sorted ))\n",
    "perc_list = list(map(lambda x : int(x[2]),list_niv_nonatteint_sorted ))"
   ]
  },
  {
   "cell_type": "code",
   "execution_count": 221,
   "metadata": {},
   "outputs": [],
   "source": [
    "ft_nivCsnonAtteint = pd.DataFrame(data={\"std_ID\": std_list, \"niveau\" : niv_list, \"percentage\" : perc_list})\n",
    "ft_nivCsnonAtteint[\"nombre_cs_a_ce_niveau\"] = 1"
   ]
  },
  {
   "cell_type": "code",
   "execution_count": 222,
   "metadata": {},
   "outputs": [],
   "source": [
    "grpby = ft_nivCsnonAtteint.groupby([\"std_ID\",\"niveau\",\"percentage\"]).count()\n",
    "ft_nivCsnonAtteint = grpby.reset_index()"
   ]
  },
  {
   "cell_type": "markdown",
   "metadata": {},
   "source": [
    "# TDF_NiveauCgNonatteint"
   ]
  },
  {
   "cell_type": "markdown",
   "metadata": {},
   "source": [
    "niv_attendu"
   ]
  },
  {
   "cell_type": "code",
   "execution_count": 242,
   "metadata": {},
   "outputs": [],
   "source": [
    "ft_nivCgnonAtteint = df.loc[:,\"std ID\"].drop_duplicates()"
   ]
  },
  {
   "cell_type": "code",
   "execution_count": 254,
   "metadata": {},
   "outputs": [],
   "source": [
    "def diffniv(line):\n",
    "    diff = line[\"niv_max_possible\"] - line[\"niveau_atteint_Cg\"]\n",
    "    if diff <0:\n",
    "        return 0\n",
    "    else :\n",
    "        return diff"
   ]
  },
  {
   "cell_type": "code",
   "execution_count": 274,
   "metadata": {},
   "outputs": [],
   "source": [
    "nv_cg_non_atteint_list = []\n",
    "def retrieve_cg_non_atteint_niv(line):\n",
    "    notes = ft_cgnote[ft_cgnote[\"std_ID\"] == line] \n",
    "    temp = notes.apply(lambda line : str(line[\"std_ID\"]) + \"-\" + str(diffniv(line))+ \"-\" + str(line[\"niv_max_possible\"]),axis= 1)\n",
    "    nv_cg_non_atteint_list.append(list(temp))"
   ]
  },
  {
   "cell_type": "code",
   "execution_count": 275,
   "metadata": {},
   "outputs": [],
   "source": [
    "c = ft_nivCgnonAtteint.apply(lambda line : retrieve_cg_non_atteint_niv(line))"
   ]
  },
  {
   "cell_type": "code",
   "execution_count": 276,
   "metadata": {},
   "outputs": [],
   "source": [
    "nv_cg_non_atteint_list = [item for sublist in nv_cg_non_atteint_list for item in sublist]"
   ]
  },
  {
   "cell_type": "code",
   "execution_count": 277,
   "metadata": {},
   "outputs": [],
   "source": [
    "nv_cg_non_atteint_list = list(map(lambda l : l.split(\"-\"), nv_cg_non_atteint_list))"
   ]
  },
  {
   "cell_type": "markdown",
   "metadata": {},
   "source": [
    "Code : 0-0-2 : stdID-nbniveaumanquant-niv_max_possible"
   ]
  },
  {
   "cell_type": "code",
   "execution_count": 281,
   "metadata": {},
   "outputs": [],
   "source": [
    "std_id_list = list(map(lambda x : int(x[0]),nv_cg_non_atteint_list ))\n",
    "nb_nv_manquant_list = list(map(lambda x : int(x[1]),nv_cg_non_atteint_list ))\n",
    "niv_max_possible_list = list(map(lambda x : int(x[2]),nv_cg_non_atteint_list ))"
   ]
  },
  {
   "cell_type": "code",
   "execution_count": 284,
   "metadata": {},
   "outputs": [],
   "source": [
    "ft_nivCgnonAtteint = pd.DataFrame(data = {\"std_ID\" : std_id_list, \"nb_niv_manquant\": nb_nv_manquant_list, \"niv_max_possible\" :niv_max_possible_list })"
   ]
  },
  {
   "cell_type": "code",
   "execution_count": 287,
   "metadata": {},
   "outputs": [],
   "source": [
    "grpby = ft_nivCgnonAtteint.groupby([\"std_ID\",\"niv_max_possible\"]).sum()"
   ]
  },
  {
   "cell_type": "code",
   "execution_count": 298,
   "metadata": {},
   "outputs": [],
   "source": [
    "ft_nivCgnonAtteint = grpby.reset_index()"
   ]
  },
  {
   "cell_type": "markdown",
   "metadata": {},
   "source": [
    "# Creation data frame"
   ]
  },
  {
   "cell_type": "code",
   "execution_count": 42,
   "metadata": {},
   "outputs": [],
   "source": [
    "import itertools\n"
   ]
  },
  {
   "cell_type": "code",
   "execution_count": 43,
   "metadata": {},
   "outputs": [],
   "source": [
    "l = 100000\n",
    "idd = list(itertools.chain.from_iterable([[k,k,k] for k in range(l)]))"
   ]
  },
  {
   "cell_type": "code",
   "execution_count": 44,
   "metadata": {},
   "outputs": [],
   "source": [
    "tomax = [1,1,3,2,2,4,1,2,1,4,4,1,5,9,5]*int(l/5)"
   ]
  },
  {
   "cell_type": "code",
   "execution_count": 45,
   "metadata": {},
   "outputs": [],
   "source": [
    "junk = ['a']*(3*l)"
   ]
  },
  {
   "cell_type": "code",
   "execution_count": 46,
   "metadata": {},
   "outputs": [],
   "source": [
    "mydic = {\"id\": idd, \"tomax\": tomax, \"junk\": junk}\n",
    "mydf = pd.DataFrame(mydic)"
   ]
  },
  {
   "cell_type": "code",
   "execution_count": 47,
   "metadata": {},
   "outputs": [],
   "source": [
    "unique = mydf['id'].unique()"
   ]
  },
  {
   "cell_type": "code",
   "execution_count": 48,
   "metadata": {},
   "outputs": [
    {
     "data": {
      "text/html": [
       "<div>\n",
       "<style scoped>\n",
       "    .dataframe tbody tr th:only-of-type {\n",
       "        vertical-align: middle;\n",
       "    }\n",
       "\n",
       "    .dataframe tbody tr th {\n",
       "        vertical-align: top;\n",
       "    }\n",
       "\n",
       "    .dataframe thead th {\n",
       "        text-align: right;\n",
       "    }\n",
       "</style>\n",
       "<table border=\"1\" class=\"dataframe\">\n",
       "  <thead>\n",
       "    <tr style=\"text-align: right;\">\n",
       "      <th></th>\n",
       "      <th>id</th>\n",
       "      <th>tomax</th>\n",
       "      <th>junk</th>\n",
       "    </tr>\n",
       "  </thead>\n",
       "  <tbody>\n",
       "    <tr>\n",
       "      <th>2</th>\n",
       "      <td>0</td>\n",
       "      <td>3</td>\n",
       "      <td>a</td>\n",
       "    </tr>\n",
       "    <tr>\n",
       "      <th>5</th>\n",
       "      <td>1</td>\n",
       "      <td>4</td>\n",
       "      <td>a</td>\n",
       "    </tr>\n",
       "    <tr>\n",
       "      <th>7</th>\n",
       "      <td>2</td>\n",
       "      <td>2</td>\n",
       "      <td>a</td>\n",
       "    </tr>\n",
       "    <tr>\n",
       "      <th>9</th>\n",
       "      <td>3</td>\n",
       "      <td>4</td>\n",
       "      <td>a</td>\n",
       "    </tr>\n",
       "    <tr>\n",
       "      <th>13</th>\n",
       "      <td>4</td>\n",
       "      <td>9</td>\n",
       "      <td>a</td>\n",
       "    </tr>\n",
       "    <tr>\n",
       "      <th>17</th>\n",
       "      <td>5</td>\n",
       "      <td>3</td>\n",
       "      <td>a</td>\n",
       "    </tr>\n",
       "    <tr>\n",
       "      <th>20</th>\n",
       "      <td>6</td>\n",
       "      <td>4</td>\n",
       "      <td>a</td>\n",
       "    </tr>\n",
       "    <tr>\n",
       "      <th>22</th>\n",
       "      <td>7</td>\n",
       "      <td>2</td>\n",
       "      <td>a</td>\n",
       "    </tr>\n",
       "    <tr>\n",
       "      <th>24</th>\n",
       "      <td>8</td>\n",
       "      <td>4</td>\n",
       "      <td>a</td>\n",
       "    </tr>\n",
       "    <tr>\n",
       "      <th>28</th>\n",
       "      <td>9</td>\n",
       "      <td>9</td>\n",
       "      <td>a</td>\n",
       "    </tr>\n",
       "    <tr>\n",
       "      <th>32</th>\n",
       "      <td>10</td>\n",
       "      <td>3</td>\n",
       "      <td>a</td>\n",
       "    </tr>\n",
       "    <tr>\n",
       "      <th>35</th>\n",
       "      <td>11</td>\n",
       "      <td>4</td>\n",
       "      <td>a</td>\n",
       "    </tr>\n",
       "    <tr>\n",
       "      <th>37</th>\n",
       "      <td>12</td>\n",
       "      <td>2</td>\n",
       "      <td>a</td>\n",
       "    </tr>\n",
       "    <tr>\n",
       "      <th>39</th>\n",
       "      <td>13</td>\n",
       "      <td>4</td>\n",
       "      <td>a</td>\n",
       "    </tr>\n",
       "    <tr>\n",
       "      <th>43</th>\n",
       "      <td>14</td>\n",
       "      <td>9</td>\n",
       "      <td>a</td>\n",
       "    </tr>\n",
       "    <tr>\n",
       "      <th>47</th>\n",
       "      <td>15</td>\n",
       "      <td>3</td>\n",
       "      <td>a</td>\n",
       "    </tr>\n",
       "    <tr>\n",
       "      <th>50</th>\n",
       "      <td>16</td>\n",
       "      <td>4</td>\n",
       "      <td>a</td>\n",
       "    </tr>\n",
       "    <tr>\n",
       "      <th>52</th>\n",
       "      <td>17</td>\n",
       "      <td>2</td>\n",
       "      <td>a</td>\n",
       "    </tr>\n",
       "    <tr>\n",
       "      <th>54</th>\n",
       "      <td>18</td>\n",
       "      <td>4</td>\n",
       "      <td>a</td>\n",
       "    </tr>\n",
       "    <tr>\n",
       "      <th>58</th>\n",
       "      <td>19</td>\n",
       "      <td>9</td>\n",
       "      <td>a</td>\n",
       "    </tr>\n",
       "    <tr>\n",
       "      <th>62</th>\n",
       "      <td>20</td>\n",
       "      <td>3</td>\n",
       "      <td>a</td>\n",
       "    </tr>\n",
       "    <tr>\n",
       "      <th>65</th>\n",
       "      <td>21</td>\n",
       "      <td>4</td>\n",
       "      <td>a</td>\n",
       "    </tr>\n",
       "    <tr>\n",
       "      <th>67</th>\n",
       "      <td>22</td>\n",
       "      <td>2</td>\n",
       "      <td>a</td>\n",
       "    </tr>\n",
       "    <tr>\n",
       "      <th>69</th>\n",
       "      <td>23</td>\n",
       "      <td>4</td>\n",
       "      <td>a</td>\n",
       "    </tr>\n",
       "    <tr>\n",
       "      <th>73</th>\n",
       "      <td>24</td>\n",
       "      <td>9</td>\n",
       "      <td>a</td>\n",
       "    </tr>\n",
       "    <tr>\n",
       "      <th>77</th>\n",
       "      <td>25</td>\n",
       "      <td>3</td>\n",
       "      <td>a</td>\n",
       "    </tr>\n",
       "    <tr>\n",
       "      <th>80</th>\n",
       "      <td>26</td>\n",
       "      <td>4</td>\n",
       "      <td>a</td>\n",
       "    </tr>\n",
       "    <tr>\n",
       "      <th>82</th>\n",
       "      <td>27</td>\n",
       "      <td>2</td>\n",
       "      <td>a</td>\n",
       "    </tr>\n",
       "    <tr>\n",
       "      <th>84</th>\n",
       "      <td>28</td>\n",
       "      <td>4</td>\n",
       "      <td>a</td>\n",
       "    </tr>\n",
       "    <tr>\n",
       "      <th>88</th>\n",
       "      <td>29</td>\n",
       "      <td>9</td>\n",
       "      <td>a</td>\n",
       "    </tr>\n",
       "    <tr>\n",
       "      <th>...</th>\n",
       "      <td>...</td>\n",
       "      <td>...</td>\n",
       "      <td>...</td>\n",
       "    </tr>\n",
       "    <tr>\n",
       "      <th>299912</th>\n",
       "      <td>99970</td>\n",
       "      <td>3</td>\n",
       "      <td>a</td>\n",
       "    </tr>\n",
       "    <tr>\n",
       "      <th>299915</th>\n",
       "      <td>99971</td>\n",
       "      <td>4</td>\n",
       "      <td>a</td>\n",
       "    </tr>\n",
       "    <tr>\n",
       "      <th>299917</th>\n",
       "      <td>99972</td>\n",
       "      <td>2</td>\n",
       "      <td>a</td>\n",
       "    </tr>\n",
       "    <tr>\n",
       "      <th>299919</th>\n",
       "      <td>99973</td>\n",
       "      <td>4</td>\n",
       "      <td>a</td>\n",
       "    </tr>\n",
       "    <tr>\n",
       "      <th>299923</th>\n",
       "      <td>99974</td>\n",
       "      <td>9</td>\n",
       "      <td>a</td>\n",
       "    </tr>\n",
       "    <tr>\n",
       "      <th>299927</th>\n",
       "      <td>99975</td>\n",
       "      <td>3</td>\n",
       "      <td>a</td>\n",
       "    </tr>\n",
       "    <tr>\n",
       "      <th>299930</th>\n",
       "      <td>99976</td>\n",
       "      <td>4</td>\n",
       "      <td>a</td>\n",
       "    </tr>\n",
       "    <tr>\n",
       "      <th>299932</th>\n",
       "      <td>99977</td>\n",
       "      <td>2</td>\n",
       "      <td>a</td>\n",
       "    </tr>\n",
       "    <tr>\n",
       "      <th>299934</th>\n",
       "      <td>99978</td>\n",
       "      <td>4</td>\n",
       "      <td>a</td>\n",
       "    </tr>\n",
       "    <tr>\n",
       "      <th>299938</th>\n",
       "      <td>99979</td>\n",
       "      <td>9</td>\n",
       "      <td>a</td>\n",
       "    </tr>\n",
       "    <tr>\n",
       "      <th>299942</th>\n",
       "      <td>99980</td>\n",
       "      <td>3</td>\n",
       "      <td>a</td>\n",
       "    </tr>\n",
       "    <tr>\n",
       "      <th>299945</th>\n",
       "      <td>99981</td>\n",
       "      <td>4</td>\n",
       "      <td>a</td>\n",
       "    </tr>\n",
       "    <tr>\n",
       "      <th>299947</th>\n",
       "      <td>99982</td>\n",
       "      <td>2</td>\n",
       "      <td>a</td>\n",
       "    </tr>\n",
       "    <tr>\n",
       "      <th>299949</th>\n",
       "      <td>99983</td>\n",
       "      <td>4</td>\n",
       "      <td>a</td>\n",
       "    </tr>\n",
       "    <tr>\n",
       "      <th>299953</th>\n",
       "      <td>99984</td>\n",
       "      <td>9</td>\n",
       "      <td>a</td>\n",
       "    </tr>\n",
       "    <tr>\n",
       "      <th>299957</th>\n",
       "      <td>99985</td>\n",
       "      <td>3</td>\n",
       "      <td>a</td>\n",
       "    </tr>\n",
       "    <tr>\n",
       "      <th>299960</th>\n",
       "      <td>99986</td>\n",
       "      <td>4</td>\n",
       "      <td>a</td>\n",
       "    </tr>\n",
       "    <tr>\n",
       "      <th>299962</th>\n",
       "      <td>99987</td>\n",
       "      <td>2</td>\n",
       "      <td>a</td>\n",
       "    </tr>\n",
       "    <tr>\n",
       "      <th>299964</th>\n",
       "      <td>99988</td>\n",
       "      <td>4</td>\n",
       "      <td>a</td>\n",
       "    </tr>\n",
       "    <tr>\n",
       "      <th>299968</th>\n",
       "      <td>99989</td>\n",
       "      <td>9</td>\n",
       "      <td>a</td>\n",
       "    </tr>\n",
       "    <tr>\n",
       "      <th>299972</th>\n",
       "      <td>99990</td>\n",
       "      <td>3</td>\n",
       "      <td>a</td>\n",
       "    </tr>\n",
       "    <tr>\n",
       "      <th>299975</th>\n",
       "      <td>99991</td>\n",
       "      <td>4</td>\n",
       "      <td>a</td>\n",
       "    </tr>\n",
       "    <tr>\n",
       "      <th>299977</th>\n",
       "      <td>99992</td>\n",
       "      <td>2</td>\n",
       "      <td>a</td>\n",
       "    </tr>\n",
       "    <tr>\n",
       "      <th>299979</th>\n",
       "      <td>99993</td>\n",
       "      <td>4</td>\n",
       "      <td>a</td>\n",
       "    </tr>\n",
       "    <tr>\n",
       "      <th>299983</th>\n",
       "      <td>99994</td>\n",
       "      <td>9</td>\n",
       "      <td>a</td>\n",
       "    </tr>\n",
       "    <tr>\n",
       "      <th>299987</th>\n",
       "      <td>99995</td>\n",
       "      <td>3</td>\n",
       "      <td>a</td>\n",
       "    </tr>\n",
       "    <tr>\n",
       "      <th>299990</th>\n",
       "      <td>99996</td>\n",
       "      <td>4</td>\n",
       "      <td>a</td>\n",
       "    </tr>\n",
       "    <tr>\n",
       "      <th>299992</th>\n",
       "      <td>99997</td>\n",
       "      <td>2</td>\n",
       "      <td>a</td>\n",
       "    </tr>\n",
       "    <tr>\n",
       "      <th>299994</th>\n",
       "      <td>99998</td>\n",
       "      <td>4</td>\n",
       "      <td>a</td>\n",
       "    </tr>\n",
       "    <tr>\n",
       "      <th>299998</th>\n",
       "      <td>99999</td>\n",
       "      <td>9</td>\n",
       "      <td>a</td>\n",
       "    </tr>\n",
       "  </tbody>\n",
       "</table>\n",
       "<p>100000 rows × 3 columns</p>\n",
       "</div>"
      ],
      "text/plain": [
       "           id  tomax junk\n",
       "2           0      3    a\n",
       "5           1      4    a\n",
       "7           2      2    a\n",
       "9           3      4    a\n",
       "13          4      9    a\n",
       "17          5      3    a\n",
       "20          6      4    a\n",
       "22          7      2    a\n",
       "24          8      4    a\n",
       "28          9      9    a\n",
       "32         10      3    a\n",
       "35         11      4    a\n",
       "37         12      2    a\n",
       "39         13      4    a\n",
       "43         14      9    a\n",
       "47         15      3    a\n",
       "50         16      4    a\n",
       "52         17      2    a\n",
       "54         18      4    a\n",
       "58         19      9    a\n",
       "62         20      3    a\n",
       "65         21      4    a\n",
       "67         22      2    a\n",
       "69         23      4    a\n",
       "73         24      9    a\n",
       "77         25      3    a\n",
       "80         26      4    a\n",
       "82         27      2    a\n",
       "84         28      4    a\n",
       "88         29      9    a\n",
       "...       ...    ...  ...\n",
       "299912  99970      3    a\n",
       "299915  99971      4    a\n",
       "299917  99972      2    a\n",
       "299919  99973      4    a\n",
       "299923  99974      9    a\n",
       "299927  99975      3    a\n",
       "299930  99976      4    a\n",
       "299932  99977      2    a\n",
       "299934  99978      4    a\n",
       "299938  99979      9    a\n",
       "299942  99980      3    a\n",
       "299945  99981      4    a\n",
       "299947  99982      2    a\n",
       "299949  99983      4    a\n",
       "299953  99984      9    a\n",
       "299957  99985      3    a\n",
       "299960  99986      4    a\n",
       "299962  99987      2    a\n",
       "299964  99988      4    a\n",
       "299968  99989      9    a\n",
       "299972  99990      3    a\n",
       "299975  99991      4    a\n",
       "299977  99992      2    a\n",
       "299979  99993      4    a\n",
       "299983  99994      9    a\n",
       "299987  99995      3    a\n",
       "299990  99996      4    a\n",
       "299992  99997      2    a\n",
       "299994  99998      4    a\n",
       "299998  99999      9    a\n",
       "\n",
       "[100000 rows x 3 columns]"
      ]
     },
     "execution_count": 48,
     "metadata": {},
     "output_type": "execute_result"
    }
   ],
   "source": [
    "my_ind = mydf.groupby(['id'])['tomax'].idxmax()\n",
    "mydf.iloc[my_ind]"
   ]
  },
  {
   "cell_type": "code",
   "execution_count": null,
   "metadata": {},
   "outputs": [],
   "source": []
  }
 ],
 "metadata": {
  "kernelspec": {
   "display_name": "Python 3",
   "language": "python",
   "name": "python3"
  },
  "language_info": {
   "codemirror_mode": {
    "name": "ipython",
    "version": 3
   },
   "file_extension": ".py",
   "mimetype": "text/x-python",
   "name": "python",
   "nbconvert_exporter": "python",
   "pygments_lexer": "ipython3",
   "version": "3.6.7"
  }
 },
 "nbformat": 4,
 "nbformat_minor": 2
}
