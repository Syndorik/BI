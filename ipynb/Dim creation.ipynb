{
 "cells": [
  {
   "cell_type": "markdown",
   "metadata": {},
   "source": [
    "# Creation of dimension"
   ]
  },
  {
   "cell_type": "markdown",
   "metadata": {},
   "source": [
    "The purpose here is to extract the different dimension of the final_result file"
   ]
  },
  {
   "cell_type": "code",
   "execution_count": 246,
   "metadata": {},
   "outputs": [
    {
     "name": "stdout",
     "output_type": "stream",
     "text": [
      "The pandas version is 0.23.4.\n"
     ]
    }
   ],
   "source": [
    "import pandas as pd\n",
    "import numpy as np\n",
    "import random as rd\n",
    "pd.options.display.max_columns = 400\n",
    "print('The pandas version is {}.'.format(pd.__version__))\n",
    "import hashlib\n",
    "from rdgeneration import Rdgen\n",
    "pd.options.mode.chained_assignment = None \n",
    "import os"
   ]
  },
  {
   "cell_type": "markdown",
   "metadata": {},
   "source": [
    "## Import file"
   ]
  },
  {
   "cell_type": "code",
   "execution_count": 247,
   "metadata": {},
   "outputs": [],
   "source": [
    "df = pd.read_csv('../results/final_res.csv')"
   ]
  },
  {
   "cell_type": "markdown",
   "metadata": {},
   "source": [
    "## Dim Etudiant"
   ]
  },
  {
   "cell_type": "code",
   "execution_count": 277,
   "metadata": {},
   "outputs": [],
   "source": [
    "def get_ind(var,strr,dic,unique,printed):\n",
    "    if((var[printed] in unique) and (var[printed] not in dic) ):\n",
    "        dic[var[printed]] = var[strr]\n",
    "        \n",
    "def get_ind2(df):\n",
    "    df.drop('index', axis = 1,inplace=True)\n",
    "    df.drop_duplicates(inplace=True)\n",
    "    df.reset_index(inplace=True)\n",
    "    return df"
   ]
  },
  {
   "cell_type": "code",
   "execution_count": 249,
   "metadata": {},
   "outputs": [],
   "source": [
    "df[\"time_year\"] = df[\"N° Etudiant\"].apply(lambda var: var.split(\"_\")[0])\n",
    "df[\"codeCS\"] = df[\"code_UE\"].apply(lambda var : var.split('-')[0])\n",
    "df[\"idcss\"] = df.loc[:,[\"responsable_UE\",\"codeCS\"]].apply(lambda var : var[\"codeCS\"] + \"-\" +var[\"responsable_UE\"], axis=1)\n",
    "df[\"semestre\"] = df[\"code_UE\"].apply(lambda var : var.split(\"-\")[2])\n",
    "df[\"unicite\"] = df.loc[:,[\"time_year\",\"semestre\"]].apply(lambda var : var[\"time_year\"]+\"-\"+var[\"semestre\"],axis = 1)"
   ]
  },
  {
   "cell_type": "code",
   "execution_count": 250,
   "metadata": {},
   "outputs": [],
   "source": [
    "df.drop(\"Unnamed: 0\", inplace=True, axis=1)\n",
    "df.reset_index(inplace= True)"
   ]
  },
  {
   "cell_type": "markdown",
   "metadata": {},
   "source": [
    "### Definition des jetons"
   ]
  },
  {
   "cell_type": "markdown",
   "metadata": {},
   "source": [
    "On regarde libelleUE, codeCS et semestre pour avoir l'ensemble des UE et affecter les Jac aux differentes CS"
   ]
  },
  {
   "cell_type": "markdown",
   "metadata": {},
   "source": [
    "Au vu des résultats, les UVs ne sont pas pareils en fonction des années. Donc une CS pour 2015 peut être évalué par 4 UV et en 2016 par 2 seulement et en 2017 par 3. <br>\n",
    "On va établir nos jetons a partir du minimum d'UV validant les CS. C'est à dire que pour l'exemple précédent, l'UV va être validé pour la validation de 2 UV et ce pour chaque année. <br>\n",
    "Toutes les UV donnent 4 jetons. (choisis aléatoirement)"
   ]
  },
  {
   "cell_type": "code",
   "execution_count": 7,
   "metadata": {},
   "outputs": [],
   "source": [
    "forj = df[[\"nom_UV\",\"codeCS\",\"semestre\"]].drop_duplicates()"
   ]
  },
  {
   "cell_type": "code",
   "execution_count": 8,
   "metadata": {},
   "outputs": [],
   "source": [
    "forj = df[[\"nom_UV\",\"codeCS\",\"semestre\",\"time_year\"]]"
   ]
  },
  {
   "cell_type": "code",
   "execution_count": 9,
   "metadata": {},
   "outputs": [],
   "source": [
    "forj_2015 = forj[forj[\"time_year\"] == \"2015\"].drop_duplicates()\n",
    "forj_2016 = forj[forj[\"time_year\"] == \"2016\"].drop_duplicates()\n",
    "forj_2017 = forj[forj[\"time_year\"] == \"2017\"].drop_duplicates()"
   ]
  },
  {
   "cell_type": "code",
   "execution_count": 10,
   "metadata": {},
   "outputs": [],
   "source": [
    "forj_2015_s1 = forj_2015[forj_2015[\"semestre\"] == \"S1\"].sort_values(\"codeCS\")\n",
    "forj_2015_s2 = forj_2015[forj_2015[\"semestre\"] == \"S2\"].sort_values(\"codeCS\")\n",
    "forj_2016_s1 = forj_2016[forj_2016[\"semestre\"] == \"S1\"].sort_values(\"codeCS\")\n",
    "forj_2016_s2 = forj_2016[forj_2016[\"semestre\"] == \"S2\"].sort_values(\"codeCS\")\n",
    "forj_2017_s1 = forj_2017[forj_2017[\"semestre\"] == \"S1\"].sort_values(\"codeCS\")\n",
    "forj_2017_s2 = forj_2017[forj_2017[\"semestre\"] == \"S2\"].sort_values(\"codeCS\")"
   ]
  },
  {
   "cell_type": "code",
   "execution_count": 11,
   "metadata": {},
   "outputs": [],
   "source": [
    "def sdf(annee,semestre,cs):\n",
    "    dff = globals()[\"forj_\"+str(annee)+\"_\"+str(semestre)]\n",
    "    return dff[dff[\"codeCS\"] == cs]"
   ]
  },
  {
   "cell_type": "code",
   "execution_count": 12,
   "metadata": {},
   "outputs": [
    {
     "data": {
      "text/html": [
       "<div>\n",
       "<style scoped>\n",
       "    .dataframe tbody tr th:only-of-type {\n",
       "        vertical-align: middle;\n",
       "    }\n",
       "\n",
       "    .dataframe tbody tr th {\n",
       "        vertical-align: top;\n",
       "    }\n",
       "\n",
       "    .dataframe thead th {\n",
       "        text-align: right;\n",
       "    }\n",
       "</style>\n",
       "<table border=\"1\" class=\"dataframe\">\n",
       "  <thead>\n",
       "    <tr style=\"text-align: right;\">\n",
       "      <th></th>\n",
       "      <th>nom_UV</th>\n",
       "      <th>codeCS</th>\n",
       "      <th>semestre</th>\n",
       "      <th>time_year</th>\n",
       "    </tr>\n",
       "  </thead>\n",
       "  <tbody>\n",
       "    <tr>\n",
       "      <th>9379</th>\n",
       "      <td>Calcul scientifique</td>\n",
       "      <td>STC</td>\n",
       "      <td>S1</td>\n",
       "      <td>2017</td>\n",
       "    </tr>\n",
       "  </tbody>\n",
       "</table>\n",
       "</div>"
      ],
      "text/plain": [
       "                   nom_UV codeCS semestre time_year\n",
       "9379  Calcul scientifique    STC       S1      2017"
      ]
     },
     "execution_count": 12,
     "metadata": {},
     "output_type": "execute_result"
    }
   ],
   "source": [
    "sdf(2017,'s1','STC')"
   ]
  },
  {
   "cell_type": "code",
   "execution_count": 13,
   "metadata": {},
   "outputs": [
    {
     "data": {
      "text/plain": [
       "array(['IGA', 'IGB', 'interpA', 'interpB', 'intraA', 'intraB', 'intraC',\n",
       "       'STA', 'STB', 'STC'], dtype=object)"
      ]
     },
     "execution_count": 13,
     "metadata": {},
     "output_type": "execute_result"
    }
   ],
   "source": [
    "df[\"codeCS\"].unique()"
   ]
  },
  {
   "cell_type": "markdown",
   "metadata": {},
   "source": [
    "Après observation pour jac, on decide :\n",
    "- interpA interpB intraA intraB intraC : 4 sur l'année\n",
    "\n",
    "Car ce sont des matirèes qui ne sont pas pris par tout les étudiants.<br>\n",
    "\n",
    "Pour le reste: \n",
    "2015 S1 :\n",
    "- STA 12\n",
    "- STB 12\n",
    "- STC 4\n",
    "\n",
    "2015 S2:\n",
    "- STA 16\n",
    "- STB 4\n",
    "- STC 12\n",
    "- IGA 4\n",
    "- IGB 4\n",
    "\n",
    "2016 S1:\n",
    "- STA 12\n",
    "- STB 12\n",
    "- STC 4\n",
    "\n",
    "2016 S2:\n",
    "- STA 12\n",
    "- STB 4\n",
    "- STC 12\n",
    "\n",
    "2017 S1:\n",
    "- STA 8\n",
    "- STB 8\n",
    "- STC 4\n",
    "\n",
    "2017 S2:\n",
    "- STA 8\n",
    "- STB 8\n",
    "- STC 4"
   ]
  },
  {
   "cell_type": "code",
   "execution_count": 251,
   "metadata": {},
   "outputs": [],
   "source": [
    "jacq_dic = {\"2015\" : { \"S1\" : \n",
    "                      {\"STA\" : 12,\n",
    "                       \"STB\" : 12,\n",
    "                       \"STC\" : 4}, \n",
    "                      \"S2\" : \n",
    "                      {\"STA\" : 16,\n",
    "                       \"STB\" : 4,\n",
    "                       \"STC\" : 12, \n",
    "                       \"IGA\" : 4,\n",
    "                       \"IGB\" : 4}\n",
    "                     },\n",
    "            \"2016\" : { \"S1\" : \n",
    "                      {\"STA\" : 12,\n",
    "                       \"STB\" : 12,\n",
    "                       \"STC\" : 4}, \n",
    "                      \"S2\" : \n",
    "                      {\"STA\" : 12,\n",
    "                       \"STB\" : 4,\n",
    "                       \"STC\" : 12}\n",
    "                     },\n",
    "            \"2017\" : { \"S1\" : \n",
    "                      {\"STA\" : 8,\n",
    "                       \"STB\" : 8,\n",
    "                       \"STC\" : 4}, \n",
    "                      \"S2\" : \n",
    "                      {\"STA\" : 8,\n",
    "                       \"STB\" : 8,\n",
    "                       \"STC\" : 4}\n",
    "                     }\n",
    "            \n",
    "           }"
   ]
  },
  {
   "cell_type": "markdown",
   "metadata": {},
   "source": [
    "## Dim Temps"
   ]
  },
  {
   "cell_type": "code",
   "execution_count": 342,
   "metadata": {},
   "outputs": [],
   "source": [
    "df_tps = df.loc[:,[\"index\",\"time_year\",\"semestre\"]]\n",
    "df_tps[\"unicite\"] = df.loc[:,[\"time_year\",\"semestre\"]].apply(lambda var : var[\"time_year\"]+\"-\"+var[\"semestre\"],axis = 1)\n",
    "\n",
    "df_tps = get_ind2(df_tps)\n",
    "df_tps.drop(\"index\",axis=1,inplace=True)\n",
    "df_tps.reset_index(inplace=True)\n",
    "df_tps.drop(\"index\",axis=1,inplace=True)\n",
    "df_tps.reset_index(inplace=True)\n",
    "\n",
    "col = ['time_id', 'annee', 'semestre', 'unicite']\n",
    "df_tps.columns = col\n",
    "\n",
    "df[\"time_id\"] = df.apply(lambda var : df_tps[df_tps[\"unicite\"] == var[\"unicite\"]].index[0],axis = 1)\n",
    "df_tps.drop(\"unicite\",inplace= True,axis=1)"
   ]
  },
  {
   "cell_type": "markdown",
   "metadata": {},
   "source": [
    "## Dim Etudiant"
   ]
  },
  {
   "cell_type": "code",
   "execution_count": 351,
   "metadata": {},
   "outputs": [],
   "source": [
    "df_student = df.loc[:,[\"index\",\"N° Etudiant\",\"Nom\",\"Prénom\",\"time_year\"]]\n",
    "df_student = get_ind2(df_student)\n",
    "\n",
    "df_student.drop(\"index\",axis=1,inplace=True)\n",
    "df_student.reset_index(inplace=True)\n",
    "df_student.drop(\"index\",axis=1,inplace=True)\n",
    "df_student.reset_index(inplace=True)\n",
    "\n",
    "col = list(df_student.columns)\n",
    "col[0] = \"std ID\"\n",
    "df_student.columns = col\n",
    "\n",
    "df[\"std ID\"] = df.apply(lambda var : df_student[df_student[\"N° Etudiant\"] == var[\"N° Etudiant\"]].index[0],axis = 1)"
   ]
  },
  {
   "cell_type": "markdown",
   "metadata": {},
   "source": [
    "## Dim UV"
   ]
  },
  {
   "cell_type": "code",
   "execution_count": 325,
   "metadata": {},
   "outputs": [],
   "source": [
    "df_UV = df.loc[:,[\"index\",\"nom_UV\",\"code_UV\",\"time_year\",\"semestre\"]]\n",
    "df_UV = get_ind2(df_UV)\n",
    "df_UV.drop(\"index\",axis=1,inplace=True)\n",
    "df_UV.reset_index(inplace=True)\n",
    "df_UV.drop(\"index\",axis=1,inplace=True)\n",
    "df_UV.reset_index(inplace=True)\n",
    "\n",
    "col = list(df_UV.columns)\n",
    "col[0] = \"uv ID\"\n",
    "df_UV.columns = col\n",
    "\n",
    "df[\"UV ID\"] = df.apply(lambda var : df_UV[(df_UV[\"nom_UV\"] == var[\"nom_UV\"]) & (df_UV[\"code_UV\"] == var[\"code_UV\"]) & (df_UV[\"time_year\"] == var[\"time_year\"]) & (df_UV[\"semestre\"] == var[\"semestre\"])][\"uv ID\"].index[0],axis = 1)"
   ]
  },
  {
   "cell_type": "markdown",
   "metadata": {},
   "source": [
    "## Dim CS"
   ]
  },
  {
   "cell_type": "code",
   "execution_count": 357,
   "metadata": {},
   "outputs": [],
   "source": [
    "df_cs = df.loc[:,[\"index\",\"idcss\",\"responsable_UE\",\"libelle_UE\",\"codeCS\",\"semestre\",\"time_year\"]]\n",
    "df_cs = get_ind2(df_cs)\n",
    "df_cs.drop(\"index\",axis=1,inplace=True)\n",
    "df_cs.reset_index(inplace=True)\n",
    "df_cs.drop(\"index\",axis=1,inplace=True)\n",
    "df_cs.reset_index(inplace=True)\n",
    "\n",
    "col = ['cs ID', 'idcss', 'respoCS', 'nom_CS', 'codeCS','semestre','annee']\n",
    "df_cs.columns = col\n",
    "\n",
    "df[\"cs ID\"] = df.apply(lambda var : df_cs[(df_cs[\"idcss\"] == var[\"idcss\"]) & (df_cs[\"semestre\"] == var[\"semestre\"]) & (df_cs[\"annee\"] == var[\"time_year\"])].index[0],axis = 1)\n",
    "\n",
    "df_cs.drop(\"idcss\",inplace= True,axis=1)\n",
    "mandatory = ['STA','STB','STC','IGA','IGB']\n",
    "df_cs[\"jacq\"] = df_cs.apply(lambda line : jacq_dic[line[\"annee\"]][line[\"semestre\"]][line[\"codeCS\"]] if line[\"codeCS\"] in mandatory else 4 ,axis = 1)"
   ]
  },
  {
   "cell_type": "code",
   "execution_count": 294,
   "metadata": {},
   "outputs": [
    {
     "data": {
      "text/plain": [
       "Index(['cs ID', 'respoCS', 'nom_CS', 'codeCS', 'semestre', 'annee', 'jacq'], dtype='object')"
      ]
     },
     "execution_count": 294,
     "metadata": {},
     "output_type": "execute_result"
    }
   ],
   "source": [
    "df_cs.columns"
   ]
  },
  {
   "cell_type": "markdown",
   "metadata": {},
   "source": [
    "## Dim CG"
   ]
  },
  {
   "cell_type": "code",
   "execution_count": 366,
   "metadata": {},
   "outputs": [],
   "source": [
    "rel_CG_nom = {\"IG\": \"Compétences en ingénierie\",\n",
    "             \"interp\": \"Compétences interpersonnelles\",\n",
    "             \"intra\" : \"Compétences intra-personnelles\",\n",
    "             \"ST\" : \"Compétences scientifiques et techniques\"}\n",
    "df_cg = df.loc[:,[\"index\",\"codeCS\"]]\n",
    "df_cg[\"codeCS\"] = df_cg[\"codeCS\"].apply(lambda var: var[0:-1])\n",
    "df_cg[\"cg_nom\"] = df_cg[\"codeCS\"].apply(lambda var: rel_CG_nom[var])\n",
    "\n",
    "df_cg = get_ind2(df_cg)\n",
    "\n",
    "df_cg.drop(\"index\",axis=1,inplace=True)\n",
    "df_cg.reset_index(inplace=True)\n",
    "df_cg.drop(\"index\",axis=1,inplace=True)\n",
    "df_cg.reset_index(inplace=True)\n",
    "\n",
    "col = [\"cg id\",\"code cg\",\"cg_nom\"]\n",
    "df_cg.columns = col\n",
    "\n",
    "\n",
    "df[\"cg ID\"] = df.apply(lambda var : df_cg[df_cg[\"code cg\"] == var[\"codeCS\"][:-1]].index[0],axis = 1)\n"
   ]
  },
  {
   "cell_type": "code",
   "execution_count": 297,
   "metadata": {},
   "outputs": [
    {
     "data": {
      "text/plain": [
       "Index(['cg id', 'code cg', 'cg_nom'], dtype='object')"
      ]
     },
     "execution_count": 297,
     "metadata": {},
     "output_type": "execute_result"
    }
   ],
   "source": [
    "df_cg.columns"
   ]
  },
  {
   "cell_type": "markdown",
   "metadata": {},
   "source": [
    "# Degenerated Dim UvGrade"
   ]
  },
  {
   "cell_type": "code",
   "execution_count": 33,
   "metadata": {},
   "outputs": [],
   "source": [
    "temp = {'id' : [0,1,2,3,4,5], 'symbol' : ['+','=','-','','ABS','DIS']}\n",
    "uv_grade = pd.DataFrame(temp)"
   ]
  },
  {
   "cell_type": "code",
   "execution_count": 34,
   "metadata": {},
   "outputs": [],
   "source": [
    "dic_temp = {'+':0,'=':1,'-':2, np.nan:3,'ABS':4,'DIS':5}"
   ]
  },
  {
   "cell_type": "code",
   "execution_count": 35,
   "metadata": {},
   "outputs": [],
   "source": [
    "df['uv_grade_ID'] = df.apply(lambda var : dic_temp[var['note']], axis =1)"
   ]
  },
  {
   "cell_type": "markdown",
   "metadata": {},
   "source": [
    "# Dim Grade ECTS"
   ]
  },
  {
   "cell_type": "code",
   "execution_count": 37,
   "metadata": {},
   "outputs": [
    {
     "data": {
      "text/plain": [
       "array(['atteint', 'en dessous', 'au dessus', nan], dtype=object)"
      ]
     },
     "execution_count": 37,
     "metadata": {},
     "output_type": "execute_result"
    }
   ],
   "source": [
    "df[\"Grade\"].unique()"
   ]
  },
  {
   "cell_type": "code",
   "execution_count": 38,
   "metadata": {},
   "outputs": [],
   "source": [
    "temp = {'id' : [0,1,2,3,4,5,6,7], \n",
    "        'grade_ECTS' : ['A','B','C','D','E','F','FX',''], \n",
    "        'grade_atteint' : ['au dessus','atteint','atteint','atteint','atteint','en dessous','en dessous','']}\n",
    "cpt_grade = pd.DataFrame(temp)"
   ]
  },
  {
   "cell_type": "code",
   "execution_count": 39,
   "metadata": {},
   "outputs": [],
   "source": [
    "dic_temp = {'A':0,'B':1,'C':2,'D':3,'E':4,'F':5,'FX':6,np.nan:7}"
   ]
  },
  {
   "cell_type": "code",
   "execution_count": 40,
   "metadata": {},
   "outputs": [],
   "source": [
    "df['cpt_grade_ID'] = df.apply(lambda var: dic_temp[var['Grade ECTS']],axis =1)"
   ]
  },
  {
   "cell_type": "markdown",
   "metadata": {},
   "source": [
    "# Dim Degenerated Lieu"
   ]
  },
  {
   "cell_type": "code",
   "execution_count": 60,
   "metadata": {},
   "outputs": [],
   "source": [
    "temp = {'id' : [0], 'lieu': ['Nantes']}\n",
    "lieu_d = pd.DataFrame(temp)"
   ]
  },
  {
   "cell_type": "code",
   "execution_count": 61,
   "metadata": {},
   "outputs": [],
   "source": [
    "dic_temp = {'Nantes': 0}\n",
    "df['lieu_ID'] = df.apply(lambda var : dic_temp[var['lieu']],axis =1)"
   ]
  },
  {
   "cell_type": "code",
   "execution_count": 181,
   "metadata": {},
   "outputs": [
    {
     "data": {
      "text/plain": [
       "Index(['id', 'lieu'], dtype='object')"
      ]
     },
     "execution_count": 181,
     "metadata": {},
     "output_type": "execute_result"
    }
   ],
   "source": [
    "lieu_d.columns"
   ]
  },
  {
   "cell_type": "markdown",
   "metadata": {},
   "source": [
    "## Fact Table TDFNotes"
   ]
  },
  {
   "cell_type": "code",
   "execution_count": 185,
   "metadata": {},
   "outputs": [],
   "source": [
    "def jnote(line):\n",
    "    if line[\"note\"] == \"+\":\n",
    "        return 5\n",
    "    elif line[\"note\"] == \"=\":\n",
    "        return 4\n",
    "    else: \n",
    "        return 0"
   ]
  },
  {
   "cell_type": "code",
   "execution_count": 186,
   "metadata": {},
   "outputs": [],
   "source": [
    "ft_notes = df.loc[:,[\"cs ID\",\"UV ID\",\"time_id\",\"std ID\",\"lieu_ID\",\"note\"]]"
   ]
  },
  {
   "cell_type": "code",
   "execution_count": 187,
   "metadata": {},
   "outputs": [],
   "source": [
    "ft_notes[\"jetons_acquis\"] = ft_notes.apply(lambda line: jnote(line), axis = 1)"
   ]
  },
  {
   "cell_type": "code",
   "execution_count": 188,
   "metadata": {},
   "outputs": [],
   "source": [
    "ft_notes.drop(\"note\",inplace = True, axis = 1)"
   ]
  },
  {
   "cell_type": "markdown",
   "metadata": {},
   "source": [
    "## Fact Table TDF_csuv"
   ]
  },
  {
   "cell_type": "code",
   "execution_count": 131,
   "metadata": {},
   "outputs": [],
   "source": [
    "ft_csuv = df.loc[:,[\"cs ID\",\"UV ID\"]]"
   ]
  },
  {
   "cell_type": "code",
   "execution_count": 164,
   "metadata": {},
   "outputs": [],
   "source": [
    "def niv_cs(line):\n",
    "    tmp = df_cs[df_cs[\"cs ID\"] == line[\"cs ID\"]]\n",
    "\n",
    "    if tmp[\"semestre\"][tmp.index[0]] == \"S1\":\n",
    "        return 1\n",
    "    elif tmp[\"semestre\"][tmp.index[0]] == \"S2\" :\n",
    "        return 2"
   ]
  },
  {
   "cell_type": "code",
   "execution_count": 165,
   "metadata": {},
   "outputs": [],
   "source": [
    "ft_csuv[\"niveau_CS\"] = ft_csuv.apply(lambda line : niv_cs(line),axis = 1)"
   ]
  },
  {
   "cell_type": "code",
   "execution_count": 166,
   "metadata": {},
   "outputs": [],
   "source": [
    "ft_csuv[\"nb_jetons\"] = 4"
   ]
  },
  {
   "cell_type": "markdown",
   "metadata": {},
   "source": [
    "## Fact Table TDF_cscg"
   ]
  },
  {
   "cell_type": "code",
   "execution_count": 168,
   "metadata": {},
   "outputs": [
    {
     "data": {
      "text/html": [
       "<div>\n",
       "<style scoped>\n",
       "    .dataframe tbody tr th:only-of-type {\n",
       "        vertical-align: middle;\n",
       "    }\n",
       "\n",
       "    .dataframe tbody tr th {\n",
       "        vertical-align: top;\n",
       "    }\n",
       "\n",
       "    .dataframe thead th {\n",
       "        text-align: right;\n",
       "    }\n",
       "</style>\n",
       "<table border=\"1\" class=\"dataframe\">\n",
       "  <thead>\n",
       "    <tr style=\"text-align: right;\">\n",
       "      <th></th>\n",
       "      <th>index</th>\n",
       "      <th>N° Etudiant</th>\n",
       "      <th>Nom</th>\n",
       "      <th>Prénom</th>\n",
       "      <th>Moyenne</th>\n",
       "      <th>Grade</th>\n",
       "      <th>Grade ECTS</th>\n",
       "      <th>code_UE</th>\n",
       "      <th>libelle_UE</th>\n",
       "      <th>responsable_UE</th>\n",
       "      <th>annee</th>\n",
       "      <th>nom_UV</th>\n",
       "      <th>code_UV</th>\n",
       "      <th>note</th>\n",
       "      <th>lieu</th>\n",
       "      <th>time_year</th>\n",
       "      <th>codeCS</th>\n",
       "      <th>idcss</th>\n",
       "      <th>semestre</th>\n",
       "      <th>unicite</th>\n",
       "      <th>time_id</th>\n",
       "      <th>std ID</th>\n",
       "      <th>lieu_ID</th>\n",
       "      <th>cs ID</th>\n",
       "      <th>cg ID</th>\n",
       "      <th>UV ID</th>\n",
       "    </tr>\n",
       "  </thead>\n",
       "  <tbody>\n",
       "    <tr>\n",
       "      <th>0</th>\n",
       "      <td>0</td>\n",
       "      <td>2015_77ce</td>\n",
       "      <td>Knapp</td>\n",
       "      <td>Casey</td>\n",
       "      <td>10.0</td>\n",
       "      <td>atteint</td>\n",
       "      <td>B</td>\n",
       "      <td>IGA-A1-S2</td>\n",
       "      <td>IGA : Pratique de l'ingénierie</td>\n",
       "      <td>GOSSIAUX Pol Bernard</td>\n",
       "      <td>1ère année d'ingénieur 2014-2015</td>\n",
       "      <td>PRIME</td>\n",
       "      <td>1A-S2-PRI</td>\n",
       "      <td>=</td>\n",
       "      <td>Nantes</td>\n",
       "      <td>2015</td>\n",
       "      <td>IGA</td>\n",
       "      <td>IGA-GOSSIAUX Pol Bernard</td>\n",
       "      <td>S2</td>\n",
       "      <td>2015-S2</td>\n",
       "      <td>0</td>\n",
       "      <td>0</td>\n",
       "      <td>0</td>\n",
       "      <td>0</td>\n",
       "      <td>0</td>\n",
       "      <td>0</td>\n",
       "    </tr>\n",
       "  </tbody>\n",
       "</table>\n",
       "</div>"
      ],
      "text/plain": [
       "   index N° Etudiant    Nom Prénom  Moyenne    Grade Grade ECTS    code_UE  \\\n",
       "0      0   2015_77ce  Knapp  Casey     10.0  atteint          B  IGA-A1-S2   \n",
       "\n",
       "                       libelle_UE        responsable_UE  \\\n",
       "0  IGA : Pratique de l'ingénierie  GOSSIAUX Pol Bernard   \n",
       "\n",
       "                              annee nom_UV    code_UV note    lieu time_year  \\\n",
       "0  1ère année d'ingénieur 2014-2015  PRIME  1A-S2-PRI    =  Nantes      2015   \n",
       "\n",
       "  codeCS                     idcss semestre  unicite  time_id  std ID  \\\n",
       "0    IGA  IGA-GOSSIAUX Pol Bernard       S2  2015-S2        0       0   \n",
       "\n",
       "   lieu_ID  cs ID  cg ID  UV ID  \n",
       "0        0      0      0      0  "
      ]
     },
     "execution_count": 168,
     "metadata": {},
     "output_type": "execute_result"
    }
   ],
   "source": [
    "df.head(1)"
   ]
  },
  {
   "cell_type": "code",
   "execution_count": 170,
   "metadata": {},
   "outputs": [],
   "source": [
    "ft_cscg = df.loc[:,[\"cs ID\",\"cg ID\"]]"
   ]
  },
  {
   "cell_type": "code",
   "execution_count": 173,
   "metadata": {},
   "outputs": [],
   "source": [
    "ft_cscg = ft_cscg.drop_duplicates()"
   ]
  },
  {
   "cell_type": "markdown",
   "metadata": {},
   "source": [
    "# Creation data frame"
   ]
  },
  {
   "cell_type": "code",
   "execution_count": null,
   "metadata": {},
   "outputs": [],
   "source": [
    "import itertools\n"
   ]
  },
  {
   "cell_type": "code",
   "execution_count": null,
   "metadata": {},
   "outputs": [],
   "source": [
    "l = 100000\n",
    "idd = list(itertools.chain.from_iterable([[k,k,k] for k in range(l)]))"
   ]
  },
  {
   "cell_type": "code",
   "execution_count": null,
   "metadata": {},
   "outputs": [],
   "source": [
    "tomax = [1,1,3,2,2,4,1,2,1,4,4,1,5,9,5]*int(l/5)"
   ]
  },
  {
   "cell_type": "code",
   "execution_count": null,
   "metadata": {},
   "outputs": [],
   "source": [
    "junk = ['a']*(3*l)"
   ]
  },
  {
   "cell_type": "code",
   "execution_count": null,
   "metadata": {},
   "outputs": [],
   "source": [
    "mydic = {\"id\": idd, \"tomax\": tomax, \"junk\": junk}\n",
    "mydf = pd.DataFrame(mydic)"
   ]
  },
  {
   "cell_type": "code",
   "execution_count": null,
   "metadata": {},
   "outputs": [],
   "source": [
    "unique = mydf['id'].unique()"
   ]
  },
  {
   "cell_type": "code",
   "execution_count": null,
   "metadata": {},
   "outputs": [],
   "source": [
    "my_ind = mydf.groupby(['id'])['tomax'].idxmax()\n",
    "mydf.iloc[my_ind]"
   ]
  },
  {
   "cell_type": "code",
   "execution_count": null,
   "metadata": {},
   "outputs": [],
   "source": []
  }
 ],
 "metadata": {
  "kernelspec": {
   "display_name": "Python 3",
   "language": "python",
   "name": "python3"
  },
  "language_info": {
   "codemirror_mode": {
    "name": "ipython",
    "version": 3
   },
   "file_extension": ".py",
   "mimetype": "text/x-python",
   "name": "python",
   "nbconvert_exporter": "python",
   "pygments_lexer": "ipython3",
   "version": "3.6.7"
  }
 },
 "nbformat": 4,
 "nbformat_minor": 2
}
