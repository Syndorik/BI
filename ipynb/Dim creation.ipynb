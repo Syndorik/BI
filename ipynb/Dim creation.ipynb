{
 "cells": [
  {
   "cell_type": "markdown",
   "metadata": {},
   "source": [
    "# Creation of dimension"
   ]
  },
  {
   "cell_type": "markdown",
   "metadata": {},
   "source": [
    "The purpose here is to extract the different dimension of the final_result file"
   ]
  },
  {
   "cell_type": "code",
   "execution_count": 1,
   "metadata": {},
   "outputs": [
    {
     "name": "stdout",
     "output_type": "stream",
     "text": [
      "The pandas version is 0.23.4.\n",
      "The pandas version is 0.23.4.\n"
     ]
    }
   ],
   "source": [
    "import pandas as pd\n",
    "import numpy as np\n",
    "import random as rd\n",
    "pd.options.display.max_columns = 400\n",
    "print('The pandas version is {}.'.format(pd.__version__))\n",
    "import hashlib\n",
    "from rdgeneration import Rdgen\n",
    "pd.options.mode.chained_assignment = None \n",
    "import os"
   ]
  },
  {
   "cell_type": "markdown",
   "metadata": {},
   "source": [
    "## Import file"
   ]
  },
  {
   "cell_type": "code",
   "execution_count": 2,
   "metadata": {},
   "outputs": [],
   "source": [
    "df = pd.read_csv('../results/final_res.csv')"
   ]
  },
  {
   "cell_type": "markdown",
   "metadata": {},
   "source": [
    "## Dim Etudiant"
   ]
  },
  {
   "cell_type": "code",
   "execution_count": 4,
   "metadata": {},
   "outputs": [],
   "source": [
    "def get_ind(var,strr,dic,unique,printed):\n",
    "    if((var[printed] in unique) and (var[printed] not in dic) ):\n",
    "        dic[var[printed]] = var[strr]"
   ]
  },
  {
   "cell_type": "code",
   "execution_count": 5,
   "metadata": {},
   "outputs": [],
   "source": [
    "df[\"time_year\"] = df[\"N° Etudiant\"].apply(lambda var: var.split(\"_\")[0])\n",
    "df[\"codeCS\"] = df[\"code_UE\"].apply(lambda var : var.split('-')[0])\n",
    "df[\"idcss\"] = df.loc[:,[\"responsable_UE\",\"codeCS\"]].apply(lambda var : var[\"codeCS\"] + \"-\" +var[\"responsable_UE\"], axis=1)\n",
    "df[\"semestre\"] = df[\"code_UE\"].apply(lambda var : var.split(\"-\")[2])\n",
    "df[\"unicite\"] = df.loc[:,[\"time_year\",\"semestre\"]].apply(lambda var : var[\"time_year\"]+\"-\"+var[\"semestre\"],axis = 1)"
   ]
  },
  {
   "cell_type": "code",
   "execution_count": 6,
   "metadata": {},
   "outputs": [],
   "source": [
    "df.drop(\"Unnamed: 0\", inplace=True, axis=1)\n",
    "df.reset_index(inplace= True)"
   ]
  },
  {
   "cell_type": "markdown",
   "metadata": {},
   "source": [
    "### Definition des jetons"
   ]
  },
  {
   "cell_type": "markdown",
   "metadata": {},
   "source": [
    "On regarde libelleUE, codeCS et semestre pour avoir l'ensemble des UE et affecter les Jac aux differentes CS"
   ]
  },
  {
   "cell_type": "markdown",
   "metadata": {},
   "source": [
    "Au vu des résultats, les UVs ne sont pas pareils en fonction des années. Donc une CS pour 2015 peut être évalué par 4 UV et en 2016 par 2 seulement et en 2017 par 3. <br>\n",
    "On va établir nos jetons a partir du minimum d'UV validant les CS. C'est à dire que pour l'exemple précédent, l'UV va être validé pour la validation de 2 UV et ce pour chaque année. <br>\n",
    "Toutes les UV donnent 4 jetons. (choisis aléatoirement)"
   ]
  },
  {
   "cell_type": "code",
   "execution_count": 7,
   "metadata": {},
   "outputs": [],
   "source": [
    "forj = df[[\"nom_UV\",\"codeCS\",\"semestre\"]].drop_duplicates()"
   ]
  },
  {
   "cell_type": "code",
   "execution_count": 8,
   "metadata": {},
   "outputs": [],
   "source": [
    "forj = df[[\"nom_UV\",\"codeCS\",\"semestre\",\"time_year\"]]"
   ]
  },
  {
   "cell_type": "code",
   "execution_count": 9,
   "metadata": {},
   "outputs": [],
   "source": [
    "forj_2015 = forj[forj[\"time_year\"] == \"2015\"].drop_duplicates()\n",
    "forj_2016 = forj[forj[\"time_year\"] == \"2016\"].drop_duplicates()\n",
    "forj_2017 = forj[forj[\"time_year\"] == \"2017\"].drop_duplicates()"
   ]
  },
  {
   "cell_type": "code",
   "execution_count": 10,
   "metadata": {},
   "outputs": [],
   "source": [
    "forj_2015_s1 = forj_2015[forj_2015[\"semestre\"] == \"S1\"].sort_values(\"codeCS\")\n",
    "forj_2015_s2 = forj_2015[forj_2015[\"semestre\"] == \"S2\"].sort_values(\"codeCS\")\n",
    "forj_2016_s1 = forj_2016[forj_2016[\"semestre\"] == \"S1\"].sort_values(\"codeCS\")\n",
    "forj_2016_s2 = forj_2016[forj_2016[\"semestre\"] == \"S2\"].sort_values(\"codeCS\")\n",
    "forj_2017_s1 = forj_2017[forj_2017[\"semestre\"] == \"S1\"].sort_values(\"codeCS\")\n",
    "forj_2017_s2 = forj_2017[forj_2017[\"semestre\"] == \"S2\"].sort_values(\"codeCS\")"
   ]
  },
  {
   "cell_type": "code",
   "execution_count": 11,
   "metadata": {},
   "outputs": [],
   "source": [
    "def sdf(annee,semestre,cs):\n",
    "    dff = globals()[\"forj_\"+str(annee)+\"_\"+str(semestre)]\n",
    "    return dff[dff[\"codeCS\"] == cs]"
   ]
  },
  {
   "cell_type": "code",
   "execution_count": 12,
   "metadata": {},
   "outputs": [
    {
     "data": {
      "text/html": [
       "<div>\n",
       "<style scoped>\n",
       "    .dataframe tbody tr th:only-of-type {\n",
       "        vertical-align: middle;\n",
       "    }\n",
       "\n",
       "    .dataframe tbody tr th {\n",
       "        vertical-align: top;\n",
       "    }\n",
       "\n",
       "    .dataframe thead th {\n",
       "        text-align: right;\n",
       "    }\n",
       "</style>\n",
       "<table border=\"1\" class=\"dataframe\">\n",
       "  <thead>\n",
       "    <tr style=\"text-align: right;\">\n",
       "      <th></th>\n",
       "      <th>nom_UV</th>\n",
       "      <th>codeCS</th>\n",
       "      <th>semestre</th>\n",
       "      <th>time_year</th>\n",
       "    </tr>\n",
       "  </thead>\n",
       "  <tbody>\n",
       "    <tr>\n",
       "      <th>9379</th>\n",
       "      <td>Calcul scientifique</td>\n",
       "      <td>STC</td>\n",
       "      <td>S1</td>\n",
       "      <td>2017</td>\n",
       "    </tr>\n",
       "  </tbody>\n",
       "</table>\n",
       "</div>"
      ],
      "text/plain": [
       "                   nom_UV codeCS semestre time_year\n",
       "9379  Calcul scientifique    STC       S1      2017"
      ]
     },
     "execution_count": 12,
     "metadata": {},
     "output_type": "execute_result"
    }
   ],
   "source": [
    "sdf(2017,'s1','STC')"
   ]
  },
  {
   "cell_type": "code",
   "execution_count": 13,
   "metadata": {},
   "outputs": [
    {
     "data": {
      "text/plain": [
       "array(['IGA', 'IGB', 'interpA', 'interpB', 'intraA', 'intraB', 'intraC',\n",
       "       'STA', 'STB', 'STC'], dtype=object)"
      ]
     },
     "execution_count": 13,
     "metadata": {},
     "output_type": "execute_result"
    }
   ],
   "source": [
    "df[\"codeCS\"].unique()"
   ]
  },
  {
   "cell_type": "markdown",
   "metadata": {},
   "source": [
    "Après observation pour jac, on decide :\n",
    "- interpA interpB intraA intraB intraC : 4 sur l'année\n",
    "\n",
    "Car ce sont des matirèes qui ne sont pas pris par tout les étudiants.<br>\n",
    "\n",
    "Pour le reste: \n",
    "2015 S1 :\n",
    "- STA 12\n",
    "- STB 12\n",
    "- STC 4\n",
    "\n",
    "2015 S2:\n",
    "- STA 16\n",
    "- STB 4\n",
    "- STC 12\n",
    "- IGA 4\n",
    "- IGB 4\n",
    "\n",
    "2016 S1:\n",
    "- STA 12\n",
    "- STB 12\n",
    "- STC 4\n",
    "\n",
    "2016 S2:\n",
    "- STA 12\n",
    "- STB 4\n",
    "- STC 12\n",
    "\n",
    "2017 S1:\n",
    "- STA 8\n",
    "- STB 8\n",
    "- STC 4\n",
    "\n",
    "2017 S2:\n",
    "- STA 8\n",
    "- STB 8\n",
    "- STC 4"
   ]
  },
  {
   "cell_type": "code",
   "execution_count": 14,
   "metadata": {},
   "outputs": [],
   "source": [
    "jacq_dic = {\"2015\" : { \"S1\" : \n",
    "                      {\"STA\" : 12,\n",
    "                       \"STB\" : 12,\n",
    "                       \"STC\" : 4}, \n",
    "                      \"S2\" : \n",
    "                      {\"STA\" : 16,\n",
    "                       \"STB\" : 4,\n",
    "                       \"STC\" : 12, \n",
    "                       \"IGA\" : 4,\n",
    "                       \"IGB\" : 4}\n",
    "                     },\n",
    "            \"2016\" : { \"S1\" : \n",
    "                      {\"STA\" : 12,\n",
    "                       \"STB\" : 12,\n",
    "                       \"STC\" : 4}, \n",
    "                      \"S2\" : \n",
    "                      {\"STA\" : 12,\n",
    "                       \"STB\" : 4,\n",
    "                       \"STC\" : 12}\n",
    "                     },\n",
    "            \"2017\" : { \"S1\" : \n",
    "                      {\"STA\" : 8,\n",
    "                       \"STB\" : 8,\n",
    "                       \"STC\" : 4}, \n",
    "                      \"S2\" : \n",
    "                      {\"STA\" : 8,\n",
    "                       \"STB\" : 8,\n",
    "                       \"STC\" : 4}\n",
    "                     }\n",
    "            \n",
    "           }"
   ]
  },
  {
   "cell_type": "markdown",
   "metadata": {},
   "source": [
    "## Dim Temps"
   ]
  },
  {
   "cell_type": "code",
   "execution_count": 16,
   "metadata": {},
   "outputs": [],
   "source": [
    "df_tps = df.loc[:,[\"index\",\"time_year\",\"semestre\"]]\n",
    "df_tps[\"unicite\"] = df.loc[:,[\"time_year\",\"semestre\"]].apply(lambda var : var[\"time_year\"]+\"-\"+var[\"semestre\"],axis = 1)"
   ]
  },
  {
   "cell_type": "code",
   "execution_count": 17,
   "metadata": {},
   "outputs": [],
   "source": [
    "unique_tps = df_tps[\"unicite\"].unique()\n",
    "dic_tps = {}\n",
    "\n",
    "l =df_tps.loc[:,[\"index\",\"unicite\"]].apply(lambda var: get_ind(var,\"index\",dic_tps,unique_tps,\"unicite\"),axis =1)\n",
    "list_ind = [dic_tps[k] for k in dic_tps]\n",
    "df_tps = df_tps.iloc[list_ind]\n",
    "\n",
    "df_tps.drop(\"index\",axis=1,inplace=True)\n",
    "df_tps.reset_index(inplace=True)\n",
    "df_tps.drop(\"index\",axis=1,inplace=True)\n",
    "df_tps.reset_index(inplace=True)\n",
    "\n",
    "col = ['time_id', 'annee', 'semestre', 'unicite']\n",
    "df_tps.columns = col"
   ]
  },
  {
   "cell_type": "code",
   "execution_count": 18,
   "metadata": {},
   "outputs": [],
   "source": [
    "dic_tpsdid = {}\n",
    "df_tps.loc[:,[\"time_id\",\"unicite\"]].apply(lambda var: get_ind(var,\"time_id\",dic_tpsdid,unique_tps,\"unicite\"),axis =1)\n",
    "df[\"time_id\"] = df[\"unicite\"].apply(lambda var : dic_tpsdid[var])"
   ]
  },
  {
   "cell_type": "code",
   "execution_count": 19,
   "metadata": {},
   "outputs": [],
   "source": [
    "df_tps.drop(\"unicite\",inplace= True,axis=1)"
   ]
  },
  {
   "cell_type": "code",
   "execution_count": 21,
   "metadata": {},
   "outputs": [
    {
     "data": {
      "text/html": [
       "<div>\n",
       "<style scoped>\n",
       "    .dataframe tbody tr th:only-of-type {\n",
       "        vertical-align: middle;\n",
       "    }\n",
       "\n",
       "    .dataframe tbody tr th {\n",
       "        vertical-align: top;\n",
       "    }\n",
       "\n",
       "    .dataframe thead th {\n",
       "        text-align: right;\n",
       "    }\n",
       "</style>\n",
       "<table border=\"1\" class=\"dataframe\">\n",
       "  <thead>\n",
       "    <tr style=\"text-align: right;\">\n",
       "      <th></th>\n",
       "      <th>time_id</th>\n",
       "      <th>annee</th>\n",
       "      <th>semestre</th>\n",
       "    </tr>\n",
       "  </thead>\n",
       "  <tbody>\n",
       "    <tr>\n",
       "      <th>0</th>\n",
       "      <td>0</td>\n",
       "      <td>2015</td>\n",
       "      <td>S2</td>\n",
       "    </tr>\n",
       "    <tr>\n",
       "      <th>1</th>\n",
       "      <td>1</td>\n",
       "      <td>2015</td>\n",
       "      <td>S1</td>\n",
       "    </tr>\n",
       "    <tr>\n",
       "      <th>2</th>\n",
       "      <td>2</td>\n",
       "      <td>2016</td>\n",
       "      <td>S1</td>\n",
       "    </tr>\n",
       "    <tr>\n",
       "      <th>3</th>\n",
       "      <td>3</td>\n",
       "      <td>2016</td>\n",
       "      <td>S2</td>\n",
       "    </tr>\n",
       "    <tr>\n",
       "      <th>4</th>\n",
       "      <td>4</td>\n",
       "      <td>2017</td>\n",
       "      <td>S2</td>\n",
       "    </tr>\n",
       "  </tbody>\n",
       "</table>\n",
       "</div>"
      ],
      "text/plain": [
       "   time_id annee semestre\n",
       "0        0  2015       S2\n",
       "1        1  2015       S1\n",
       "2        2  2016       S1\n",
       "3        3  2016       S2\n",
       "4        4  2017       S2"
      ]
     },
     "execution_count": 21,
     "metadata": {},
     "output_type": "execute_result"
    }
   ],
   "source": [
    "df_tps.head()"
   ]
  },
  {
   "cell_type": "markdown",
   "metadata": {},
   "source": [
    "## Dim Etudiant"
   ]
  },
  {
   "cell_type": "code",
   "execution_count": 22,
   "metadata": {},
   "outputs": [],
   "source": [
    "df_student = df.loc[:,[\"index\",\"N° Etudiant\",\"Nom\",\"Prénom\",\"time_year\"]]\n",
    "unique_std = df_student[\"N° Etudiant\"].unique()\n",
    "dic_ind = {}"
   ]
  },
  {
   "cell_type": "code",
   "execution_count": 23,
   "metadata": {},
   "outputs": [],
   "source": [
    "l =df_student.loc[:,:\"N° Etudiant\"].apply(lambda var: get_ind(var,\"index\",dic_ind,unique_std,\"N° Etudiant\"),axis =1)\n",
    "list_ind = [dic_ind[k] for k in dic_ind]"
   ]
  },
  {
   "cell_type": "code",
   "execution_count": 24,
   "metadata": {},
   "outputs": [],
   "source": [
    "df_student = df_student.iloc[list_ind]"
   ]
  },
  {
   "cell_type": "code",
   "execution_count": 25,
   "metadata": {},
   "outputs": [],
   "source": [
    "df_student.drop(\"index\",axis=1,inplace=True)\n",
    "df_student.reset_index(inplace=True)\n",
    "df_student.drop(\"index\",axis=1,inplace=True)\n",
    "df_student.reset_index(inplace=True)"
   ]
  },
  {
   "cell_type": "code",
   "execution_count": 26,
   "metadata": {},
   "outputs": [],
   "source": [
    "col = list(df_student.columns)\n",
    "col[0] = \"std ID\"\n",
    "df_student.columns = col"
   ]
  },
  {
   "cell_type": "code",
   "execution_count": 27,
   "metadata": {},
   "outputs": [
    {
     "data": {
      "text/html": [
       "<div>\n",
       "<style scoped>\n",
       "    .dataframe tbody tr th:only-of-type {\n",
       "        vertical-align: middle;\n",
       "    }\n",
       "\n",
       "    .dataframe tbody tr th {\n",
       "        vertical-align: top;\n",
       "    }\n",
       "\n",
       "    .dataframe thead th {\n",
       "        text-align: right;\n",
       "    }\n",
       "</style>\n",
       "<table border=\"1\" class=\"dataframe\">\n",
       "  <thead>\n",
       "    <tr style=\"text-align: right;\">\n",
       "      <th></th>\n",
       "      <th>std ID</th>\n",
       "      <th>N° Etudiant</th>\n",
       "      <th>Nom</th>\n",
       "      <th>Prénom</th>\n",
       "      <th>time_year</th>\n",
       "    </tr>\n",
       "  </thead>\n",
       "  <tbody>\n",
       "    <tr>\n",
       "      <th>0</th>\n",
       "      <td>0</td>\n",
       "      <td>2015_77ce</td>\n",
       "      <td>Knapp</td>\n",
       "      <td>Casey</td>\n",
       "      <td>2015</td>\n",
       "    </tr>\n",
       "    <tr>\n",
       "      <th>1</th>\n",
       "      <td>1</td>\n",
       "      <td>2015_bc24</td>\n",
       "      <td>Leary</td>\n",
       "      <td>Martha</td>\n",
       "      <td>2015</td>\n",
       "    </tr>\n",
       "    <tr>\n",
       "      <th>2</th>\n",
       "      <td>2</td>\n",
       "      <td>2015_4595</td>\n",
       "      <td>Little</td>\n",
       "      <td>Jeannie</td>\n",
       "      <td>2015</td>\n",
       "    </tr>\n",
       "    <tr>\n",
       "      <th>3</th>\n",
       "      <td>3</td>\n",
       "      <td>2015_8069</td>\n",
       "      <td>Harrison</td>\n",
       "      <td>Andre</td>\n",
       "      <td>2015</td>\n",
       "    </tr>\n",
       "    <tr>\n",
       "      <th>4</th>\n",
       "      <td>4</td>\n",
       "      <td>2015_c8d7</td>\n",
       "      <td>Blodgett</td>\n",
       "      <td>Cristopher</td>\n",
       "      <td>2015</td>\n",
       "    </tr>\n",
       "  </tbody>\n",
       "</table>\n",
       "</div>"
      ],
      "text/plain": [
       "   std ID N° Etudiant       Nom      Prénom time_year\n",
       "0       0   2015_77ce     Knapp       Casey      2015\n",
       "1       1   2015_bc24     Leary      Martha      2015\n",
       "2       2   2015_4595    Little     Jeannie      2015\n",
       "3       3   2015_8069  Harrison       Andre      2015\n",
       "4       4   2015_c8d7  Blodgett  Cristopher      2015"
      ]
     },
     "execution_count": 27,
     "metadata": {},
     "output_type": "execute_result"
    }
   ],
   "source": [
    "dic_stdid = {}\n",
    "df_student.loc[:,[\"std ID\",\"N° Etudiant\"]].apply(lambda var: get_ind(var,\"std ID\",dic_stdid,unique_std,\"N° Etudiant\"),axis =1)\n",
    "df_student.head()"
   ]
  },
  {
   "cell_type": "markdown",
   "metadata": {},
   "source": [
    "Dimension Etudiant: df_student <br>\n",
    "Update df"
   ]
  },
  {
   "cell_type": "code",
   "execution_count": 28,
   "metadata": {},
   "outputs": [],
   "source": [
    "df[\"std ID\"] = df[\"N° Etudiant\"].apply(lambda var : dic_stdid[var])"
   ]
  },
  {
   "cell_type": "code",
   "execution_count": 176,
   "metadata": {},
   "outputs": [
    {
     "data": {
      "text/plain": [
       "Index(['std ID', 'N° Etudiant', 'Nom', 'Prénom', 'time_year'], dtype='object')"
      ]
     },
     "execution_count": 176,
     "metadata": {},
     "output_type": "execute_result"
    }
   ],
   "source": [
    "df_student.columns"
   ]
  },
  {
   "cell_type": "markdown",
   "metadata": {},
   "source": [
    "## Dim UV"
   ]
  },
  {
   "cell_type": "code",
   "execution_count": 57,
   "metadata": {},
   "outputs": [],
   "source": [
    "df_UV = df.loc[:,[\"index\",\"nom_UV\",\"code_UV\",\"time_year\",\"semestre\"]]"
   ]
  },
  {
   "cell_type": "code",
   "execution_count": 58,
   "metadata": {},
   "outputs": [],
   "source": [
    "unique_uv = df_UV[\"nom_UV\"].unique()\n",
    "dic_uv = {}\n",
    "\n",
    "l =df_UV.loc[:,[\"index\",\"nom_UV\"]].apply(lambda var: get_ind(var,\"index\",dic_uv,unique_uv,\"nom_UV\"),axis =1)\n",
    "list_ind = [dic_uv[k] for k in dic_uv]\n",
    "df_UV = df_UV.iloc[list_ind]\n",
    "\n",
    "df_UV.drop(\"index\",axis=1,inplace=True)\n",
    "df_UV.reset_index(inplace=True)\n",
    "df_UV.drop(\"index\",axis=1,inplace=True)\n",
    "df_UV.reset_index(inplace=True)\n",
    "\n",
    "col = list(df_UV.columns)\n",
    "col[0] = \"uv ID\"\n",
    "df_UV.columns = col\n",
    "\n",
    "dic_uvdid = {}\n",
    "df_UV.loc[:,[\"uv ID\",\"nom_UV\"]].apply(lambda var: get_ind(var,\"uv ID\",dic_uvdid,unique_uv,\"nom_UV\"),axis =1)\n",
    "df_UV.head()\n",
    "df[\"UV ID\"] = df[\"nom_UV\"].apply(lambda var : dic_uvdid[var])"
   ]
  },
  {
   "cell_type": "code",
   "execution_count": 177,
   "metadata": {},
   "outputs": [
    {
     "data": {
      "text/plain": [
       "Index(['uv ID', 'nom_UV', 'code_UV', 'time_year', 'semestre'], dtype='object')"
      ]
     },
     "execution_count": 177,
     "metadata": {},
     "output_type": "execute_result"
    }
   ],
   "source": [
    "df_UV.columns"
   ]
  },
  {
   "cell_type": "markdown",
   "metadata": {},
   "source": [
    "## Dim CS"
   ]
  },
  {
   "cell_type": "code",
   "execution_count": 32,
   "metadata": {},
   "outputs": [],
   "source": [
    "df_cs = df.loc[:,[\"index\",\"idcss\",\"responsable_UE\",\"libelle_UE\",\"codeCS\",\"semestre\",\"time_year\"]]"
   ]
  },
  {
   "cell_type": "code",
   "execution_count": 34,
   "metadata": {},
   "outputs": [],
   "source": [
    "unique_cs = df_cs[\"idcss\"].unique()\n",
    "dic_cs = {}\n",
    "\n",
    "l =df_cs.loc[:,[\"index\",\"idcss\"]].apply(lambda var: get_ind(var,\"index\",dic_cs,unique_cs,\"idcss\"),axis =1)\n",
    "list_ind = [dic_cs[k] for k in dic_cs]\n",
    "df_cs = df_cs.iloc[list_ind]\n",
    "\n",
    "df_cs.drop(\"index\",axis=1,inplace=True)\n",
    "df_cs.reset_index(inplace=True)\n",
    "df_cs.drop(\"index\",axis=1,inplace=True)\n",
    "df_cs.reset_index(inplace=True)\n",
    "\n",
    "col = ['cs ID', 'idcss', 'respoCS', 'nom_CS', 'codeCS','semestre','annee']\n",
    "df_cs.columns = col"
   ]
  },
  {
   "cell_type": "code",
   "execution_count": 35,
   "metadata": {},
   "outputs": [],
   "source": [
    "dic_csdid = {}\n",
    "df_cs.loc[:,[\"cs ID\",\"idcss\"]].apply(lambda var: get_ind(var,\"cs ID\",dic_csdid,unique_cs,\"idcss\"),axis =1)\n",
    "df_cs.head()\n",
    "df[\"cs ID\"] = df[\"idcss\"].apply(lambda var : dic_csdid[var])"
   ]
  },
  {
   "cell_type": "code",
   "execution_count": 36,
   "metadata": {},
   "outputs": [],
   "source": [
    "df_cs.drop(\"idcss\",inplace= True,axis=1)"
   ]
  },
  {
   "cell_type": "code",
   "execution_count": 38,
   "metadata": {},
   "outputs": [
    {
     "data": {
      "text/plain": [
       "{'2015': {'S1': {'STA': 12, 'STB': 12, 'STC': 4},\n",
       "  'S2': {'STA': 16, 'STB': 4, 'STC': 12, 'IGA': 4, 'IGB': 4}},\n",
       " '2016': {'S1': {'STA': 12, 'STB': 12, 'STC': 4},\n",
       "  'S2': {'STA': 12, 'STB': 4, 'STC': 12}},\n",
       " '2017': {'S1': {'STA': 8, 'STB': 8, 'STC': 4},\n",
       "  'S2': {'STA': 8, 'STB': 8, 'STC': 4}}}"
      ]
     },
     "execution_count": 38,
     "metadata": {},
     "output_type": "execute_result"
    }
   ],
   "source": [
    "jacq_dic"
   ]
  },
  {
   "cell_type": "code",
   "execution_count": 48,
   "metadata": {},
   "outputs": [],
   "source": [
    "mandatory = ['STA','STB','STC','IGA','IGB']"
   ]
  },
  {
   "cell_type": "code",
   "execution_count": 49,
   "metadata": {},
   "outputs": [],
   "source": [
    "df_cs[\"jacq\"] = df_cs.apply(lambda line : jacq_dic[line[\"annee\"]][line[\"semestre\"]][line[\"codeCS\"]] if line[\"codeCS\"] in mandatory else 4 ,axis = 1)"
   ]
  },
  {
   "cell_type": "code",
   "execution_count": 178,
   "metadata": {},
   "outputs": [
    {
     "data": {
      "text/plain": [
       "Index(['cs ID', 'respoCS', 'nom_CS', 'codeCS', 'semestre', 'annee', 'jacq'], dtype='object')"
      ]
     },
     "execution_count": 178,
     "metadata": {},
     "output_type": "execute_result"
    }
   ],
   "source": [
    "df_cs.columns"
   ]
  },
  {
   "cell_type": "markdown",
   "metadata": {},
   "source": [
    "## Dim CG"
   ]
  },
  {
   "cell_type": "code",
   "execution_count": 51,
   "metadata": {},
   "outputs": [],
   "source": [
    "rel_CG_nom = {\"IG\": \"Compétences en ingénierie\",\n",
    "             \"interp\": \"Compétences interpersonnelles\",\n",
    "             \"intra\" : \"Compétences intra-personnelles\",\n",
    "             \"ST\" : \"Compétences scientifiques et techniques\"}\n",
    "df_cg = df.loc[:,[\"index\",\"codeCS\"]]"
   ]
  },
  {
   "cell_type": "code",
   "execution_count": 52,
   "metadata": {},
   "outputs": [],
   "source": [
    "df_cg[\"codeCS\"] = df_cg[\"codeCS\"].apply(lambda var: var[0:-1])\n",
    "df_cg[\"cg_nom\"] = df_cg[\"codeCS\"].apply(lambda var: rel_CG_nom[var])"
   ]
  },
  {
   "cell_type": "code",
   "execution_count": 53,
   "metadata": {},
   "outputs": [],
   "source": [
    "unique_cg = df_cg[\"codeCS\"].unique()\n",
    "dic_cg = {}\n",
    "\n",
    "l =df_cg.loc[:,[\"index\",\"codeCS\"]].apply(lambda var: get_ind(var,\"index\",dic_cg,unique_cg,\"codeCS\"),axis =1)\n",
    "list_ind = [dic_cg[k] for k in dic_cg]\n",
    "df_cg = df_cg.iloc[list_ind]\n",
    "\n",
    "df_cg.drop(\"index\",axis=1,inplace=True)\n",
    "df_cg.reset_index(inplace=True)\n",
    "df_cg.drop(\"index\",axis=1,inplace=True)\n",
    "df_cg.reset_index(inplace=True)\n",
    "\n",
    "col = [\"cg id\",\"code cg\",\"cg_nom\"]\n",
    "df_cg.columns = col"
   ]
  },
  {
   "cell_type": "code",
   "execution_count": 55,
   "metadata": {},
   "outputs": [],
   "source": [
    "dic_cgdid = {}\n",
    "df_cg.loc[:,[\"cg id\",\"code cg\"]].apply(lambda var: get_ind(var,\"cg id\",dic_cgdid,unique_cg,\"code cg\"),axis =1)\n",
    "df_cg.head()\n",
    "df[\"cg ID\"] = df[\"codeCS\"].apply(lambda var : dic_cgdid[var[:-1]])"
   ]
  },
  {
   "cell_type": "code",
   "execution_count": 179,
   "metadata": {},
   "outputs": [
    {
     "data": {
      "text/plain": [
       "Index(['cg id', 'code cg', 'cg_nom'], dtype='object')"
      ]
     },
     "execution_count": 179,
     "metadata": {},
     "output_type": "execute_result"
    }
   ],
   "source": [
    "df_cg.columns"
   ]
  },
  {
   "cell_type": "markdown",
   "metadata": {},
   "source": [
    "# Degenerated Dim UvGrade"
   ]
  },
  {
   "cell_type": "code",
   "execution_count": 33,
   "metadata": {},
   "outputs": [],
   "source": [
    "temp = {'id' : [0,1,2,3,4,5], 'symbol' : ['+','=','-','','ABS','DIS']}\n",
    "uv_grade = pd.DataFrame(temp)"
   ]
  },
  {
   "cell_type": "code",
   "execution_count": 34,
   "metadata": {},
   "outputs": [],
   "source": [
    "dic_temp = {'+':0,'=':1,'-':2, np.nan:3,'ABS':4,'DIS':5}"
   ]
  },
  {
   "cell_type": "code",
   "execution_count": 35,
   "metadata": {},
   "outputs": [],
   "source": [
    "df['uv_grade_ID'] = df.apply(lambda var : dic_temp[var['note']], axis =1)"
   ]
  },
  {
   "cell_type": "markdown",
   "metadata": {},
   "source": [
    "# Dim Grade ECTS"
   ]
  },
  {
   "cell_type": "code",
   "execution_count": 37,
   "metadata": {},
   "outputs": [
    {
     "data": {
      "text/plain": [
       "array(['atteint', 'en dessous', 'au dessus', nan], dtype=object)"
      ]
     },
     "execution_count": 37,
     "metadata": {},
     "output_type": "execute_result"
    }
   ],
   "source": [
    "df[\"Grade\"].unique()"
   ]
  },
  {
   "cell_type": "code",
   "execution_count": 38,
   "metadata": {},
   "outputs": [],
   "source": [
    "temp = {'id' : [0,1,2,3,4,5,6,7], \n",
    "        'grade_ECTS' : ['A','B','C','D','E','F','FX',''], \n",
    "        'grade_atteint' : ['au dessus','atteint','atteint','atteint','atteint','en dessous','en dessous','']}\n",
    "cpt_grade = pd.DataFrame(temp)"
   ]
  },
  {
   "cell_type": "code",
   "execution_count": 39,
   "metadata": {},
   "outputs": [],
   "source": [
    "dic_temp = {'A':0,'B':1,'C':2,'D':3,'E':4,'F':5,'FX':6,np.nan:7}"
   ]
  },
  {
   "cell_type": "code",
   "execution_count": 40,
   "metadata": {},
   "outputs": [],
   "source": [
    "df['cpt_grade_ID'] = df.apply(lambda var: dic_temp[var['Grade ECTS']],axis =1)"
   ]
  },
  {
   "cell_type": "markdown",
   "metadata": {},
   "source": [
    "# Dim Degenerated Lieu"
   ]
  },
  {
   "cell_type": "code",
   "execution_count": 60,
   "metadata": {},
   "outputs": [],
   "source": [
    "temp = {'id' : [0], 'lieu': ['Nantes']}\n",
    "lieu_d = pd.DataFrame(temp)"
   ]
  },
  {
   "cell_type": "code",
   "execution_count": 61,
   "metadata": {},
   "outputs": [],
   "source": [
    "dic_temp = {'Nantes': 0}\n",
    "df['lieu_ID'] = df.apply(lambda var : dic_temp[var['lieu']],axis =1)"
   ]
  },
  {
   "cell_type": "code",
   "execution_count": 181,
   "metadata": {},
   "outputs": [
    {
     "data": {
      "text/plain": [
       "Index(['id', 'lieu'], dtype='object')"
      ]
     },
     "execution_count": 181,
     "metadata": {},
     "output_type": "execute_result"
    }
   ],
   "source": [
    "lieu_d.columns"
   ]
  },
  {
   "cell_type": "markdown",
   "metadata": {},
   "source": [
    "## Fact Table TDFNotes"
   ]
  },
  {
   "cell_type": "code",
   "execution_count": 124,
   "metadata": {},
   "outputs": [],
   "source": [
    "def jnote(line):\n",
    "    if line[\"note\"] == \"+\":\n",
    "        return int(df_cs[df_cs[\"cs ID\"] == line[\"cs ID\"]]['jacq']+1)\n",
    "    elif line[\"note\"] == \"=\":\n",
    "        return int(df_cs[df_cs[\"cs ID\"] == line[\"cs ID\"]]['jacq'])\n",
    "    else: \n",
    "        return 0"
   ]
  },
  {
   "cell_type": "code",
   "execution_count": 125,
   "metadata": {},
   "outputs": [],
   "source": [
    "ft_notes = df.loc[:,[\"cs ID\",\"UV ID\",\"time_id\",\"std ID\",\"lieu_ID\",\"note\"]]"
   ]
  },
  {
   "cell_type": "code",
   "execution_count": 127,
   "metadata": {},
   "outputs": [],
   "source": [
    "ft_notes[\"jetons_acquis\"] = ft_notes.apply(lambda line: jnote(line), axis = 1)"
   ]
  },
  {
   "cell_type": "code",
   "execution_count": 129,
   "metadata": {},
   "outputs": [],
   "source": [
    "ft_notes.drop(\"note\",inplace = True, axis = 1)"
   ]
  },
  {
   "cell_type": "code",
   "execution_count": 182,
   "metadata": {},
   "outputs": [
    {
     "data": {
      "text/plain": [
       "Index(['cs ID', 'UV ID', 'time_id', 'std ID', 'lieu_ID', 'jetons_acquis'], dtype='object')"
      ]
     },
     "execution_count": 182,
     "metadata": {},
     "output_type": "execute_result"
    }
   ],
   "source": [
    "ft_notes.columns"
   ]
  },
  {
   "cell_type": "markdown",
   "metadata": {},
   "source": [
    "## Fact Table TDF_csuv"
   ]
  },
  {
   "cell_type": "code",
   "execution_count": 131,
   "metadata": {},
   "outputs": [],
   "source": [
    "ft_csuv = df.loc[:,[\"cs ID\",\"UV ID\"]]"
   ]
  },
  {
   "cell_type": "code",
   "execution_count": 164,
   "metadata": {},
   "outputs": [],
   "source": [
    "def niv_cs(line):\n",
    "    tmp = df_cs[df_cs[\"cs ID\"] == line[\"cs ID\"]]\n",
    "\n",
    "    if tmp[\"semestre\"][tmp.index[0]] == \"S1\":\n",
    "        return 1\n",
    "    elif tmp[\"semestre\"][tmp.index[0]] == \"S2\" :\n",
    "        return 2"
   ]
  },
  {
   "cell_type": "code",
   "execution_count": 165,
   "metadata": {},
   "outputs": [],
   "source": [
    "ft_csuv[\"niveau_CS\"] = ft_csuv.apply(lambda line : niv_cs(line),axis = 1)"
   ]
  },
  {
   "cell_type": "code",
   "execution_count": 166,
   "metadata": {},
   "outputs": [],
   "source": [
    "ft_csuv[\"nb_jetons\"] = 4"
   ]
  },
  {
   "cell_type": "code",
   "execution_count": 183,
   "metadata": {},
   "outputs": [
    {
     "data": {
      "text/plain": [
       "Index(['cs ID', 'UV ID', 'niveau_CS', 'nb_jetons'], dtype='object')"
      ]
     },
     "execution_count": 183,
     "metadata": {},
     "output_type": "execute_result"
    }
   ],
   "source": [
    "ft_csuv.columns"
   ]
  },
  {
   "cell_type": "markdown",
   "metadata": {},
   "source": [
    "## Fact Table TDF_cscg"
   ]
  },
  {
   "cell_type": "code",
   "execution_count": 168,
   "metadata": {},
   "outputs": [
    {
     "data": {
      "text/html": [
       "<div>\n",
       "<style scoped>\n",
       "    .dataframe tbody tr th:only-of-type {\n",
       "        vertical-align: middle;\n",
       "    }\n",
       "\n",
       "    .dataframe tbody tr th {\n",
       "        vertical-align: top;\n",
       "    }\n",
       "\n",
       "    .dataframe thead th {\n",
       "        text-align: right;\n",
       "    }\n",
       "</style>\n",
       "<table border=\"1\" class=\"dataframe\">\n",
       "  <thead>\n",
       "    <tr style=\"text-align: right;\">\n",
       "      <th></th>\n",
       "      <th>index</th>\n",
       "      <th>N° Etudiant</th>\n",
       "      <th>Nom</th>\n",
       "      <th>Prénom</th>\n",
       "      <th>Moyenne</th>\n",
       "      <th>Grade</th>\n",
       "      <th>Grade ECTS</th>\n",
       "      <th>code_UE</th>\n",
       "      <th>libelle_UE</th>\n",
       "      <th>responsable_UE</th>\n",
       "      <th>annee</th>\n",
       "      <th>nom_UV</th>\n",
       "      <th>code_UV</th>\n",
       "      <th>note</th>\n",
       "      <th>lieu</th>\n",
       "      <th>time_year</th>\n",
       "      <th>codeCS</th>\n",
       "      <th>idcss</th>\n",
       "      <th>semestre</th>\n",
       "      <th>unicite</th>\n",
       "      <th>time_id</th>\n",
       "      <th>std ID</th>\n",
       "      <th>lieu_ID</th>\n",
       "      <th>cs ID</th>\n",
       "      <th>cg ID</th>\n",
       "      <th>UV ID</th>\n",
       "    </tr>\n",
       "  </thead>\n",
       "  <tbody>\n",
       "    <tr>\n",
       "      <th>0</th>\n",
       "      <td>0</td>\n",
       "      <td>2015_77ce</td>\n",
       "      <td>Knapp</td>\n",
       "      <td>Casey</td>\n",
       "      <td>10.0</td>\n",
       "      <td>atteint</td>\n",
       "      <td>B</td>\n",
       "      <td>IGA-A1-S2</td>\n",
       "      <td>IGA : Pratique de l'ingénierie</td>\n",
       "      <td>GOSSIAUX Pol Bernard</td>\n",
       "      <td>1ère année d'ingénieur 2014-2015</td>\n",
       "      <td>PRIME</td>\n",
       "      <td>1A-S2-PRI</td>\n",
       "      <td>=</td>\n",
       "      <td>Nantes</td>\n",
       "      <td>2015</td>\n",
       "      <td>IGA</td>\n",
       "      <td>IGA-GOSSIAUX Pol Bernard</td>\n",
       "      <td>S2</td>\n",
       "      <td>2015-S2</td>\n",
       "      <td>0</td>\n",
       "      <td>0</td>\n",
       "      <td>0</td>\n",
       "      <td>0</td>\n",
       "      <td>0</td>\n",
       "      <td>0</td>\n",
       "    </tr>\n",
       "  </tbody>\n",
       "</table>\n",
       "</div>"
      ],
      "text/plain": [
       "   index N° Etudiant    Nom Prénom  Moyenne    Grade Grade ECTS    code_UE  \\\n",
       "0      0   2015_77ce  Knapp  Casey     10.0  atteint          B  IGA-A1-S2   \n",
       "\n",
       "                       libelle_UE        responsable_UE  \\\n",
       "0  IGA : Pratique de l'ingénierie  GOSSIAUX Pol Bernard   \n",
       "\n",
       "                              annee nom_UV    code_UV note    lieu time_year  \\\n",
       "0  1ère année d'ingénieur 2014-2015  PRIME  1A-S2-PRI    =  Nantes      2015   \n",
       "\n",
       "  codeCS                     idcss semestre  unicite  time_id  std ID  \\\n",
       "0    IGA  IGA-GOSSIAUX Pol Bernard       S2  2015-S2        0       0   \n",
       "\n",
       "   lieu_ID  cs ID  cg ID  UV ID  \n",
       "0        0      0      0      0  "
      ]
     },
     "execution_count": 168,
     "metadata": {},
     "output_type": "execute_result"
    }
   ],
   "source": [
    "df.head(1)"
   ]
  },
  {
   "cell_type": "code",
   "execution_count": 170,
   "metadata": {},
   "outputs": [],
   "source": [
    "ft_cscg = df.loc[:,[\"cs ID\",\"cg ID\"]]"
   ]
  },
  {
   "cell_type": "code",
   "execution_count": 173,
   "metadata": {},
   "outputs": [],
   "source": [
    "ft_cscg = ft_cscg.drop_duplicates()"
   ]
  },
  {
   "cell_type": "markdown",
   "metadata": {},
   "source": [
    "# Creation data frame"
   ]
  },
  {
   "cell_type": "code",
   "execution_count": null,
   "metadata": {},
   "outputs": [],
   "source": [
    "import itertools\n"
   ]
  },
  {
   "cell_type": "code",
   "execution_count": null,
   "metadata": {},
   "outputs": [],
   "source": [
    "l = 100000\n",
    "idd = list(itertools.chain.from_iterable([[k,k,k] for k in range(l)]))"
   ]
  },
  {
   "cell_type": "code",
   "execution_count": null,
   "metadata": {},
   "outputs": [],
   "source": [
    "tomax = [1,1,3,2,2,4,1,2,1,4,4,1,5,9,5]*int(l/5)"
   ]
  },
  {
   "cell_type": "code",
   "execution_count": null,
   "metadata": {},
   "outputs": [],
   "source": [
    "junk = ['a']*(3*l)"
   ]
  },
  {
   "cell_type": "code",
   "execution_count": null,
   "metadata": {},
   "outputs": [],
   "source": [
    "mydic = {\"id\": idd, \"tomax\": tomax, \"junk\": junk}\n",
    "mydf = pd.DataFrame(mydic)"
   ]
  },
  {
   "cell_type": "code",
   "execution_count": null,
   "metadata": {},
   "outputs": [],
   "source": [
    "unique = mydf['id'].unique()"
   ]
  },
  {
   "cell_type": "code",
   "execution_count": null,
   "metadata": {},
   "outputs": [],
   "source": [
    "my_ind = mydf.groupby(['id'])['tomax'].idxmax()\n",
    "mydf.iloc[my_ind]"
   ]
  },
  {
   "cell_type": "code",
   "execution_count": null,
   "metadata": {},
   "outputs": [],
   "source": []
  }
 ],
 "metadata": {
  "kernelspec": {
   "display_name": "Python 3",
   "language": "python",
   "name": "python3"
  },
  "language_info": {
   "codemirror_mode": {
    "name": "ipython",
    "version": 3
   },
   "file_extension": ".py",
   "mimetype": "text/x-python",
   "name": "python",
   "nbconvert_exporter": "python",
   "pygments_lexer": "ipython3",
   "version": "3.6.7"
  }
 },
 "nbformat": 4,
 "nbformat_minor": 2
}
