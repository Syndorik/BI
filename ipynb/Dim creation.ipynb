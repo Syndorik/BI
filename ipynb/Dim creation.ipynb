{
 "cells": [
  {
   "cell_type": "markdown",
   "metadata": {},
   "source": [
    "# Creation of dimension"
   ]
  },
  {
   "cell_type": "markdown",
   "metadata": {},
   "source": [
    "The purpose here is to extract the different dimension of the final_result file"
   ]
  },
  {
   "cell_type": "code",
   "execution_count": 1,
   "metadata": {},
   "outputs": [
    {
     "name": "stdout",
     "output_type": "stream",
     "text": [
      "The pandas version is 0.23.4.\n",
      "The pandas version is 0.23.4.\n"
     ]
    }
   ],
   "source": [
    "import pandas as pd\n",
    "import numpy as np\n",
    "import random as rd\n",
    "pd.options.display.max_columns = 400\n",
    "print('The pandas version is {}.'.format(pd.__version__))\n",
    "import hashlib\n",
    "from rdgeneration import Rdgen\n",
    "pd.options.mode.chained_assignment = None \n",
    "import os"
   ]
  },
  {
   "cell_type": "markdown",
   "metadata": {},
   "source": [
    "## Import file"
   ]
  },
  {
   "cell_type": "code",
   "execution_count": 2,
   "metadata": {},
   "outputs": [],
   "source": [
    "df = pd.read_csv('../results/final_res.csv')"
   ]
  },
  {
   "cell_type": "markdown",
   "metadata": {},
   "source": [
    "## Dim Etudiant"
   ]
  },
  {
   "cell_type": "code",
   "execution_count": 3,
   "metadata": {},
   "outputs": [],
   "source": [
    "def get_ind(var,strr,dic,unique,printed):\n",
    "    if((var[printed] in unique) and (var[printed] not in dic) ):\n",
    "        dic[var[printed]] = var[strr]\n",
    "        \n",
    "def get_ind2(df):\n",
    "    df.drop('index', axis = 1,inplace=True)\n",
    "    df.drop_duplicates(inplace=True)\n",
    "    df.reset_index(inplace=True)\n",
    "    return df"
   ]
  },
  {
   "cell_type": "code",
   "execution_count": 4,
   "metadata": {},
   "outputs": [],
   "source": [
    "df[\"time_year\"] = df[\"N° Etudiant\"].apply(lambda var: var.split(\"_\")[0])\n",
    "df[\"codeCS\"] = df[\"code_UE\"].apply(lambda var : var.split('-')[0])\n",
    "df[\"idcss\"] = df.loc[:,[\"responsable_UE\",\"codeCS\"]].apply(lambda var : var[\"codeCS\"] + \"-\" +var[\"responsable_UE\"], axis=1)\n",
    "df[\"semestre\"] = df[\"code_UE\"].apply(lambda var : var.split(\"-\")[2])\n",
    "df[\"unicite\"] = df.loc[:,[\"time_year\",\"semestre\"]].apply(lambda var : var[\"time_year\"]+\"-\"+var[\"semestre\"],axis = 1)"
   ]
  },
  {
   "cell_type": "code",
   "execution_count": 5,
   "metadata": {},
   "outputs": [],
   "source": [
    "df.drop(\"Unnamed: 0\", inplace=True, axis=1)\n",
    "df.reset_index(inplace= True)"
   ]
  },
  {
   "cell_type": "markdown",
   "metadata": {},
   "source": [
    "### Definition des jetons"
   ]
  },
  {
   "cell_type": "markdown",
   "metadata": {},
   "source": [
    "On regarde libelleUE, codeCS et semestre pour avoir l'ensemble des UE et affecter les Jac aux differentes CS"
   ]
  },
  {
   "cell_type": "markdown",
   "metadata": {},
   "source": [
    "Au vu des résultats, les UVs ne sont pas pareils en fonction des années. Donc une CS pour 2015 peut être évalué par 4 UV et en 2016 par 2 seulement et en 2017 par 3. <br>\n",
    "On va établir nos jetons a partir du minimum d'UV validant les CS. C'est à dire que pour l'exemple précédent, l'UV va être validé pour la validation de 2 UV et ce pour chaque année. <br>\n",
    "Toutes les UV donnent 4 jetons. (choisis aléatoirement)"
   ]
  },
  {
   "cell_type": "code",
   "execution_count": 6,
   "metadata": {},
   "outputs": [],
   "source": [
    "forj = df[[\"nom_UV\",\"codeCS\",\"semestre\"]].drop_duplicates()"
   ]
  },
  {
   "cell_type": "code",
   "execution_count": 7,
   "metadata": {},
   "outputs": [],
   "source": [
    "forj = df[[\"nom_UV\",\"codeCS\",\"semestre\",\"time_year\"]]"
   ]
  },
  {
   "cell_type": "code",
   "execution_count": 8,
   "metadata": {},
   "outputs": [],
   "source": [
    "forj_2015 = forj[forj[\"time_year\"] == \"2015\"].drop_duplicates()\n",
    "forj_2016 = forj[forj[\"time_year\"] == \"2016\"].drop_duplicates()\n",
    "forj_2017 = forj[forj[\"time_year\"] == \"2017\"].drop_duplicates()"
   ]
  },
  {
   "cell_type": "code",
   "execution_count": 9,
   "metadata": {},
   "outputs": [],
   "source": [
    "forj_2015_s1 = forj_2015[forj_2015[\"semestre\"] == \"S1\"].sort_values(\"codeCS\")\n",
    "forj_2015_s2 = forj_2015[forj_2015[\"semestre\"] == \"S2\"].sort_values(\"codeCS\")\n",
    "forj_2016_s1 = forj_2016[forj_2016[\"semestre\"] == \"S1\"].sort_values(\"codeCS\")\n",
    "forj_2016_s2 = forj_2016[forj_2016[\"semestre\"] == \"S2\"].sort_values(\"codeCS\")\n",
    "forj_2017_s1 = forj_2017[forj_2017[\"semestre\"] == \"S1\"].sort_values(\"codeCS\")\n",
    "forj_2017_s2 = forj_2017[forj_2017[\"semestre\"] == \"S2\"].sort_values(\"codeCS\")"
   ]
  },
  {
   "cell_type": "code",
   "execution_count": 10,
   "metadata": {},
   "outputs": [],
   "source": [
    "def sdf(annee,semestre,cs):\n",
    "    dff = globals()[\"forj_\"+str(annee)+\"_\"+str(semestre)]\n",
    "    return dff[dff[\"codeCS\"] == cs]"
   ]
  },
  {
   "cell_type": "code",
   "execution_count": 11,
   "metadata": {},
   "outputs": [
    {
     "data": {
      "text/html": [
       "<div>\n",
       "<style scoped>\n",
       "    .dataframe tbody tr th:only-of-type {\n",
       "        vertical-align: middle;\n",
       "    }\n",
       "\n",
       "    .dataframe tbody tr th {\n",
       "        vertical-align: top;\n",
       "    }\n",
       "\n",
       "    .dataframe thead th {\n",
       "        text-align: right;\n",
       "    }\n",
       "</style>\n",
       "<table border=\"1\" class=\"dataframe\">\n",
       "  <thead>\n",
       "    <tr style=\"text-align: right;\">\n",
       "      <th></th>\n",
       "      <th>nom_UV</th>\n",
       "      <th>codeCS</th>\n",
       "      <th>semestre</th>\n",
       "      <th>time_year</th>\n",
       "    </tr>\n",
       "  </thead>\n",
       "  <tbody>\n",
       "    <tr>\n",
       "      <th>9379</th>\n",
       "      <td>Calcul scientifique</td>\n",
       "      <td>STC</td>\n",
       "      <td>S1</td>\n",
       "      <td>2017</td>\n",
       "    </tr>\n",
       "  </tbody>\n",
       "</table>\n",
       "</div>"
      ],
      "text/plain": [
       "                   nom_UV codeCS semestre time_year\n",
       "9379  Calcul scientifique    STC       S1      2017"
      ]
     },
     "execution_count": 11,
     "metadata": {},
     "output_type": "execute_result"
    }
   ],
   "source": [
    "sdf(2017,'s1','STC')"
   ]
  },
  {
   "cell_type": "code",
   "execution_count": 12,
   "metadata": {},
   "outputs": [
    {
     "data": {
      "text/plain": [
       "array(['IGA', 'IGB', 'interpA', 'interpB', 'intraA', 'intraB', 'intraC',\n",
       "       'STA', 'STB', 'STC'], dtype=object)"
      ]
     },
     "execution_count": 12,
     "metadata": {},
     "output_type": "execute_result"
    }
   ],
   "source": [
    "df[\"codeCS\"].unique()"
   ]
  },
  {
   "cell_type": "markdown",
   "metadata": {},
   "source": [
    "Après observation pour jac, on decide :\n",
    "- interpA interpB intraA intraB intraC : 4 sur l'année\n",
    "\n",
    "Car ce sont des matirèes qui ne sont pas pris par tout les étudiants.<br>\n",
    "\n",
    "Pour le reste: \n",
    "2015 S1 :\n",
    "- STA 12\n",
    "- STB 12\n",
    "- STC 4\n",
    "\n",
    "2015 S2:\n",
    "- STA 16\n",
    "- STB 4\n",
    "- STC 12\n",
    "- IGA 4\n",
    "- IGB 4\n",
    "\n",
    "2016 S1:\n",
    "- STA 12\n",
    "- STB 12\n",
    "- STC 4\n",
    "\n",
    "2016 S2:\n",
    "- STA 12\n",
    "- STB 4\n",
    "- STC 12\n",
    "\n",
    "2017 S1:\n",
    "- STA 8\n",
    "- STB 8\n",
    "- STC 4\n",
    "\n",
    "2017 S2:\n",
    "- STA 8\n",
    "- STB 8\n",
    "- STC 4"
   ]
  },
  {
   "cell_type": "code",
   "execution_count": 13,
   "metadata": {},
   "outputs": [],
   "source": [
    "jacq_dic = {\"2015\" : { \"S1\" : \n",
    "                      {\"STA\" : 12,\n",
    "                       \"STB\" : 12,\n",
    "                       \"STC\" : 4}, \n",
    "                      \"S2\" : \n",
    "                      {\"STA\" : 16,\n",
    "                       \"STB\" : 4,\n",
    "                       \"STC\" : 12, \n",
    "                       \"IGA\" : 4,\n",
    "                       \"IGB\" : 4}\n",
    "                     },\n",
    "            \"2016\" : { \"S1\" : \n",
    "                      {\"STA\" : 12,\n",
    "                       \"STB\" : 12,\n",
    "                       \"STC\" : 4}, \n",
    "                      \"S2\" : \n",
    "                      {\"STA\" : 12,\n",
    "                       \"STB\" : 4,\n",
    "                       \"STC\" : 12}\n",
    "                     },\n",
    "            \"2017\" : { \"S1\" : \n",
    "                      {\"STA\" : 8,\n",
    "                       \"STB\" : 8,\n",
    "                       \"STC\" : 4}, \n",
    "                      \"S2\" : \n",
    "                      {\"STA\" : 8,\n",
    "                       \"STB\" : 8,\n",
    "                       \"STC\" : 4}\n",
    "                     }\n",
    "            \n",
    "           }"
   ]
  },
  {
   "cell_type": "markdown",
   "metadata": {},
   "source": [
    "## Dim Temps"
   ]
  },
  {
   "cell_type": "code",
   "execution_count": 14,
   "metadata": {},
   "outputs": [],
   "source": [
    "df_tps = df.loc[:,[\"index\",\"time_year\",\"semestre\"]]\n",
    "df_tps[\"unicite\"] = df.loc[:,[\"time_year\",\"semestre\"]].apply(lambda var : var[\"time_year\"]+\"-\"+var[\"semestre\"],axis = 1)\n",
    "\n",
    "df_tps = get_ind2(df_tps)\n",
    "df_tps.drop(\"index\",axis=1,inplace=True)\n",
    "df_tps.reset_index(inplace=True)\n",
    "df_tps.drop(\"index\",axis=1,inplace=True)\n",
    "df_tps.reset_index(inplace=True)\n",
    "\n",
    "col = ['time_id', 'annee', 'semestre', 'unicite']\n",
    "df_tps.columns = col\n",
    "\n",
    "df[\"time_id\"] = df.apply(lambda var : df_tps[df_tps[\"unicite\"] == var[\"unicite\"]].index[0],axis = 1)\n",
    "df_tps.drop(\"unicite\",inplace= True,axis=1)"
   ]
  },
  {
   "cell_type": "markdown",
   "metadata": {},
   "source": [
    "## Dim Etudiant"
   ]
  },
  {
   "cell_type": "code",
   "execution_count": 15,
   "metadata": {},
   "outputs": [],
   "source": [
    "df_student = df.loc[:,[\"index\",\"N° Etudiant\",\"Nom\",\"Prénom\",\"time_year\"]]\n",
    "df_student = get_ind2(df_student)\n",
    "\n",
    "df_student.drop(\"index\",axis=1,inplace=True)\n",
    "df_student.reset_index(inplace=True)\n",
    "df_student.drop(\"index\",axis=1,inplace=True)\n",
    "df_student.reset_index(inplace=True)\n",
    "\n",
    "col = list(df_student.columns)\n",
    "col[0] = \"std ID\"\n",
    "df_student.columns = col\n",
    "\n",
    "df[\"std ID\"] = df.apply(lambda var : df_student[df_student[\"N° Etudiant\"] == var[\"N° Etudiant\"]].index[0],axis = 1)"
   ]
  },
  {
   "cell_type": "markdown",
   "metadata": {},
   "source": [
    "## Dim UV"
   ]
  },
  {
   "cell_type": "code",
   "execution_count": 16,
   "metadata": {},
   "outputs": [],
   "source": [
    "df_UV = df.loc[:,[\"index\",\"nom_UV\",\"code_UV\",\"time_year\",\"semestre\"]]\n",
    "df_UV = get_ind2(df_UV)\n",
    "df_UV.drop(\"index\",axis=1,inplace=True)\n",
    "df_UV.reset_index(inplace=True)\n",
    "df_UV.drop(\"index\",axis=1,inplace=True)\n",
    "df_UV.reset_index(inplace=True)\n",
    "\n",
    "col = list(df_UV.columns)\n",
    "col[0] = \"uv ID\"\n",
    "df_UV.columns = col\n",
    "\n",
    "df[\"UV ID\"] = df.apply(lambda var : df_UV[(df_UV[\"nom_UV\"] == var[\"nom_UV\"]) & (df_UV[\"code_UV\"] == var[\"code_UV\"]) & (df_UV[\"time_year\"] == var[\"time_year\"]) & (df_UV[\"semestre\"] == var[\"semestre\"])][\"uv ID\"].index[0],axis = 1)"
   ]
  },
  {
   "cell_type": "markdown",
   "metadata": {},
   "source": [
    "## Dim CS"
   ]
  },
  {
   "cell_type": "code",
   "execution_count": 17,
   "metadata": {},
   "outputs": [],
   "source": [
    "df_cs = df.loc[:,[\"index\",\"idcss\",\"responsable_UE\",\"libelle_UE\",\"codeCS\",\"semestre\",\"time_year\"]]\n",
    "df_cs = get_ind2(df_cs)\n",
    "df_cs.drop(\"index\",axis=1,inplace=True)\n",
    "df_cs.reset_index(inplace=True)\n",
    "df_cs.drop(\"index\",axis=1,inplace=True)\n",
    "df_cs.reset_index(inplace=True)\n",
    "\n",
    "col = ['cs ID', 'idcss', 'respoCS', 'nom_CS', 'codeCS','semestre','annee']\n",
    "df_cs.columns = col\n",
    "\n",
    "df[\"cs ID\"] = df.apply(lambda var : df_cs[(df_cs[\"idcss\"] == var[\"idcss\"]) & (df_cs[\"semestre\"] == var[\"semestre\"]) & (df_cs[\"annee\"] == var[\"time_year\"])].index[0],axis = 1)\n",
    "\n",
    "df_cs.drop(\"idcss\",inplace= True,axis=1)\n",
    "mandatory = ['STA','STB','STC','IGA','IGB']\n",
    "df_cs[\"jacq\"] = df_cs.apply(lambda line : jacq_dic[line[\"annee\"]][line[\"semestre\"]][line[\"codeCS\"]] if line[\"codeCS\"] in mandatory else 4 ,axis = 1)"
   ]
  },
  {
   "cell_type": "code",
   "execution_count": 18,
   "metadata": {},
   "outputs": [
    {
     "data": {
      "text/plain": [
       "Index(['cs ID', 'respoCS', 'nom_CS', 'codeCS', 'semestre', 'annee', 'jacq'], dtype='object')"
      ]
     },
     "execution_count": 18,
     "metadata": {},
     "output_type": "execute_result"
    }
   ],
   "source": [
    "df_cs.columns"
   ]
  },
  {
   "cell_type": "markdown",
   "metadata": {},
   "source": [
    "## Dim CG"
   ]
  },
  {
   "cell_type": "code",
   "execution_count": 19,
   "metadata": {},
   "outputs": [],
   "source": [
    "rel_CG_nom = {\"IG\": \"Compétences en ingénierie\",\n",
    "             \"interp\": \"Compétences interpersonnelles\",\n",
    "             \"intra\" : \"Compétences intra-personnelles\",\n",
    "             \"ST\" : \"Compétences scientifiques et techniques\"}\n",
    "df_cg = df.loc[:,[\"index\",\"codeCS\"]]\n",
    "df_cg[\"codeCS\"] = df_cg[\"codeCS\"].apply(lambda var: var[0:-1])\n",
    "df_cg[\"cg_nom\"] = df_cg[\"codeCS\"].apply(lambda var: rel_CG_nom[var])\n",
    "\n",
    "df_cg = get_ind2(df_cg)\n",
    "\n",
    "df_cg.drop(\"index\",axis=1,inplace=True)\n",
    "df_cg.reset_index(inplace=True)\n",
    "df_cg.drop(\"index\",axis=1,inplace=True)\n",
    "df_cg.reset_index(inplace=True)\n",
    "\n",
    "col = [\"cg id\",\"code cg\",\"cg_nom\"]\n",
    "df_cg.columns = col\n",
    "\n",
    "\n",
    "df[\"cg ID\"] = df.apply(lambda var : df_cg[df_cg[\"code cg\"] == var[\"codeCS\"][:-1]].index[0],axis = 1)\n"
   ]
  },
  {
   "cell_type": "code",
   "execution_count": 20,
   "metadata": {},
   "outputs": [
    {
     "data": {
      "text/plain": [
       "Index(['cg id', 'code cg', 'cg_nom'], dtype='object')"
      ]
     },
     "execution_count": 20,
     "metadata": {},
     "output_type": "execute_result"
    }
   ],
   "source": [
    "df_cg.columns"
   ]
  },
  {
   "cell_type": "markdown",
   "metadata": {},
   "source": [
    "# Degenerated Dim UvGrade"
   ]
  },
  {
   "cell_type": "code",
   "execution_count": 21,
   "metadata": {},
   "outputs": [],
   "source": [
    "temp = {'id' : [0,1,2,3,4,5], 'symbol' : ['+','=','-','','ABS','DIS']}\n",
    "uv_grade = pd.DataFrame(temp)"
   ]
  },
  {
   "cell_type": "code",
   "execution_count": 22,
   "metadata": {},
   "outputs": [],
   "source": [
    "dic_temp = {'+':0,'=':1,'-':2, np.nan:3,'ABS':4,'DIS':5}"
   ]
  },
  {
   "cell_type": "code",
   "execution_count": 23,
   "metadata": {},
   "outputs": [],
   "source": [
    "df['uv_grade_ID'] = df.apply(lambda var : dic_temp[var['note']], axis =1)"
   ]
  },
  {
   "cell_type": "markdown",
   "metadata": {},
   "source": [
    "# Dim Grade ECTS"
   ]
  },
  {
   "cell_type": "code",
   "execution_count": 24,
   "metadata": {},
   "outputs": [
    {
     "data": {
      "text/plain": [
       "array(['atteint', 'en dessous', 'au dessus', nan], dtype=object)"
      ]
     },
     "execution_count": 24,
     "metadata": {},
     "output_type": "execute_result"
    }
   ],
   "source": [
    "df[\"Grade\"].unique()"
   ]
  },
  {
   "cell_type": "code",
   "execution_count": 25,
   "metadata": {},
   "outputs": [],
   "source": [
    "temp = {'id' : [0,1,2,3,4,5,6,7], \n",
    "        'grade_ECTS' : ['A','B','C','D','E','F','FX',''], \n",
    "        'grade_atteint' : ['au dessus','atteint','atteint','atteint','atteint','en dessous','en dessous','']}\n",
    "cpt_grade = pd.DataFrame(temp)"
   ]
  },
  {
   "cell_type": "code",
   "execution_count": 26,
   "metadata": {},
   "outputs": [],
   "source": [
    "dic_temp = {'A':0,'B':1,'C':2,'D':3,'E':4,'F':5,'FX':6,np.nan:7}"
   ]
  },
  {
   "cell_type": "code",
   "execution_count": 27,
   "metadata": {},
   "outputs": [],
   "source": [
    "df['cpt_grade_ID'] = df.apply(lambda var: dic_temp[var['Grade ECTS']],axis =1)"
   ]
  },
  {
   "cell_type": "markdown",
   "metadata": {},
   "source": [
    "# Dim Degenerated Lieu"
   ]
  },
  {
   "cell_type": "code",
   "execution_count": 28,
   "metadata": {},
   "outputs": [],
   "source": [
    "temp = {'id' : [0], 'lieu': ['Nantes']}\n",
    "lieu_d = pd.DataFrame(temp)"
   ]
  },
  {
   "cell_type": "code",
   "execution_count": 29,
   "metadata": {},
   "outputs": [],
   "source": [
    "dic_temp = {'Nantes': 0}\n",
    "df['lieu_ID'] = df.apply(lambda var : dic_temp[var['lieu']],axis =1)"
   ]
  },
  {
   "cell_type": "code",
   "execution_count": 30,
   "metadata": {},
   "outputs": [
    {
     "data": {
      "text/plain": [
       "Index(['id', 'lieu'], dtype='object')"
      ]
     },
     "execution_count": 30,
     "metadata": {},
     "output_type": "execute_result"
    }
   ],
   "source": [
    "lieu_d.columns"
   ]
  },
  {
   "cell_type": "markdown",
   "metadata": {},
   "source": [
    "## Fact Table TDFNotes"
   ]
  },
  {
   "cell_type": "code",
   "execution_count": 31,
   "metadata": {},
   "outputs": [],
   "source": [
    "def jnote(line):\n",
    "    if line[\"note\"] == \"+\":\n",
    "        return 5\n",
    "    elif line[\"note\"] == \"=\":\n",
    "        return 4\n",
    "    else: \n",
    "        return 0"
   ]
  },
  {
   "cell_type": "code",
   "execution_count": 32,
   "metadata": {},
   "outputs": [],
   "source": [
    "ft_notes = df.loc[:,[\"cs ID\",\"UV ID\",\"time_id\",\"std ID\",\"lieu_ID\",\"note\"]]"
   ]
  },
  {
   "cell_type": "code",
   "execution_count": 33,
   "metadata": {},
   "outputs": [],
   "source": [
    "ft_notes[\"jetons_acquis\"] = ft_notes.apply(lambda line: jnote(line), axis = 1)"
   ]
  },
  {
   "cell_type": "code",
   "execution_count": 34,
   "metadata": {},
   "outputs": [],
   "source": [
    "ft_notes.drop(\"note\",inplace = True, axis = 1)"
   ]
  },
  {
   "cell_type": "markdown",
   "metadata": {},
   "source": [
    "## Fact Table TDF_csuv"
   ]
  },
  {
   "cell_type": "code",
   "execution_count": 35,
   "metadata": {},
   "outputs": [],
   "source": [
    "ft_csuv = df.loc[:,[\"cs ID\",\"UV ID\"]]"
   ]
  },
  {
   "cell_type": "code",
   "execution_count": 36,
   "metadata": {},
   "outputs": [],
   "source": [
    "def niv_cs(line):\n",
    "    tmp = df_cs[df_cs[\"cs ID\"] == line[\"cs ID\"]]\n",
    "\n",
    "    if tmp[\"semestre\"][tmp.index[0]] == \"S1\":\n",
    "        return 1\n",
    "    elif tmp[\"semestre\"][tmp.index[0]] == \"S2\" :\n",
    "        return 2"
   ]
  },
  {
   "cell_type": "code",
   "execution_count": 37,
   "metadata": {},
   "outputs": [],
   "source": [
    "ft_csuv[\"niveau_CS\"] = ft_csuv.apply(lambda line : niv_cs(line),axis = 1)"
   ]
  },
  {
   "cell_type": "code",
   "execution_count": 38,
   "metadata": {},
   "outputs": [],
   "source": [
    "ft_csuv[\"nb_jetons\"] = 4"
   ]
  },
  {
   "cell_type": "markdown",
   "metadata": {},
   "source": [
    "## Fact Table TDF_cscg"
   ]
  },
  {
   "cell_type": "code",
   "execution_count": 39,
   "metadata": {},
   "outputs": [
    {
     "data": {
      "text/html": [
       "<div>\n",
       "<style scoped>\n",
       "    .dataframe tbody tr th:only-of-type {\n",
       "        vertical-align: middle;\n",
       "    }\n",
       "\n",
       "    .dataframe tbody tr th {\n",
       "        vertical-align: top;\n",
       "    }\n",
       "\n",
       "    .dataframe thead th {\n",
       "        text-align: right;\n",
       "    }\n",
       "</style>\n",
       "<table border=\"1\" class=\"dataframe\">\n",
       "  <thead>\n",
       "    <tr style=\"text-align: right;\">\n",
       "      <th></th>\n",
       "      <th>index</th>\n",
       "      <th>N° Etudiant</th>\n",
       "      <th>Nom</th>\n",
       "      <th>Prénom</th>\n",
       "      <th>Moyenne</th>\n",
       "      <th>Grade</th>\n",
       "      <th>Grade ECTS</th>\n",
       "      <th>code_UE</th>\n",
       "      <th>libelle_UE</th>\n",
       "      <th>responsable_UE</th>\n",
       "      <th>annee</th>\n",
       "      <th>nom_UV</th>\n",
       "      <th>code_UV</th>\n",
       "      <th>note</th>\n",
       "      <th>lieu</th>\n",
       "      <th>time_year</th>\n",
       "      <th>codeCS</th>\n",
       "      <th>idcss</th>\n",
       "      <th>semestre</th>\n",
       "      <th>unicite</th>\n",
       "      <th>time_id</th>\n",
       "      <th>std ID</th>\n",
       "      <th>UV ID</th>\n",
       "      <th>cs ID</th>\n",
       "      <th>cg ID</th>\n",
       "      <th>uv_grade_ID</th>\n",
       "      <th>cpt_grade_ID</th>\n",
       "      <th>lieu_ID</th>\n",
       "    </tr>\n",
       "  </thead>\n",
       "  <tbody>\n",
       "    <tr>\n",
       "      <th>0</th>\n",
       "      <td>0</td>\n",
       "      <td>2015_deb6</td>\n",
       "      <td>Kimura</td>\n",
       "      <td>Kelly</td>\n",
       "      <td>10.0</td>\n",
       "      <td>atteint</td>\n",
       "      <td>B</td>\n",
       "      <td>IGA-A1-S2</td>\n",
       "      <td>IGA : Pratique de l'ingénierie</td>\n",
       "      <td>GOSSIAUX Pol Bernard</td>\n",
       "      <td>1ère année d'ingénieur 2014-2015</td>\n",
       "      <td>PRIME</td>\n",
       "      <td>1A-S2-PRI</td>\n",
       "      <td>=</td>\n",
       "      <td>Nantes</td>\n",
       "      <td>2015</td>\n",
       "      <td>IGA</td>\n",
       "      <td>IGA-GOSSIAUX Pol Bernard</td>\n",
       "      <td>S2</td>\n",
       "      <td>2015-S2</td>\n",
       "      <td>0</td>\n",
       "      <td>0</td>\n",
       "      <td>0</td>\n",
       "      <td>0</td>\n",
       "      <td>0</td>\n",
       "      <td>1</td>\n",
       "      <td>1</td>\n",
       "      <td>0</td>\n",
       "    </tr>\n",
       "  </tbody>\n",
       "</table>\n",
       "</div>"
      ],
      "text/plain": [
       "   index N° Etudiant     Nom Prénom  Moyenne    Grade Grade ECTS    code_UE  \\\n",
       "0      0   2015_deb6  Kimura  Kelly     10.0  atteint          B  IGA-A1-S2   \n",
       "\n",
       "                       libelle_UE        responsable_UE  \\\n",
       "0  IGA : Pratique de l'ingénierie  GOSSIAUX Pol Bernard   \n",
       "\n",
       "                              annee nom_UV    code_UV note    lieu time_year  \\\n",
       "0  1ère année d'ingénieur 2014-2015  PRIME  1A-S2-PRI    =  Nantes      2015   \n",
       "\n",
       "  codeCS                     idcss semestre  unicite  time_id  std ID  UV ID  \\\n",
       "0    IGA  IGA-GOSSIAUX Pol Bernard       S2  2015-S2        0       0      0   \n",
       "\n",
       "   cs ID  cg ID  uv_grade_ID  cpt_grade_ID  lieu_ID  \n",
       "0      0      0            1             1        0  "
      ]
     },
     "execution_count": 39,
     "metadata": {},
     "output_type": "execute_result"
    }
   ],
   "source": [
    "df.head(1)"
   ]
  },
  {
   "cell_type": "code",
   "execution_count": 40,
   "metadata": {},
   "outputs": [],
   "source": [
    "ft_cscg = df.loc[:,[\"cs ID\",\"cg ID\"]]"
   ]
  },
  {
   "cell_type": "code",
   "execution_count": 41,
   "metadata": {},
   "outputs": [],
   "source": [
    "ft_cscg = ft_cscg.drop_duplicates()"
   ]
  },
  {
   "cell_type": "markdown",
   "metadata": {},
   "source": [
    "# Creation data frame"
   ]
  },
  {
   "cell_type": "code",
   "execution_count": 42,
   "metadata": {},
   "outputs": [],
   "source": [
    "import itertools\n"
   ]
  },
  {
   "cell_type": "code",
   "execution_count": 43,
   "metadata": {},
   "outputs": [],
   "source": [
    "l = 100000\n",
    "idd = list(itertools.chain.from_iterable([[k,k,k] for k in range(l)]))"
   ]
  },
  {
   "cell_type": "code",
   "execution_count": 44,
   "metadata": {},
   "outputs": [],
   "source": [
    "tomax = [1,1,3,2,2,4,1,2,1,4,4,1,5,9,5]*int(l/5)"
   ]
  },
  {
   "cell_type": "code",
   "execution_count": 45,
   "metadata": {},
   "outputs": [],
   "source": [
    "junk = ['a']*(3*l)"
   ]
  },
  {
   "cell_type": "code",
   "execution_count": 46,
   "metadata": {},
   "outputs": [],
   "source": [
    "mydic = {\"id\": idd, \"tomax\": tomax, \"junk\": junk}\n",
    "mydf = pd.DataFrame(mydic)"
   ]
  },
  {
   "cell_type": "code",
   "execution_count": 47,
   "metadata": {},
   "outputs": [],
   "source": [
    "unique = mydf['id'].unique()"
   ]
  },
  {
   "cell_type": "code",
   "execution_count": 48,
   "metadata": {},
   "outputs": [
    {
     "data": {
      "text/html": [
       "<div>\n",
       "<style scoped>\n",
       "    .dataframe tbody tr th:only-of-type {\n",
       "        vertical-align: middle;\n",
       "    }\n",
       "\n",
       "    .dataframe tbody tr th {\n",
       "        vertical-align: top;\n",
       "    }\n",
       "\n",
       "    .dataframe thead th {\n",
       "        text-align: right;\n",
       "    }\n",
       "</style>\n",
       "<table border=\"1\" class=\"dataframe\">\n",
       "  <thead>\n",
       "    <tr style=\"text-align: right;\">\n",
       "      <th></th>\n",
       "      <th>id</th>\n",
       "      <th>tomax</th>\n",
       "      <th>junk</th>\n",
       "    </tr>\n",
       "  </thead>\n",
       "  <tbody>\n",
       "    <tr>\n",
       "      <th>2</th>\n",
       "      <td>0</td>\n",
       "      <td>3</td>\n",
       "      <td>a</td>\n",
       "    </tr>\n",
       "    <tr>\n",
       "      <th>5</th>\n",
       "      <td>1</td>\n",
       "      <td>4</td>\n",
       "      <td>a</td>\n",
       "    </tr>\n",
       "    <tr>\n",
       "      <th>7</th>\n",
       "      <td>2</td>\n",
       "      <td>2</td>\n",
       "      <td>a</td>\n",
       "    </tr>\n",
       "    <tr>\n",
       "      <th>9</th>\n",
       "      <td>3</td>\n",
       "      <td>4</td>\n",
       "      <td>a</td>\n",
       "    </tr>\n",
       "    <tr>\n",
       "      <th>13</th>\n",
       "      <td>4</td>\n",
       "      <td>9</td>\n",
       "      <td>a</td>\n",
       "    </tr>\n",
       "    <tr>\n",
       "      <th>17</th>\n",
       "      <td>5</td>\n",
       "      <td>3</td>\n",
       "      <td>a</td>\n",
       "    </tr>\n",
       "    <tr>\n",
       "      <th>20</th>\n",
       "      <td>6</td>\n",
       "      <td>4</td>\n",
       "      <td>a</td>\n",
       "    </tr>\n",
       "    <tr>\n",
       "      <th>22</th>\n",
       "      <td>7</td>\n",
       "      <td>2</td>\n",
       "      <td>a</td>\n",
       "    </tr>\n",
       "    <tr>\n",
       "      <th>24</th>\n",
       "      <td>8</td>\n",
       "      <td>4</td>\n",
       "      <td>a</td>\n",
       "    </tr>\n",
       "    <tr>\n",
       "      <th>28</th>\n",
       "      <td>9</td>\n",
       "      <td>9</td>\n",
       "      <td>a</td>\n",
       "    </tr>\n",
       "    <tr>\n",
       "      <th>32</th>\n",
       "      <td>10</td>\n",
       "      <td>3</td>\n",
       "      <td>a</td>\n",
       "    </tr>\n",
       "    <tr>\n",
       "      <th>35</th>\n",
       "      <td>11</td>\n",
       "      <td>4</td>\n",
       "      <td>a</td>\n",
       "    </tr>\n",
       "    <tr>\n",
       "      <th>37</th>\n",
       "      <td>12</td>\n",
       "      <td>2</td>\n",
       "      <td>a</td>\n",
       "    </tr>\n",
       "    <tr>\n",
       "      <th>39</th>\n",
       "      <td>13</td>\n",
       "      <td>4</td>\n",
       "      <td>a</td>\n",
       "    </tr>\n",
       "    <tr>\n",
       "      <th>43</th>\n",
       "      <td>14</td>\n",
       "      <td>9</td>\n",
       "      <td>a</td>\n",
       "    </tr>\n",
       "    <tr>\n",
       "      <th>47</th>\n",
       "      <td>15</td>\n",
       "      <td>3</td>\n",
       "      <td>a</td>\n",
       "    </tr>\n",
       "    <tr>\n",
       "      <th>50</th>\n",
       "      <td>16</td>\n",
       "      <td>4</td>\n",
       "      <td>a</td>\n",
       "    </tr>\n",
       "    <tr>\n",
       "      <th>52</th>\n",
       "      <td>17</td>\n",
       "      <td>2</td>\n",
       "      <td>a</td>\n",
       "    </tr>\n",
       "    <tr>\n",
       "      <th>54</th>\n",
       "      <td>18</td>\n",
       "      <td>4</td>\n",
       "      <td>a</td>\n",
       "    </tr>\n",
       "    <tr>\n",
       "      <th>58</th>\n",
       "      <td>19</td>\n",
       "      <td>9</td>\n",
       "      <td>a</td>\n",
       "    </tr>\n",
       "    <tr>\n",
       "      <th>62</th>\n",
       "      <td>20</td>\n",
       "      <td>3</td>\n",
       "      <td>a</td>\n",
       "    </tr>\n",
       "    <tr>\n",
       "      <th>65</th>\n",
       "      <td>21</td>\n",
       "      <td>4</td>\n",
       "      <td>a</td>\n",
       "    </tr>\n",
       "    <tr>\n",
       "      <th>67</th>\n",
       "      <td>22</td>\n",
       "      <td>2</td>\n",
       "      <td>a</td>\n",
       "    </tr>\n",
       "    <tr>\n",
       "      <th>69</th>\n",
       "      <td>23</td>\n",
       "      <td>4</td>\n",
       "      <td>a</td>\n",
       "    </tr>\n",
       "    <tr>\n",
       "      <th>73</th>\n",
       "      <td>24</td>\n",
       "      <td>9</td>\n",
       "      <td>a</td>\n",
       "    </tr>\n",
       "    <tr>\n",
       "      <th>77</th>\n",
       "      <td>25</td>\n",
       "      <td>3</td>\n",
       "      <td>a</td>\n",
       "    </tr>\n",
       "    <tr>\n",
       "      <th>80</th>\n",
       "      <td>26</td>\n",
       "      <td>4</td>\n",
       "      <td>a</td>\n",
       "    </tr>\n",
       "    <tr>\n",
       "      <th>82</th>\n",
       "      <td>27</td>\n",
       "      <td>2</td>\n",
       "      <td>a</td>\n",
       "    </tr>\n",
       "    <tr>\n",
       "      <th>84</th>\n",
       "      <td>28</td>\n",
       "      <td>4</td>\n",
       "      <td>a</td>\n",
       "    </tr>\n",
       "    <tr>\n",
       "      <th>88</th>\n",
       "      <td>29</td>\n",
       "      <td>9</td>\n",
       "      <td>a</td>\n",
       "    </tr>\n",
       "    <tr>\n",
       "      <th>...</th>\n",
       "      <td>...</td>\n",
       "      <td>...</td>\n",
       "      <td>...</td>\n",
       "    </tr>\n",
       "    <tr>\n",
       "      <th>299912</th>\n",
       "      <td>99970</td>\n",
       "      <td>3</td>\n",
       "      <td>a</td>\n",
       "    </tr>\n",
       "    <tr>\n",
       "      <th>299915</th>\n",
       "      <td>99971</td>\n",
       "      <td>4</td>\n",
       "      <td>a</td>\n",
       "    </tr>\n",
       "    <tr>\n",
       "      <th>299917</th>\n",
       "      <td>99972</td>\n",
       "      <td>2</td>\n",
       "      <td>a</td>\n",
       "    </tr>\n",
       "    <tr>\n",
       "      <th>299919</th>\n",
       "      <td>99973</td>\n",
       "      <td>4</td>\n",
       "      <td>a</td>\n",
       "    </tr>\n",
       "    <tr>\n",
       "      <th>299923</th>\n",
       "      <td>99974</td>\n",
       "      <td>9</td>\n",
       "      <td>a</td>\n",
       "    </tr>\n",
       "    <tr>\n",
       "      <th>299927</th>\n",
       "      <td>99975</td>\n",
       "      <td>3</td>\n",
       "      <td>a</td>\n",
       "    </tr>\n",
       "    <tr>\n",
       "      <th>299930</th>\n",
       "      <td>99976</td>\n",
       "      <td>4</td>\n",
       "      <td>a</td>\n",
       "    </tr>\n",
       "    <tr>\n",
       "      <th>299932</th>\n",
       "      <td>99977</td>\n",
       "      <td>2</td>\n",
       "      <td>a</td>\n",
       "    </tr>\n",
       "    <tr>\n",
       "      <th>299934</th>\n",
       "      <td>99978</td>\n",
       "      <td>4</td>\n",
       "      <td>a</td>\n",
       "    </tr>\n",
       "    <tr>\n",
       "      <th>299938</th>\n",
       "      <td>99979</td>\n",
       "      <td>9</td>\n",
       "      <td>a</td>\n",
       "    </tr>\n",
       "    <tr>\n",
       "      <th>299942</th>\n",
       "      <td>99980</td>\n",
       "      <td>3</td>\n",
       "      <td>a</td>\n",
       "    </tr>\n",
       "    <tr>\n",
       "      <th>299945</th>\n",
       "      <td>99981</td>\n",
       "      <td>4</td>\n",
       "      <td>a</td>\n",
       "    </tr>\n",
       "    <tr>\n",
       "      <th>299947</th>\n",
       "      <td>99982</td>\n",
       "      <td>2</td>\n",
       "      <td>a</td>\n",
       "    </tr>\n",
       "    <tr>\n",
       "      <th>299949</th>\n",
       "      <td>99983</td>\n",
       "      <td>4</td>\n",
       "      <td>a</td>\n",
       "    </tr>\n",
       "    <tr>\n",
       "      <th>299953</th>\n",
       "      <td>99984</td>\n",
       "      <td>9</td>\n",
       "      <td>a</td>\n",
       "    </tr>\n",
       "    <tr>\n",
       "      <th>299957</th>\n",
       "      <td>99985</td>\n",
       "      <td>3</td>\n",
       "      <td>a</td>\n",
       "    </tr>\n",
       "    <tr>\n",
       "      <th>299960</th>\n",
       "      <td>99986</td>\n",
       "      <td>4</td>\n",
       "      <td>a</td>\n",
       "    </tr>\n",
       "    <tr>\n",
       "      <th>299962</th>\n",
       "      <td>99987</td>\n",
       "      <td>2</td>\n",
       "      <td>a</td>\n",
       "    </tr>\n",
       "    <tr>\n",
       "      <th>299964</th>\n",
       "      <td>99988</td>\n",
       "      <td>4</td>\n",
       "      <td>a</td>\n",
       "    </tr>\n",
       "    <tr>\n",
       "      <th>299968</th>\n",
       "      <td>99989</td>\n",
       "      <td>9</td>\n",
       "      <td>a</td>\n",
       "    </tr>\n",
       "    <tr>\n",
       "      <th>299972</th>\n",
       "      <td>99990</td>\n",
       "      <td>3</td>\n",
       "      <td>a</td>\n",
       "    </tr>\n",
       "    <tr>\n",
       "      <th>299975</th>\n",
       "      <td>99991</td>\n",
       "      <td>4</td>\n",
       "      <td>a</td>\n",
       "    </tr>\n",
       "    <tr>\n",
       "      <th>299977</th>\n",
       "      <td>99992</td>\n",
       "      <td>2</td>\n",
       "      <td>a</td>\n",
       "    </tr>\n",
       "    <tr>\n",
       "      <th>299979</th>\n",
       "      <td>99993</td>\n",
       "      <td>4</td>\n",
       "      <td>a</td>\n",
       "    </tr>\n",
       "    <tr>\n",
       "      <th>299983</th>\n",
       "      <td>99994</td>\n",
       "      <td>9</td>\n",
       "      <td>a</td>\n",
       "    </tr>\n",
       "    <tr>\n",
       "      <th>299987</th>\n",
       "      <td>99995</td>\n",
       "      <td>3</td>\n",
       "      <td>a</td>\n",
       "    </tr>\n",
       "    <tr>\n",
       "      <th>299990</th>\n",
       "      <td>99996</td>\n",
       "      <td>4</td>\n",
       "      <td>a</td>\n",
       "    </tr>\n",
       "    <tr>\n",
       "      <th>299992</th>\n",
       "      <td>99997</td>\n",
       "      <td>2</td>\n",
       "      <td>a</td>\n",
       "    </tr>\n",
       "    <tr>\n",
       "      <th>299994</th>\n",
       "      <td>99998</td>\n",
       "      <td>4</td>\n",
       "      <td>a</td>\n",
       "    </tr>\n",
       "    <tr>\n",
       "      <th>299998</th>\n",
       "      <td>99999</td>\n",
       "      <td>9</td>\n",
       "      <td>a</td>\n",
       "    </tr>\n",
       "  </tbody>\n",
       "</table>\n",
       "<p>100000 rows × 3 columns</p>\n",
       "</div>"
      ],
      "text/plain": [
       "           id  tomax junk\n",
       "2           0      3    a\n",
       "5           1      4    a\n",
       "7           2      2    a\n",
       "9           3      4    a\n",
       "13          4      9    a\n",
       "17          5      3    a\n",
       "20          6      4    a\n",
       "22          7      2    a\n",
       "24          8      4    a\n",
       "28          9      9    a\n",
       "32         10      3    a\n",
       "35         11      4    a\n",
       "37         12      2    a\n",
       "39         13      4    a\n",
       "43         14      9    a\n",
       "47         15      3    a\n",
       "50         16      4    a\n",
       "52         17      2    a\n",
       "54         18      4    a\n",
       "58         19      9    a\n",
       "62         20      3    a\n",
       "65         21      4    a\n",
       "67         22      2    a\n",
       "69         23      4    a\n",
       "73         24      9    a\n",
       "77         25      3    a\n",
       "80         26      4    a\n",
       "82         27      2    a\n",
       "84         28      4    a\n",
       "88         29      9    a\n",
       "...       ...    ...  ...\n",
       "299912  99970      3    a\n",
       "299915  99971      4    a\n",
       "299917  99972      2    a\n",
       "299919  99973      4    a\n",
       "299923  99974      9    a\n",
       "299927  99975      3    a\n",
       "299930  99976      4    a\n",
       "299932  99977      2    a\n",
       "299934  99978      4    a\n",
       "299938  99979      9    a\n",
       "299942  99980      3    a\n",
       "299945  99981      4    a\n",
       "299947  99982      2    a\n",
       "299949  99983      4    a\n",
       "299953  99984      9    a\n",
       "299957  99985      3    a\n",
       "299960  99986      4    a\n",
       "299962  99987      2    a\n",
       "299964  99988      4    a\n",
       "299968  99989      9    a\n",
       "299972  99990      3    a\n",
       "299975  99991      4    a\n",
       "299977  99992      2    a\n",
       "299979  99993      4    a\n",
       "299983  99994      9    a\n",
       "299987  99995      3    a\n",
       "299990  99996      4    a\n",
       "299992  99997      2    a\n",
       "299994  99998      4    a\n",
       "299998  99999      9    a\n",
       "\n",
       "[100000 rows x 3 columns]"
      ]
     },
     "execution_count": 48,
     "metadata": {},
     "output_type": "execute_result"
    }
   ],
   "source": [
    "my_ind = mydf.groupby(['id'])['tomax'].idxmax()\n",
    "mydf.iloc[my_ind]"
   ]
  },
  {
   "cell_type": "code",
   "execution_count": null,
   "metadata": {},
   "outputs": [],
   "source": []
  }
 ],
 "metadata": {
  "kernelspec": {
   "display_name": "Python 3",
   "language": "python",
   "name": "python3"
  },
  "language_info": {
   "codemirror_mode": {
    "name": "ipython",
    "version": 3
   },
   "file_extension": ".py",
   "mimetype": "text/x-python",
   "name": "python",
   "nbconvert_exporter": "python",
   "pygments_lexer": "ipython3",
   "version": "3.6.7"
  }
 },
 "nbformat": 4,
 "nbformat_minor": 2
}
