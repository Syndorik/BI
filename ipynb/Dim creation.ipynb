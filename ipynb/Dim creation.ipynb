{
 "cells": [
  {
   "cell_type": "markdown",
   "metadata": {},
   "source": [
    "# Creation of dimension"
   ]
  },
  {
   "cell_type": "markdown",
   "metadata": {},
   "source": [
    "The purpose here is to extract the different dimension of the final_result file"
   ]
  },
  {
   "cell_type": "code",
   "execution_count": 1,
   "metadata": {},
   "outputs": [
    {
     "name": "stdout",
     "output_type": "stream",
     "text": [
      "The pandas version is 0.23.4.\n",
      "The pandas version is 0.23.4.\n"
     ]
    }
   ],
   "source": [
    "import pandas as pd\n",
    "import numpy as np\n",
    "import random as rd\n",
    "pd.options.display.max_columns = 400\n",
    "print('The pandas version is {}.'.format(pd.__version__))\n",
    "import hashlib\n",
    "from rdgeneration import Rdgen\n",
    "pd.options.mode.chained_assignment = None \n",
    "import os"
   ]
  },
  {
   "cell_type": "markdown",
   "metadata": {},
   "source": [
    "## Import file"
   ]
  },
  {
   "cell_type": "code",
   "execution_count": 2,
   "metadata": {},
   "outputs": [],
   "source": [
    "df = pd.read_csv('../results/final_res.csv')"
   ]
  },
  {
   "cell_type": "markdown",
   "metadata": {},
   "source": [
    "## Dim Etudiant"
   ]
  },
  {
   "cell_type": "code",
   "execution_count": 3,
   "metadata": {},
   "outputs": [],
   "source": [
    "def get_ind(var,strr,dic,unique,printed):\n",
    "    if((var[printed] in unique) and (var[printed] not in dic) ):\n",
    "        dic[var[printed]] = var[strr]"
   ]
  },
  {
   "cell_type": "code",
   "execution_count": 4,
   "metadata": {},
   "outputs": [],
   "source": [
    "df[\"time_year\"] = df[\"N° Etudiant\"].apply(lambda var: var.split(\"_\")[0])\n",
    "df[\"codeCS\"] = df[\"code_UE\"].apply(lambda var : var.split('-')[0])\n",
    "df[\"idcss\"] = df.loc[:,[\"responsable_UE\",\"codeCS\"]].apply(lambda var : var[\"codeCS\"] + \"-\" +var[\"responsable_UE\"], axis=1)\n",
    "df[\"semestre\"] = df[\"code_UE\"].apply(lambda var : var.split(\"-\")[2])\n",
    "df[\"unicite\"] = df.loc[:,[\"time_year\",\"semestre\"]].apply(lambda var : var[\"time_year\"]+\"-\"+var[\"semestre\"],axis = 1)"
   ]
  },
  {
   "cell_type": "code",
   "execution_count": 5,
   "metadata": {},
   "outputs": [],
   "source": [
    "df.drop(\"Unnamed: 0\", inplace=True, axis=1)\n",
    "df.reset_index(inplace= True)"
   ]
  },
  {
   "cell_type": "markdown",
   "metadata": {},
   "source": [
    "## Dim Temps"
   ]
  },
  {
   "cell_type": "code",
   "execution_count": 6,
   "metadata": {},
   "outputs": [],
   "source": [
    "df_tps = df.loc[:,[\"index\",\"time_year\",\"semestre\"]]\n",
    "df_tps[\"unicite\"] = df.loc[:,[\"time_year\",\"semestre\"]].apply(lambda var : var[\"time_year\"]+\"-\"+var[\"semestre\"],axis = 1)"
   ]
  },
  {
   "cell_type": "code",
   "execution_count": 7,
   "metadata": {},
   "outputs": [],
   "source": [
    "unique_tps = df_tps[\"unicite\"].unique()\n",
    "dic_tps = {}\n",
    "\n",
    "l =df_tps.loc[:,[\"index\",\"unicite\"]].apply(lambda var: get_ind(var,\"index\",dic_tps,unique_tps,\"unicite\"),axis =1)\n",
    "list_ind = [dic_tps[k] for k in dic_tps]\n",
    "df_tps = df_tps.iloc[list_ind]\n",
    "\n",
    "df_tps.drop(\"index\",axis=1,inplace=True)\n",
    "df_tps.reset_index(inplace=True)\n",
    "df_tps.drop(\"index\",axis=1,inplace=True)\n",
    "df_tps.reset_index(inplace=True)\n",
    "\n",
    "col = ['time_id', 'annee', 'semestre', 'unicite']\n",
    "df_tps.columns = col"
   ]
  },
  {
   "cell_type": "code",
   "execution_count": 8,
   "metadata": {},
   "outputs": [
    {
     "data": {
      "text/html": [
       "<div>\n",
       "<style scoped>\n",
       "    .dataframe tbody tr th:only-of-type {\n",
       "        vertical-align: middle;\n",
       "    }\n",
       "\n",
       "    .dataframe tbody tr th {\n",
       "        vertical-align: top;\n",
       "    }\n",
       "\n",
       "    .dataframe thead th {\n",
       "        text-align: right;\n",
       "    }\n",
       "</style>\n",
       "<table border=\"1\" class=\"dataframe\">\n",
       "  <thead>\n",
       "    <tr style=\"text-align: right;\">\n",
       "      <th></th>\n",
       "      <th>time_id</th>\n",
       "      <th>annee</th>\n",
       "      <th>semestre</th>\n",
       "      <th>unicite</th>\n",
       "    </tr>\n",
       "  </thead>\n",
       "  <tbody>\n",
       "    <tr>\n",
       "      <th>0</th>\n",
       "      <td>0</td>\n",
       "      <td>2015</td>\n",
       "      <td>S2</td>\n",
       "      <td>2015-S2</td>\n",
       "    </tr>\n",
       "    <tr>\n",
       "      <th>1</th>\n",
       "      <td>1</td>\n",
       "      <td>2015</td>\n",
       "      <td>S1</td>\n",
       "      <td>2015-S1</td>\n",
       "    </tr>\n",
       "    <tr>\n",
       "      <th>2</th>\n",
       "      <td>2</td>\n",
       "      <td>2016</td>\n",
       "      <td>S1</td>\n",
       "      <td>2016-S1</td>\n",
       "    </tr>\n",
       "    <tr>\n",
       "      <th>3</th>\n",
       "      <td>3</td>\n",
       "      <td>2016</td>\n",
       "      <td>S2</td>\n",
       "      <td>2016-S2</td>\n",
       "    </tr>\n",
       "    <tr>\n",
       "      <th>4</th>\n",
       "      <td>4</td>\n",
       "      <td>2017</td>\n",
       "      <td>S2</td>\n",
       "      <td>2017-S2</td>\n",
       "    </tr>\n",
       "    <tr>\n",
       "      <th>5</th>\n",
       "      <td>5</td>\n",
       "      <td>2017</td>\n",
       "      <td>S1</td>\n",
       "      <td>2017-S1</td>\n",
       "    </tr>\n",
       "  </tbody>\n",
       "</table>\n",
       "</div>"
      ],
      "text/plain": [
       "   time_id annee semestre  unicite\n",
       "0        0  2015       S2  2015-S2\n",
       "1        1  2015       S1  2015-S1\n",
       "2        2  2016       S1  2016-S1\n",
       "3        3  2016       S2  2016-S2\n",
       "4        4  2017       S2  2017-S2\n",
       "5        5  2017       S1  2017-S1"
      ]
     },
     "execution_count": 8,
     "metadata": {},
     "output_type": "execute_result"
    }
   ],
   "source": [
    "df_tps"
   ]
  },
  {
   "cell_type": "code",
   "execution_count": 9,
   "metadata": {},
   "outputs": [],
   "source": [
    "dic_tpsdid = {}\n",
    "df_tps.loc[:,[\"time_id\",\"unicite\"]].apply(lambda var: get_ind(var,\"time_id\",dic_tpsdid,unique_tps,\"unicite\"),axis =1)\n",
    "df[\"time_id\"] = df[\"unicite\"].apply(lambda var : dic_tpsdid[var])"
   ]
  },
  {
   "cell_type": "code",
   "execution_count": 10,
   "metadata": {},
   "outputs": [],
   "source": [
    "df_tps.drop(\"unicite\",inplace= True,axis=1)"
   ]
  },
  {
   "cell_type": "code",
   "execution_count": 11,
   "metadata": {},
   "outputs": [
    {
     "data": {
      "text/html": [
       "<div>\n",
       "<style scoped>\n",
       "    .dataframe tbody tr th:only-of-type {\n",
       "        vertical-align: middle;\n",
       "    }\n",
       "\n",
       "    .dataframe tbody tr th {\n",
       "        vertical-align: top;\n",
       "    }\n",
       "\n",
       "    .dataframe thead th {\n",
       "        text-align: right;\n",
       "    }\n",
       "</style>\n",
       "<table border=\"1\" class=\"dataframe\">\n",
       "  <thead>\n",
       "    <tr style=\"text-align: right;\">\n",
       "      <th></th>\n",
       "      <th>index</th>\n",
       "      <th>N° Etudiant</th>\n",
       "      <th>Nom</th>\n",
       "      <th>Prénom</th>\n",
       "      <th>Moyenne</th>\n",
       "      <th>Grade</th>\n",
       "      <th>Grade ECTS</th>\n",
       "      <th>code_UE</th>\n",
       "      <th>libelle_UE</th>\n",
       "      <th>responsable_UE</th>\n",
       "      <th>annee</th>\n",
       "      <th>nom_UV</th>\n",
       "      <th>code_UV</th>\n",
       "      <th>note</th>\n",
       "      <th>lieu</th>\n",
       "      <th>time_year</th>\n",
       "      <th>codeCS</th>\n",
       "      <th>idcss</th>\n",
       "      <th>semestre</th>\n",
       "      <th>unicite</th>\n",
       "      <th>time_id</th>\n",
       "    </tr>\n",
       "  </thead>\n",
       "  <tbody>\n",
       "    <tr>\n",
       "      <th>0</th>\n",
       "      <td>0</td>\n",
       "      <td>2015_045c</td>\n",
       "      <td>Self</td>\n",
       "      <td>John</td>\n",
       "      <td>10.0</td>\n",
       "      <td>atteint</td>\n",
       "      <td>B</td>\n",
       "      <td>IGA-A1-S2</td>\n",
       "      <td>IGA : Pratique de l'ingénierie</td>\n",
       "      <td>GOSSIAUX Pol Bernard</td>\n",
       "      <td>1ère année d'ingénieur 2014-2015</td>\n",
       "      <td>PRIME</td>\n",
       "      <td>1A-S2-PRI</td>\n",
       "      <td>=</td>\n",
       "      <td>Nantes</td>\n",
       "      <td>2015</td>\n",
       "      <td>IGA</td>\n",
       "      <td>IGA-GOSSIAUX Pol Bernard</td>\n",
       "      <td>S2</td>\n",
       "      <td>2015-S2</td>\n",
       "      <td>0</td>\n",
       "    </tr>\n",
       "    <tr>\n",
       "      <th>1</th>\n",
       "      <td>1</td>\n",
       "      <td>2015_d9b3</td>\n",
       "      <td>English</td>\n",
       "      <td>David</td>\n",
       "      <td>10.0</td>\n",
       "      <td>atteint</td>\n",
       "      <td>B</td>\n",
       "      <td>IGA-A1-S2</td>\n",
       "      <td>IGA : Pratique de l'ingénierie</td>\n",
       "      <td>GOSSIAUX Pol Bernard</td>\n",
       "      <td>1ère année d'ingénieur 2014-2015</td>\n",
       "      <td>PRIME</td>\n",
       "      <td>1A-S2-PRI</td>\n",
       "      <td>=</td>\n",
       "      <td>Nantes</td>\n",
       "      <td>2015</td>\n",
       "      <td>IGA</td>\n",
       "      <td>IGA-GOSSIAUX Pol Bernard</td>\n",
       "      <td>S2</td>\n",
       "      <td>2015-S2</td>\n",
       "      <td>0</td>\n",
       "    </tr>\n",
       "    <tr>\n",
       "      <th>2</th>\n",
       "      <td>2</td>\n",
       "      <td>2015_5661</td>\n",
       "      <td>Benson</td>\n",
       "      <td>Polly</td>\n",
       "      <td>10.0</td>\n",
       "      <td>atteint</td>\n",
       "      <td>B</td>\n",
       "      <td>IGA-A1-S2</td>\n",
       "      <td>IGA : Pratique de l'ingénierie</td>\n",
       "      <td>GOSSIAUX Pol Bernard</td>\n",
       "      <td>1ère année d'ingénieur 2014-2015</td>\n",
       "      <td>PRIME</td>\n",
       "      <td>1A-S2-PRI</td>\n",
       "      <td>=</td>\n",
       "      <td>Nantes</td>\n",
       "      <td>2015</td>\n",
       "      <td>IGA</td>\n",
       "      <td>IGA-GOSSIAUX Pol Bernard</td>\n",
       "      <td>S2</td>\n",
       "      <td>2015-S2</td>\n",
       "      <td>0</td>\n",
       "    </tr>\n",
       "    <tr>\n",
       "      <th>3</th>\n",
       "      <td>3</td>\n",
       "      <td>2015_9343</td>\n",
       "      <td>Lockard</td>\n",
       "      <td>John</td>\n",
       "      <td>0.0</td>\n",
       "      <td>en dessous</td>\n",
       "      <td>F</td>\n",
       "      <td>IGA-A1-S2</td>\n",
       "      <td>IGA : Pratique de l'ingénierie</td>\n",
       "      <td>GOSSIAUX Pol Bernard</td>\n",
       "      <td>1ère année d'ingénieur 2014-2015</td>\n",
       "      <td>PRIME</td>\n",
       "      <td>1A-S2-PRI</td>\n",
       "      <td>-</td>\n",
       "      <td>Nantes</td>\n",
       "      <td>2015</td>\n",
       "      <td>IGA</td>\n",
       "      <td>IGA-GOSSIAUX Pol Bernard</td>\n",
       "      <td>S2</td>\n",
       "      <td>2015-S2</td>\n",
       "      <td>0</td>\n",
       "    </tr>\n",
       "    <tr>\n",
       "      <th>4</th>\n",
       "      <td>4</td>\n",
       "      <td>2015_3082</td>\n",
       "      <td>Soape</td>\n",
       "      <td>Jose</td>\n",
       "      <td>10.0</td>\n",
       "      <td>atteint</td>\n",
       "      <td>B</td>\n",
       "      <td>IGA-A1-S2</td>\n",
       "      <td>IGA : Pratique de l'ingénierie</td>\n",
       "      <td>GOSSIAUX Pol Bernard</td>\n",
       "      <td>1ère année d'ingénieur 2014-2015</td>\n",
       "      <td>PRIME</td>\n",
       "      <td>1A-S2-PRI</td>\n",
       "      <td>=</td>\n",
       "      <td>Nantes</td>\n",
       "      <td>2015</td>\n",
       "      <td>IGA</td>\n",
       "      <td>IGA-GOSSIAUX Pol Bernard</td>\n",
       "      <td>S2</td>\n",
       "      <td>2015-S2</td>\n",
       "      <td>0</td>\n",
       "    </tr>\n",
       "  </tbody>\n",
       "</table>\n",
       "</div>"
      ],
      "text/plain": [
       "   index N° Etudiant      Nom Prénom  Moyenne       Grade Grade ECTS  \\\n",
       "0      0   2015_045c     Self   John     10.0     atteint          B   \n",
       "1      1   2015_d9b3  English  David     10.0     atteint          B   \n",
       "2      2   2015_5661   Benson  Polly     10.0     atteint          B   \n",
       "3      3   2015_9343  Lockard   John      0.0  en dessous          F   \n",
       "4      4   2015_3082    Soape   Jose     10.0     atteint          B   \n",
       "\n",
       "     code_UE                      libelle_UE        responsable_UE  \\\n",
       "0  IGA-A1-S2  IGA : Pratique de l'ingénierie  GOSSIAUX Pol Bernard   \n",
       "1  IGA-A1-S2  IGA : Pratique de l'ingénierie  GOSSIAUX Pol Bernard   \n",
       "2  IGA-A1-S2  IGA : Pratique de l'ingénierie  GOSSIAUX Pol Bernard   \n",
       "3  IGA-A1-S2  IGA : Pratique de l'ingénierie  GOSSIAUX Pol Bernard   \n",
       "4  IGA-A1-S2  IGA : Pratique de l'ingénierie  GOSSIAUX Pol Bernard   \n",
       "\n",
       "                              annee nom_UV    code_UV note    lieu time_year  \\\n",
       "0  1ère année d'ingénieur 2014-2015  PRIME  1A-S2-PRI    =  Nantes      2015   \n",
       "1  1ère année d'ingénieur 2014-2015  PRIME  1A-S2-PRI    =  Nantes      2015   \n",
       "2  1ère année d'ingénieur 2014-2015  PRIME  1A-S2-PRI    =  Nantes      2015   \n",
       "3  1ère année d'ingénieur 2014-2015  PRIME  1A-S2-PRI    -  Nantes      2015   \n",
       "4  1ère année d'ingénieur 2014-2015  PRIME  1A-S2-PRI    =  Nantes      2015   \n",
       "\n",
       "  codeCS                     idcss semestre  unicite  time_id  \n",
       "0    IGA  IGA-GOSSIAUX Pol Bernard       S2  2015-S2        0  \n",
       "1    IGA  IGA-GOSSIAUX Pol Bernard       S2  2015-S2        0  \n",
       "2    IGA  IGA-GOSSIAUX Pol Bernard       S2  2015-S2        0  \n",
       "3    IGA  IGA-GOSSIAUX Pol Bernard       S2  2015-S2        0  \n",
       "4    IGA  IGA-GOSSIAUX Pol Bernard       S2  2015-S2        0  "
      ]
     },
     "execution_count": 11,
     "metadata": {},
     "output_type": "execute_result"
    }
   ],
   "source": [
    "df.head()"
   ]
  },
  {
   "cell_type": "markdown",
   "metadata": {},
   "source": [
    "## Dim Etudiant"
   ]
  },
  {
   "cell_type": "code",
   "execution_count": 12,
   "metadata": {},
   "outputs": [
    {
     "data": {
      "text/html": [
       "<div>\n",
       "<style scoped>\n",
       "    .dataframe tbody tr th:only-of-type {\n",
       "        vertical-align: middle;\n",
       "    }\n",
       "\n",
       "    .dataframe tbody tr th {\n",
       "        vertical-align: top;\n",
       "    }\n",
       "\n",
       "    .dataframe thead th {\n",
       "        text-align: right;\n",
       "    }\n",
       "</style>\n",
       "<table border=\"1\" class=\"dataframe\">\n",
       "  <thead>\n",
       "    <tr style=\"text-align: right;\">\n",
       "      <th></th>\n",
       "      <th>index</th>\n",
       "      <th>N° Etudiant</th>\n",
       "      <th>Nom</th>\n",
       "      <th>Prénom</th>\n",
       "      <th>Moyenne</th>\n",
       "      <th>Grade</th>\n",
       "      <th>Grade ECTS</th>\n",
       "      <th>code_UE</th>\n",
       "      <th>libelle_UE</th>\n",
       "      <th>responsable_UE</th>\n",
       "      <th>annee</th>\n",
       "      <th>nom_UV</th>\n",
       "      <th>code_UV</th>\n",
       "      <th>note</th>\n",
       "      <th>lieu</th>\n",
       "      <th>time_year</th>\n",
       "      <th>codeCS</th>\n",
       "      <th>idcss</th>\n",
       "      <th>semestre</th>\n",
       "      <th>unicite</th>\n",
       "      <th>time_id</th>\n",
       "    </tr>\n",
       "  </thead>\n",
       "  <tbody>\n",
       "    <tr>\n",
       "      <th>0</th>\n",
       "      <td>0</td>\n",
       "      <td>2015_045c</td>\n",
       "      <td>Self</td>\n",
       "      <td>John</td>\n",
       "      <td>10.0</td>\n",
       "      <td>atteint</td>\n",
       "      <td>B</td>\n",
       "      <td>IGA-A1-S2</td>\n",
       "      <td>IGA : Pratique de l'ingénierie</td>\n",
       "      <td>GOSSIAUX Pol Bernard</td>\n",
       "      <td>1ère année d'ingénieur 2014-2015</td>\n",
       "      <td>PRIME</td>\n",
       "      <td>1A-S2-PRI</td>\n",
       "      <td>=</td>\n",
       "      <td>Nantes</td>\n",
       "      <td>2015</td>\n",
       "      <td>IGA</td>\n",
       "      <td>IGA-GOSSIAUX Pol Bernard</td>\n",
       "      <td>S2</td>\n",
       "      <td>2015-S2</td>\n",
       "      <td>0</td>\n",
       "    </tr>\n",
       "    <tr>\n",
       "      <th>1</th>\n",
       "      <td>1</td>\n",
       "      <td>2015_d9b3</td>\n",
       "      <td>English</td>\n",
       "      <td>David</td>\n",
       "      <td>10.0</td>\n",
       "      <td>atteint</td>\n",
       "      <td>B</td>\n",
       "      <td>IGA-A1-S2</td>\n",
       "      <td>IGA : Pratique de l'ingénierie</td>\n",
       "      <td>GOSSIAUX Pol Bernard</td>\n",
       "      <td>1ère année d'ingénieur 2014-2015</td>\n",
       "      <td>PRIME</td>\n",
       "      <td>1A-S2-PRI</td>\n",
       "      <td>=</td>\n",
       "      <td>Nantes</td>\n",
       "      <td>2015</td>\n",
       "      <td>IGA</td>\n",
       "      <td>IGA-GOSSIAUX Pol Bernard</td>\n",
       "      <td>S2</td>\n",
       "      <td>2015-S2</td>\n",
       "      <td>0</td>\n",
       "    </tr>\n",
       "    <tr>\n",
       "      <th>2</th>\n",
       "      <td>2</td>\n",
       "      <td>2015_5661</td>\n",
       "      <td>Benson</td>\n",
       "      <td>Polly</td>\n",
       "      <td>10.0</td>\n",
       "      <td>atteint</td>\n",
       "      <td>B</td>\n",
       "      <td>IGA-A1-S2</td>\n",
       "      <td>IGA : Pratique de l'ingénierie</td>\n",
       "      <td>GOSSIAUX Pol Bernard</td>\n",
       "      <td>1ère année d'ingénieur 2014-2015</td>\n",
       "      <td>PRIME</td>\n",
       "      <td>1A-S2-PRI</td>\n",
       "      <td>=</td>\n",
       "      <td>Nantes</td>\n",
       "      <td>2015</td>\n",
       "      <td>IGA</td>\n",
       "      <td>IGA-GOSSIAUX Pol Bernard</td>\n",
       "      <td>S2</td>\n",
       "      <td>2015-S2</td>\n",
       "      <td>0</td>\n",
       "    </tr>\n",
       "    <tr>\n",
       "      <th>3</th>\n",
       "      <td>3</td>\n",
       "      <td>2015_9343</td>\n",
       "      <td>Lockard</td>\n",
       "      <td>John</td>\n",
       "      <td>0.0</td>\n",
       "      <td>en dessous</td>\n",
       "      <td>F</td>\n",
       "      <td>IGA-A1-S2</td>\n",
       "      <td>IGA : Pratique de l'ingénierie</td>\n",
       "      <td>GOSSIAUX Pol Bernard</td>\n",
       "      <td>1ère année d'ingénieur 2014-2015</td>\n",
       "      <td>PRIME</td>\n",
       "      <td>1A-S2-PRI</td>\n",
       "      <td>-</td>\n",
       "      <td>Nantes</td>\n",
       "      <td>2015</td>\n",
       "      <td>IGA</td>\n",
       "      <td>IGA-GOSSIAUX Pol Bernard</td>\n",
       "      <td>S2</td>\n",
       "      <td>2015-S2</td>\n",
       "      <td>0</td>\n",
       "    </tr>\n",
       "    <tr>\n",
       "      <th>4</th>\n",
       "      <td>4</td>\n",
       "      <td>2015_3082</td>\n",
       "      <td>Soape</td>\n",
       "      <td>Jose</td>\n",
       "      <td>10.0</td>\n",
       "      <td>atteint</td>\n",
       "      <td>B</td>\n",
       "      <td>IGA-A1-S2</td>\n",
       "      <td>IGA : Pratique de l'ingénierie</td>\n",
       "      <td>GOSSIAUX Pol Bernard</td>\n",
       "      <td>1ère année d'ingénieur 2014-2015</td>\n",
       "      <td>PRIME</td>\n",
       "      <td>1A-S2-PRI</td>\n",
       "      <td>=</td>\n",
       "      <td>Nantes</td>\n",
       "      <td>2015</td>\n",
       "      <td>IGA</td>\n",
       "      <td>IGA-GOSSIAUX Pol Bernard</td>\n",
       "      <td>S2</td>\n",
       "      <td>2015-S2</td>\n",
       "      <td>0</td>\n",
       "    </tr>\n",
       "  </tbody>\n",
       "</table>\n",
       "</div>"
      ],
      "text/plain": [
       "   index N° Etudiant      Nom Prénom  Moyenne       Grade Grade ECTS  \\\n",
       "0      0   2015_045c     Self   John     10.0     atteint          B   \n",
       "1      1   2015_d9b3  English  David     10.0     atteint          B   \n",
       "2      2   2015_5661   Benson  Polly     10.0     atteint          B   \n",
       "3      3   2015_9343  Lockard   John      0.0  en dessous          F   \n",
       "4      4   2015_3082    Soape   Jose     10.0     atteint          B   \n",
       "\n",
       "     code_UE                      libelle_UE        responsable_UE  \\\n",
       "0  IGA-A1-S2  IGA : Pratique de l'ingénierie  GOSSIAUX Pol Bernard   \n",
       "1  IGA-A1-S2  IGA : Pratique de l'ingénierie  GOSSIAUX Pol Bernard   \n",
       "2  IGA-A1-S2  IGA : Pratique de l'ingénierie  GOSSIAUX Pol Bernard   \n",
       "3  IGA-A1-S2  IGA : Pratique de l'ingénierie  GOSSIAUX Pol Bernard   \n",
       "4  IGA-A1-S2  IGA : Pratique de l'ingénierie  GOSSIAUX Pol Bernard   \n",
       "\n",
       "                              annee nom_UV    code_UV note    lieu time_year  \\\n",
       "0  1ère année d'ingénieur 2014-2015  PRIME  1A-S2-PRI    =  Nantes      2015   \n",
       "1  1ère année d'ingénieur 2014-2015  PRIME  1A-S2-PRI    =  Nantes      2015   \n",
       "2  1ère année d'ingénieur 2014-2015  PRIME  1A-S2-PRI    =  Nantes      2015   \n",
       "3  1ère année d'ingénieur 2014-2015  PRIME  1A-S2-PRI    -  Nantes      2015   \n",
       "4  1ère année d'ingénieur 2014-2015  PRIME  1A-S2-PRI    =  Nantes      2015   \n",
       "\n",
       "  codeCS                     idcss semestre  unicite  time_id  \n",
       "0    IGA  IGA-GOSSIAUX Pol Bernard       S2  2015-S2        0  \n",
       "1    IGA  IGA-GOSSIAUX Pol Bernard       S2  2015-S2        0  \n",
       "2    IGA  IGA-GOSSIAUX Pol Bernard       S2  2015-S2        0  \n",
       "3    IGA  IGA-GOSSIAUX Pol Bernard       S2  2015-S2        0  \n",
       "4    IGA  IGA-GOSSIAUX Pol Bernard       S2  2015-S2        0  "
      ]
     },
     "execution_count": 12,
     "metadata": {},
     "output_type": "execute_result"
    }
   ],
   "source": [
    "df.head()"
   ]
  },
  {
   "cell_type": "code",
   "execution_count": 13,
   "metadata": {},
   "outputs": [],
   "source": [
    "df_student = df.loc[:,[\"index\",\"N° Etudiant\",\"Nom\",\"Prénom\",\"time_id\"]]\n",
    "unique_std = df_student[\"N° Etudiant\"].unique()\n",
    "dic_ind = {}"
   ]
  },
  {
   "cell_type": "code",
   "execution_count": 14,
   "metadata": {},
   "outputs": [],
   "source": [
    "l =df_student.loc[:,:\"N° Etudiant\"].apply(lambda var: get_ind(var,\"index\",dic_ind,unique_std,\"N° Etudiant\"),axis =1)\n",
    "list_ind = [dic_ind[k] for k in dic_ind]"
   ]
  },
  {
   "cell_type": "code",
   "execution_count": 15,
   "metadata": {},
   "outputs": [],
   "source": [
    "df_student = df_student.iloc[list_ind]"
   ]
  },
  {
   "cell_type": "code",
   "execution_count": 16,
   "metadata": {},
   "outputs": [],
   "source": [
    "df_student.drop(\"index\",axis=1,inplace=True)\n",
    "df_student.reset_index(inplace=True)\n",
    "df_student.drop(\"index\",axis=1,inplace=True)\n",
    "df_student.reset_index(inplace=True)"
   ]
  },
  {
   "cell_type": "code",
   "execution_count": 17,
   "metadata": {},
   "outputs": [],
   "source": [
    "col = list(df_student.columns)\n",
    "col[0] = \"std ID\"\n",
    "df_student.columns = col"
   ]
  },
  {
   "cell_type": "code",
   "execution_count": 18,
   "metadata": {},
   "outputs": [
    {
     "data": {
      "text/html": [
       "<div>\n",
       "<style scoped>\n",
       "    .dataframe tbody tr th:only-of-type {\n",
       "        vertical-align: middle;\n",
       "    }\n",
       "\n",
       "    .dataframe tbody tr th {\n",
       "        vertical-align: top;\n",
       "    }\n",
       "\n",
       "    .dataframe thead th {\n",
       "        text-align: right;\n",
       "    }\n",
       "</style>\n",
       "<table border=\"1\" class=\"dataframe\">\n",
       "  <thead>\n",
       "    <tr style=\"text-align: right;\">\n",
       "      <th></th>\n",
       "      <th>std ID</th>\n",
       "      <th>N° Etudiant</th>\n",
       "      <th>Nom</th>\n",
       "      <th>Prénom</th>\n",
       "      <th>time_id</th>\n",
       "    </tr>\n",
       "  </thead>\n",
       "  <tbody>\n",
       "    <tr>\n",
       "      <th>0</th>\n",
       "      <td>0</td>\n",
       "      <td>2015_045c</td>\n",
       "      <td>Self</td>\n",
       "      <td>John</td>\n",
       "      <td>0</td>\n",
       "    </tr>\n",
       "    <tr>\n",
       "      <th>1</th>\n",
       "      <td>1</td>\n",
       "      <td>2015_d9b3</td>\n",
       "      <td>English</td>\n",
       "      <td>David</td>\n",
       "      <td>0</td>\n",
       "    </tr>\n",
       "    <tr>\n",
       "      <th>2</th>\n",
       "      <td>2</td>\n",
       "      <td>2015_5661</td>\n",
       "      <td>Benson</td>\n",
       "      <td>Polly</td>\n",
       "      <td>0</td>\n",
       "    </tr>\n",
       "    <tr>\n",
       "      <th>3</th>\n",
       "      <td>3</td>\n",
       "      <td>2015_9343</td>\n",
       "      <td>Lockard</td>\n",
       "      <td>John</td>\n",
       "      <td>0</td>\n",
       "    </tr>\n",
       "    <tr>\n",
       "      <th>4</th>\n",
       "      <td>4</td>\n",
       "      <td>2015_3082</td>\n",
       "      <td>Soape</td>\n",
       "      <td>Jose</td>\n",
       "      <td>0</td>\n",
       "    </tr>\n",
       "  </tbody>\n",
       "</table>\n",
       "</div>"
      ],
      "text/plain": [
       "   std ID N° Etudiant      Nom Prénom  time_id\n",
       "0       0   2015_045c     Self   John        0\n",
       "1       1   2015_d9b3  English  David        0\n",
       "2       2   2015_5661   Benson  Polly        0\n",
       "3       3   2015_9343  Lockard   John        0\n",
       "4       4   2015_3082    Soape   Jose        0"
      ]
     },
     "execution_count": 18,
     "metadata": {},
     "output_type": "execute_result"
    }
   ],
   "source": [
    "dic_stdid = {}\n",
    "df_student.loc[:,[\"std ID\",\"N° Etudiant\"]].apply(lambda var: get_ind(var,\"std ID\",dic_stdid,unique_std,\"N° Etudiant\"),axis =1)\n",
    "df_student.head()"
   ]
  },
  {
   "cell_type": "markdown",
   "metadata": {},
   "source": [
    "Dimension Etudiant: df_student <br>\n",
    "Update df"
   ]
  },
  {
   "cell_type": "code",
   "execution_count": 19,
   "metadata": {},
   "outputs": [],
   "source": [
    "df[\"std ID\"] = df[\"N° Etudiant\"].apply(lambda var : dic_stdid[var])"
   ]
  },
  {
   "cell_type": "markdown",
   "metadata": {},
   "source": [
    "## Dim UV"
   ]
  },
  {
   "cell_type": "code",
   "execution_count": 20,
   "metadata": {},
   "outputs": [],
   "source": [
    "df_UV = df.loc[:,[\"index\",\"nom_UV\",\"code_UV\"]]"
   ]
  },
  {
   "cell_type": "code",
   "execution_count": 21,
   "metadata": {},
   "outputs": [],
   "source": [
    "unique_uv = df_UV[\"nom_UV\"].unique()\n",
    "dic_uv = {}\n",
    "\n",
    "l =df_UV.loc[:,[\"index\",\"nom_UV\"]].apply(lambda var: get_ind(var,\"index\",dic_uv,unique_uv,\"nom_UV\"),axis =1)\n",
    "list_ind = [dic_uv[k] for k in dic_uv]\n",
    "df_UV = df_UV.iloc[list_ind]\n",
    "\n",
    "df_UV.drop(\"index\",axis=1,inplace=True)\n",
    "df_UV.reset_index(inplace=True)\n",
    "df_UV.drop(\"index\",axis=1,inplace=True)\n",
    "df_UV.reset_index(inplace=True)\n",
    "\n",
    "col = list(df_UV.columns)\n",
    "col[0] = \"uv ID\"\n",
    "df_UV.columns = col\n",
    "\n",
    "dic_uvdid = {}\n",
    "df_UV.loc[:,[\"uv ID\",\"nom_UV\"]].apply(lambda var: get_ind(var,\"uv ID\",dic_uvdid,unique_uv,\"nom_UV\"),axis =1)\n",
    "df_UV.head()\n",
    "df[\"UV ID\"] = df[\"nom_UV\"].apply(lambda var : dic_uvdid[var])"
   ]
  },
  {
   "cell_type": "markdown",
   "metadata": {},
   "source": [
    "## Dim CS"
   ]
  },
  {
   "cell_type": "code",
   "execution_count": 22,
   "metadata": {},
   "outputs": [],
   "source": [
    "df_cs = df.loc[:,[\"index\",\"idcss\",\"responsable_UE\",\"libelle_UE\",\"codeCS\"]]"
   ]
  },
  {
   "cell_type": "code",
   "execution_count": 23,
   "metadata": {},
   "outputs": [],
   "source": [
    "unique_cs = df_cs[\"idcss\"].unique()\n",
    "dic_cs = {}\n",
    "\n",
    "l =df_cs.loc[:,[\"index\",\"idcss\"]].apply(lambda var: get_ind(var,\"index\",dic_cs,unique_cs,\"idcss\"),axis =1)\n",
    "list_ind = [dic_cs[k] for k in dic_cs]\n",
    "df_cs = df_cs.iloc[list_ind]\n",
    "\n",
    "df_cs.drop(\"index\",axis=1,inplace=True)\n",
    "df_cs.reset_index(inplace=True)\n",
    "df_cs.drop(\"index\",axis=1,inplace=True)\n",
    "df_cs.reset_index(inplace=True)\n",
    "\n",
    "col = ['cs ID', 'idcss', 'respoCS', 'nom_CS', 'codeCS']\n",
    "df_cs.columns = col"
   ]
  },
  {
   "cell_type": "code",
   "execution_count": 24,
   "metadata": {},
   "outputs": [],
   "source": [
    "dic_csdid = {}\n",
    "df_cs.loc[:,[\"cs ID\",\"idcss\"]].apply(lambda var: get_ind(var,\"cs ID\",dic_csdid,unique_cs,\"idcss\"),axis =1)\n",
    "df_cs.head()\n",
    "df[\"cs ID\"] = df[\"idcss\"].apply(lambda var : dic_csdid[var])"
   ]
  },
  {
   "cell_type": "code",
   "execution_count": 25,
   "metadata": {},
   "outputs": [],
   "source": [
    "df_cs.drop(\"idcss\",inplace= True,axis=1)"
   ]
  },
  {
   "cell_type": "markdown",
   "metadata": {},
   "source": [
    "## Dim Temps"
   ]
  },
  {
   "cell_type": "markdown",
   "metadata": {},
   "source": [
    "## Dim CG"
   ]
  },
  {
   "cell_type": "code",
   "execution_count": 26,
   "metadata": {},
   "outputs": [],
   "source": [
    "rel_CG_nom = {\"IG\": \"Compétences en ingénierie\",\n",
    "             \"interp\": \"Compétences interpersonnelles\",\n",
    "             \"intra\" : \"Compétences intra-personnelles\",\n",
    "             \"ST\" : \"Compétences scientifiques et techniques\"}\n",
    "df_cg = df.loc[:,[\"index\",\"codeCS\"]]"
   ]
  },
  {
   "cell_type": "code",
   "execution_count": 27,
   "metadata": {},
   "outputs": [
    {
     "data": {
      "text/plain": [
       "'IG'"
      ]
     },
     "execution_count": 27,
     "metadata": {},
     "output_type": "execute_result"
    }
   ],
   "source": [
    "a = 'IGA'\n",
    "a[0:-1]"
   ]
  },
  {
   "cell_type": "code",
   "execution_count": 28,
   "metadata": {},
   "outputs": [],
   "source": [
    "df_cg[\"codeCS\"] = df_cg[\"codeCS\"].apply(lambda var: var[0:-1])\n",
    "df_cg[\"cg_nom\"] = df_cg[\"codeCS\"].apply(lambda var: rel_CG_nom[var])"
   ]
  },
  {
   "cell_type": "code",
   "execution_count": 29,
   "metadata": {},
   "outputs": [],
   "source": [
    "unique_cg = df_cg[\"codeCS\"].unique()\n",
    "dic_cg = {}\n",
    "\n",
    "l =df_cg.loc[:,[\"index\",\"codeCS\"]].apply(lambda var: get_ind(var,\"index\",dic_cg,unique_cg,\"codeCS\"),axis =1)\n",
    "list_ind = [dic_cg[k] for k in dic_cg]\n",
    "df_cg = df_cg.iloc[list_ind]\n",
    "\n",
    "df_cg.drop(\"index\",axis=1,inplace=True)\n",
    "df_cg.reset_index(inplace=True)\n",
    "df_cg.drop(\"index\",axis=1,inplace=True)\n",
    "df_cg.reset_index(inplace=True)\n",
    "\n",
    "col = [\"cg id\",\"code cg\",\"cg_nom\"]\n",
    "df_cg.columns = col"
   ]
  },
  {
   "cell_type": "code",
   "execution_count": 30,
   "metadata": {},
   "outputs": [
    {
     "data": {
      "text/html": [
       "<div>\n",
       "<style scoped>\n",
       "    .dataframe tbody tr th:only-of-type {\n",
       "        vertical-align: middle;\n",
       "    }\n",
       "\n",
       "    .dataframe tbody tr th {\n",
       "        vertical-align: top;\n",
       "    }\n",
       "\n",
       "    .dataframe thead th {\n",
       "        text-align: right;\n",
       "    }\n",
       "</style>\n",
       "<table border=\"1\" class=\"dataframe\">\n",
       "  <thead>\n",
       "    <tr style=\"text-align: right;\">\n",
       "      <th></th>\n",
       "      <th>cg id</th>\n",
       "      <th>code cg</th>\n",
       "      <th>cg_nom</th>\n",
       "    </tr>\n",
       "  </thead>\n",
       "  <tbody>\n",
       "    <tr>\n",
       "      <th>0</th>\n",
       "      <td>0</td>\n",
       "      <td>IG</td>\n",
       "      <td>Compétences en ingénierie</td>\n",
       "    </tr>\n",
       "    <tr>\n",
       "      <th>1</th>\n",
       "      <td>1</td>\n",
       "      <td>interp</td>\n",
       "      <td>Compétences interpersonnelles</td>\n",
       "    </tr>\n",
       "    <tr>\n",
       "      <th>2</th>\n",
       "      <td>2</td>\n",
       "      <td>intra</td>\n",
       "      <td>Compétences intra-personnelles</td>\n",
       "    </tr>\n",
       "    <tr>\n",
       "      <th>3</th>\n",
       "      <td>3</td>\n",
       "      <td>ST</td>\n",
       "      <td>Compétences scientifiques et techniques</td>\n",
       "    </tr>\n",
       "  </tbody>\n",
       "</table>\n",
       "</div>"
      ],
      "text/plain": [
       "   cg id code cg                                   cg_nom\n",
       "0      0      IG                Compétences en ingénierie\n",
       "1      1  interp            Compétences interpersonnelles\n",
       "2      2   intra           Compétences intra-personnelles\n",
       "3      3      ST  Compétences scientifiques et techniques"
      ]
     },
     "execution_count": 30,
     "metadata": {},
     "output_type": "execute_result"
    }
   ],
   "source": [
    "df_cg"
   ]
  },
  {
   "cell_type": "code",
   "execution_count": 31,
   "metadata": {},
   "outputs": [],
   "source": [
    "dic_cgdid = {}\n",
    "df_cg.loc[:,[\"cg id\",\"code cg\"]].apply(lambda var: get_ind(var,\"cg id\",dic_cgdid,unique_cg,\"code cg\"),axis =1)\n",
    "df_cg.head()\n",
    "df[\"cg ID\"] = df[\"codeCS\"].apply(lambda var : dic_cgdid[var[:-1]])"
   ]
  },
  {
   "cell_type": "code",
   "execution_count": 32,
   "metadata": {},
   "outputs": [
    {
     "data": {
      "text/html": [
       "<div>\n",
       "<style scoped>\n",
       "    .dataframe tbody tr th:only-of-type {\n",
       "        vertical-align: middle;\n",
       "    }\n",
       "\n",
       "    .dataframe tbody tr th {\n",
       "        vertical-align: top;\n",
       "    }\n",
       "\n",
       "    .dataframe thead th {\n",
       "        text-align: right;\n",
       "    }\n",
       "</style>\n",
       "<table border=\"1\" class=\"dataframe\">\n",
       "  <thead>\n",
       "    <tr style=\"text-align: right;\">\n",
       "      <th></th>\n",
       "      <th>index</th>\n",
       "      <th>N° Etudiant</th>\n",
       "      <th>Nom</th>\n",
       "      <th>Prénom</th>\n",
       "      <th>Moyenne</th>\n",
       "      <th>Grade</th>\n",
       "      <th>Grade ECTS</th>\n",
       "      <th>code_UE</th>\n",
       "      <th>libelle_UE</th>\n",
       "      <th>responsable_UE</th>\n",
       "      <th>annee</th>\n",
       "      <th>nom_UV</th>\n",
       "      <th>code_UV</th>\n",
       "      <th>note</th>\n",
       "      <th>lieu</th>\n",
       "      <th>time_year</th>\n",
       "      <th>codeCS</th>\n",
       "      <th>idcss</th>\n",
       "      <th>semestre</th>\n",
       "      <th>unicite</th>\n",
       "      <th>time_id</th>\n",
       "      <th>std ID</th>\n",
       "      <th>UV ID</th>\n",
       "      <th>cs ID</th>\n",
       "      <th>cg ID</th>\n",
       "    </tr>\n",
       "  </thead>\n",
       "  <tbody>\n",
       "    <tr>\n",
       "      <th>0</th>\n",
       "      <td>0</td>\n",
       "      <td>2015_045c</td>\n",
       "      <td>Self</td>\n",
       "      <td>John</td>\n",
       "      <td>10.0</td>\n",
       "      <td>atteint</td>\n",
       "      <td>B</td>\n",
       "      <td>IGA-A1-S2</td>\n",
       "      <td>IGA : Pratique de l'ingénierie</td>\n",
       "      <td>GOSSIAUX Pol Bernard</td>\n",
       "      <td>1ère année d'ingénieur 2014-2015</td>\n",
       "      <td>PRIME</td>\n",
       "      <td>1A-S2-PRI</td>\n",
       "      <td>=</td>\n",
       "      <td>Nantes</td>\n",
       "      <td>2015</td>\n",
       "      <td>IGA</td>\n",
       "      <td>IGA-GOSSIAUX Pol Bernard</td>\n",
       "      <td>S2</td>\n",
       "      <td>2015-S2</td>\n",
       "      <td>0</td>\n",
       "      <td>0</td>\n",
       "      <td>0</td>\n",
       "      <td>0</td>\n",
       "      <td>0</td>\n",
       "    </tr>\n",
       "    <tr>\n",
       "      <th>1</th>\n",
       "      <td>1</td>\n",
       "      <td>2015_d9b3</td>\n",
       "      <td>English</td>\n",
       "      <td>David</td>\n",
       "      <td>10.0</td>\n",
       "      <td>atteint</td>\n",
       "      <td>B</td>\n",
       "      <td>IGA-A1-S2</td>\n",
       "      <td>IGA : Pratique de l'ingénierie</td>\n",
       "      <td>GOSSIAUX Pol Bernard</td>\n",
       "      <td>1ère année d'ingénieur 2014-2015</td>\n",
       "      <td>PRIME</td>\n",
       "      <td>1A-S2-PRI</td>\n",
       "      <td>=</td>\n",
       "      <td>Nantes</td>\n",
       "      <td>2015</td>\n",
       "      <td>IGA</td>\n",
       "      <td>IGA-GOSSIAUX Pol Bernard</td>\n",
       "      <td>S2</td>\n",
       "      <td>2015-S2</td>\n",
       "      <td>0</td>\n",
       "      <td>1</td>\n",
       "      <td>0</td>\n",
       "      <td>0</td>\n",
       "      <td>0</td>\n",
       "    </tr>\n",
       "    <tr>\n",
       "      <th>2</th>\n",
       "      <td>2</td>\n",
       "      <td>2015_5661</td>\n",
       "      <td>Benson</td>\n",
       "      <td>Polly</td>\n",
       "      <td>10.0</td>\n",
       "      <td>atteint</td>\n",
       "      <td>B</td>\n",
       "      <td>IGA-A1-S2</td>\n",
       "      <td>IGA : Pratique de l'ingénierie</td>\n",
       "      <td>GOSSIAUX Pol Bernard</td>\n",
       "      <td>1ère année d'ingénieur 2014-2015</td>\n",
       "      <td>PRIME</td>\n",
       "      <td>1A-S2-PRI</td>\n",
       "      <td>=</td>\n",
       "      <td>Nantes</td>\n",
       "      <td>2015</td>\n",
       "      <td>IGA</td>\n",
       "      <td>IGA-GOSSIAUX Pol Bernard</td>\n",
       "      <td>S2</td>\n",
       "      <td>2015-S2</td>\n",
       "      <td>0</td>\n",
       "      <td>2</td>\n",
       "      <td>0</td>\n",
       "      <td>0</td>\n",
       "      <td>0</td>\n",
       "    </tr>\n",
       "    <tr>\n",
       "      <th>3</th>\n",
       "      <td>3</td>\n",
       "      <td>2015_9343</td>\n",
       "      <td>Lockard</td>\n",
       "      <td>John</td>\n",
       "      <td>0.0</td>\n",
       "      <td>en dessous</td>\n",
       "      <td>F</td>\n",
       "      <td>IGA-A1-S2</td>\n",
       "      <td>IGA : Pratique de l'ingénierie</td>\n",
       "      <td>GOSSIAUX Pol Bernard</td>\n",
       "      <td>1ère année d'ingénieur 2014-2015</td>\n",
       "      <td>PRIME</td>\n",
       "      <td>1A-S2-PRI</td>\n",
       "      <td>-</td>\n",
       "      <td>Nantes</td>\n",
       "      <td>2015</td>\n",
       "      <td>IGA</td>\n",
       "      <td>IGA-GOSSIAUX Pol Bernard</td>\n",
       "      <td>S2</td>\n",
       "      <td>2015-S2</td>\n",
       "      <td>0</td>\n",
       "      <td>3</td>\n",
       "      <td>0</td>\n",
       "      <td>0</td>\n",
       "      <td>0</td>\n",
       "    </tr>\n",
       "    <tr>\n",
       "      <th>4</th>\n",
       "      <td>4</td>\n",
       "      <td>2015_3082</td>\n",
       "      <td>Soape</td>\n",
       "      <td>Jose</td>\n",
       "      <td>10.0</td>\n",
       "      <td>atteint</td>\n",
       "      <td>B</td>\n",
       "      <td>IGA-A1-S2</td>\n",
       "      <td>IGA : Pratique de l'ingénierie</td>\n",
       "      <td>GOSSIAUX Pol Bernard</td>\n",
       "      <td>1ère année d'ingénieur 2014-2015</td>\n",
       "      <td>PRIME</td>\n",
       "      <td>1A-S2-PRI</td>\n",
       "      <td>=</td>\n",
       "      <td>Nantes</td>\n",
       "      <td>2015</td>\n",
       "      <td>IGA</td>\n",
       "      <td>IGA-GOSSIAUX Pol Bernard</td>\n",
       "      <td>S2</td>\n",
       "      <td>2015-S2</td>\n",
       "      <td>0</td>\n",
       "      <td>4</td>\n",
       "      <td>0</td>\n",
       "      <td>0</td>\n",
       "      <td>0</td>\n",
       "    </tr>\n",
       "  </tbody>\n",
       "</table>\n",
       "</div>"
      ],
      "text/plain": [
       "   index N° Etudiant      Nom Prénom  Moyenne       Grade Grade ECTS  \\\n",
       "0      0   2015_045c     Self   John     10.0     atteint          B   \n",
       "1      1   2015_d9b3  English  David     10.0     atteint          B   \n",
       "2      2   2015_5661   Benson  Polly     10.0     atteint          B   \n",
       "3      3   2015_9343  Lockard   John      0.0  en dessous          F   \n",
       "4      4   2015_3082    Soape   Jose     10.0     atteint          B   \n",
       "\n",
       "     code_UE                      libelle_UE        responsable_UE  \\\n",
       "0  IGA-A1-S2  IGA : Pratique de l'ingénierie  GOSSIAUX Pol Bernard   \n",
       "1  IGA-A1-S2  IGA : Pratique de l'ingénierie  GOSSIAUX Pol Bernard   \n",
       "2  IGA-A1-S2  IGA : Pratique de l'ingénierie  GOSSIAUX Pol Bernard   \n",
       "3  IGA-A1-S2  IGA : Pratique de l'ingénierie  GOSSIAUX Pol Bernard   \n",
       "4  IGA-A1-S2  IGA : Pratique de l'ingénierie  GOSSIAUX Pol Bernard   \n",
       "\n",
       "                              annee nom_UV    code_UV note    lieu time_year  \\\n",
       "0  1ère année d'ingénieur 2014-2015  PRIME  1A-S2-PRI    =  Nantes      2015   \n",
       "1  1ère année d'ingénieur 2014-2015  PRIME  1A-S2-PRI    =  Nantes      2015   \n",
       "2  1ère année d'ingénieur 2014-2015  PRIME  1A-S2-PRI    =  Nantes      2015   \n",
       "3  1ère année d'ingénieur 2014-2015  PRIME  1A-S2-PRI    -  Nantes      2015   \n",
       "4  1ère année d'ingénieur 2014-2015  PRIME  1A-S2-PRI    =  Nantes      2015   \n",
       "\n",
       "  codeCS                     idcss semestre  unicite  time_id  std ID  UV ID  \\\n",
       "0    IGA  IGA-GOSSIAUX Pol Bernard       S2  2015-S2        0       0      0   \n",
       "1    IGA  IGA-GOSSIAUX Pol Bernard       S2  2015-S2        0       1      0   \n",
       "2    IGA  IGA-GOSSIAUX Pol Bernard       S2  2015-S2        0       2      0   \n",
       "3    IGA  IGA-GOSSIAUX Pol Bernard       S2  2015-S2        0       3      0   \n",
       "4    IGA  IGA-GOSSIAUX Pol Bernard       S2  2015-S2        0       4      0   \n",
       "\n",
       "   cs ID  cg ID  \n",
       "0      0      0  \n",
       "1      0      0  \n",
       "2      0      0  \n",
       "3      0      0  \n",
       "4      0      0  "
      ]
     },
     "execution_count": 32,
     "metadata": {},
     "output_type": "execute_result"
    }
   ],
   "source": [
    "df.head()"
   ]
  },
  {
   "cell_type": "markdown",
   "metadata": {},
   "source": [
    "## Fact Table UV"
   ]
  },
  {
   "cell_type": "code",
   "execution_count": 33,
   "metadata": {},
   "outputs": [],
   "source": [
    "ft_UV = df.loc[:,[\"UV ID\",\"lieu\",\"std ID\",\"note\",\"time_id\"]]"
   ]
  },
  {
   "cell_type": "markdown",
   "metadata": {},
   "source": [
    "## Fact Table Comp"
   ]
  },
  {
   "cell_type": "code",
   "execution_count": 34,
   "metadata": {},
   "outputs": [],
   "source": [
    "fd_comp = pd.DataFrame()"
   ]
  },
  {
   "cell_type": "code",
   "execution_count": 35,
   "metadata": {},
   "outputs": [],
   "source": [
    "unique_std = df[\"N° Etudiant\"].unique()"
   ]
  },
  {
   "cell_type": "code",
   "execution_count": 36,
   "metadata": {
    "scrolled": true
   },
   "outputs": [],
   "source": [
    "for std in unique_std:    \n",
    "    exp = df[df[\"N° Etudiant\"] == std ]\n",
    "    exp.head()\n",
    "\n",
    "    unique_cp = exp[\"cs ID\"].unique()\n",
    "    dic_cp = {}\n",
    "\n",
    "    l =exp.loc[:,[\"index\",\"cs ID\"]].apply(lambda var: get_ind(var,\"index\",dic_cp,unique_cp,\"cs ID\"),axis =1)\n",
    "    list_ind = [dic_cp[k] for k in dic_cp]\n",
    "    exp = df.iloc[list_ind]\n",
    "    fd_comp = pd.concat([fd_comp,exp])"
   ]
  },
  {
   "cell_type": "code",
   "execution_count": 37,
   "metadata": {},
   "outputs": [],
   "source": [
    "fd_comp = fd_comp.loc[:,[\"std ID\",\"cs ID\",\"cg ID\",\"semestre\",\"Moyenne\",\"Grade\",\"Grade ECTS\",\"lieu\",\"time_id\"]]"
   ]
  },
  {
   "cell_type": "code",
   "execution_count": 42,
   "metadata": {},
   "outputs": [],
   "source": [
    "df_student.columns = ['std_ID', 'N° Etudiant', 'Nom', 'Prénom', 'time_id']"
   ]
  },
  {
   "cell_type": "code",
   "execution_count": 43,
   "metadata": {},
   "outputs": [],
   "source": [
    "ft_UV.columns =['uv_ID', 'lieu', 'std_ID', 'note_uv','time_id']"
   ]
  },
  {
   "cell_type": "code",
   "execution_count": 44,
   "metadata": {},
   "outputs": [],
   "source": [
    "df_UV.columns = ['uv_ID', 'nom_UV', 'code_UV']"
   ]
  },
  {
   "cell_type": "code",
   "execution_count": 45,
   "metadata": {},
   "outputs": [],
   "source": [
    "df_cs.columns = ['cs_ID', 'respo_CS', 'nom_CS', 'code_CS']"
   ]
  },
  {
   "cell_type": "code",
   "execution_count": 46,
   "metadata": {},
   "outputs": [],
   "source": [
    "df_cg.columns = ['cg_id', 'code_CG', 'nom_CG']"
   ]
  },
  {
   "cell_type": "code",
   "execution_count": 47,
   "metadata": {},
   "outputs": [],
   "source": [
    "fd_comp.columns = ['std_ID', 'cs_ID', 'cg_ID', 'semestre', 'moyenne', 'grade', 'grade_ECTS', 'lieu',\"time_id\"]"
   ]
  }
 ],
 "metadata": {
  "kernelspec": {
   "display_name": "Python 3",
   "language": "python",
   "name": "python3"
  },
  "language_info": {
   "codemirror_mode": {
    "name": "ipython",
    "version": 3
   },
   "file_extension": ".py",
   "mimetype": "text/x-python",
   "name": "python",
   "nbconvert_exporter": "python",
   "pygments_lexer": "ipython3",
   "version": "3.6.7"
  }
 },
 "nbformat": 4,
 "nbformat_minor": 2
}
