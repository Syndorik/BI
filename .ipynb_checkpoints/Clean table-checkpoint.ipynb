{
 "cells": [
  {
   "cell_type": "markdown",
   "metadata": {},
   "source": [
    "# Cleaning file Script"
   ]
  },
  {
   "cell_type": "markdown",
   "metadata": {},
   "source": [
    "### Purpose of the script"
   ]
  },
  {
   "cell_type": "markdown",
   "metadata": {},
   "source": [
    "The purpose of this script is to clean all the files composing our database. This will be the basis of our project to create all the dimensions, and fact tables."
   ]
  },
  {
   "cell_type": "code",
   "execution_count": 1,
   "metadata": {},
   "outputs": [
    {
     "name": "stdout",
     "output_type": "stream",
     "text": [
      "The pandas version is 0.23.4.\n"
     ]
    },
    {
     "ename": "ModuleNotFoundError",
     "evalue": "No module named 'rdgeneration'",
     "output_type": "error",
     "traceback": [
      "\u001b[1;31m---------------------------------------------------------------------------\u001b[0m",
      "\u001b[1;31mModuleNotFoundError\u001b[0m                       Traceback (most recent call last)",
      "\u001b[1;32m<ipython-input-1-3ec62eb27b12>\u001b[0m in \u001b[0;36m<module>\u001b[1;34m\u001b[0m\n\u001b[0;32m      5\u001b[0m \u001b[0mprint\u001b[0m\u001b[1;33m(\u001b[0m\u001b[1;34m'The pandas version is {}.'\u001b[0m\u001b[1;33m.\u001b[0m\u001b[0mformat\u001b[0m\u001b[1;33m(\u001b[0m\u001b[0mpd\u001b[0m\u001b[1;33m.\u001b[0m\u001b[0m__version__\u001b[0m\u001b[1;33m)\u001b[0m\u001b[1;33m)\u001b[0m\u001b[1;33m\u001b[0m\u001b[1;33m\u001b[0m\u001b[0m\n\u001b[0;32m      6\u001b[0m \u001b[1;32mimport\u001b[0m \u001b[0mhashlib\u001b[0m\u001b[1;33m\u001b[0m\u001b[1;33m\u001b[0m\u001b[0m\n\u001b[1;32m----> 7\u001b[1;33m \u001b[1;32mfrom\u001b[0m \u001b[0mrdgeneration\u001b[0m \u001b[1;32mimport\u001b[0m \u001b[0mRdgen\u001b[0m\u001b[1;33m\u001b[0m\u001b[1;33m\u001b[0m\u001b[0m\n\u001b[0m\u001b[0;32m      8\u001b[0m \u001b[0mpd\u001b[0m\u001b[1;33m.\u001b[0m\u001b[0moptions\u001b[0m\u001b[1;33m.\u001b[0m\u001b[0mmode\u001b[0m\u001b[1;33m.\u001b[0m\u001b[0mchained_assignment\u001b[0m \u001b[1;33m=\u001b[0m \u001b[1;32mNone\u001b[0m\u001b[1;33m\u001b[0m\u001b[1;33m\u001b[0m\u001b[0m\n",
      "\u001b[1;31mModuleNotFoundError\u001b[0m: No module named 'rdgeneration'"
     ]
    }
   ],
   "source": [
    "import pandas as pd\n",
    "import numpy as np\n",
    "import random as rd\n",
    "pd.options.display.max_columns = 400\n",
    "print('The pandas version is {}.'.format(pd.__version__))\n",
    "import hashlib\n",
    "from rdgeneration import Rdgen\n",
    "pd.options.mode.chained_assignment = None "
   ]
  },
  {
   "cell_type": "markdown",
   "metadata": {},
   "source": [
    "### File format"
   ]
  },
  {
   "cell_type": "code",
   "execution_count": null,
   "metadata": {},
   "outputs": [],
   "source": [
    "df = pd.read_excel('./table/2015/BDN_interpA-A1-S2-2015.xlsx')"
   ]
  },
  {
   "cell_type": "code",
   "execution_count": null,
   "metadata": {},
   "outputs": [],
   "source": [
    "df"
   ]
  },
  {
   "cell_type": "markdown",
   "metadata": {},
   "source": [
    "<div class=\"alert alert-info\">\n",
    "Every excel files that will be added to the database has to follow the format bellow:\n",
    "    <ul>\n",
    "        <li>line: 1-3 $\\rightarrow$ empty lines </li>\n",
    "        <li>line 4:\n",
    "            <ul>\n",
    "                <li>column 4 : Programme(s) / Période (s) </li>\n",
    "                <li>column 6 : answer </li>\n",
    "            </ul>\n",
    "        </li>\n",
    "        <li>line 6:\n",
    "            <ul>\n",
    "                <li>column 4 : Code UE </li>\n",
    "                <li>column 6 : answer </li>\n",
    "            </ul>\n",
    "        </li>\n",
    "        <li>line 7:\n",
    "            <ul>\n",
    "                <li>column 4 : Libellé UE </li>\n",
    "                <li>column 6 : answer </li>\n",
    "            </ul>\n",
    "        </li>\n",
    "        <li>line 8:\n",
    "            <ul>\n",
    "                <li>column 4 : Responsable UE</li>\n",
    "                <li>column 6 : answer </li>\n",
    "            </ul>\n",
    "        </li>\n",
    "        <li>line 10:\n",
    "            <ul>\n",
    "                <li>column 4 : Remise limite CC</li>\n",
    "                <li>column 6 : answer </li>\n",
    "            </ul>\n",
    "        </li>\n",
    "        <li>line 11:\n",
    "            <ul>\n",
    "                <li>column 4 : Remise limite Exam </li>\n",
    "                <li>column 6 : answer </li>\n",
    "                <li>column 9-18: Code UV</li>\n",
    "            </ul>\n",
    "        </li>\n",
    "        <li>line 12:\n",
    "            <ul>\n",
    "                <li>column 9-18: Code UV</li>\n",
    "            </ul>\n",
    "        </li>\n",
    "        <li>line 13:\n",
    "            <ul>\n",
    "                <li>column 1 : N° </li>\n",
    "                <li>column 4 : N° Etudiant </li>\n",
    "                <li>column 5 : Nom</li>\n",
    "                <li>column 6 : Prénom</li>\n",
    "                <li>column 7 : Groupe</li>\n",
    "                <li>column 8 : Intervenant</li>\n",
    "                <li>column 9-18 : Pondération</li>\n",
    "                <li>column 19 : Moyenne</li>\n",
    "                <li>column 20 : Grade</li>\n",
    "                <li>column 21 : Grade ECTS</li>\n",
    "                <li>column 22 : Moyenne saisie</li>\n",
    "                <li>column 23 : Grade saisie</li>\n",
    "                <li>column 24 : Commentaires</li>\n",
    "            </ul>\n",
    "        </li>\n",
    "        <li>\n",
    "            line 14-the end: data\n",
    "        </li>\n",
    "    </ul>\n",
    "</div>"
   ]
  },
  {
   "cell_type": "code",
   "execution_count": null,
   "metadata": {},
   "outputs": [],
   "source": [
    "df.head(5)"
   ]
  },
  {
   "cell_type": "markdown",
   "metadata": {},
   "source": [
    "The column for each competence are:\n",
    "- numero\n",
    "- numero_Etudiant\n",
    "- nom\n",
    "- prenom\n",
    "\n",
    "\n",
    "- nom_cours\n",
    "- note_cours\n",
    "- moyenne\n",
    "- grade_atteint\n",
    "- grade_ects\n",
    "\n",
    "\n",
    "- code_UE\n",
    "- libelle_UE\n",
    "- responsable_UE\n",
    "- annee"
   ]
  },
  {
   "cell_type": "code",
   "execution_count": null,
   "metadata": {},
   "outputs": [],
   "source": [
    "mycol = [\"numero\",\"numero_etudiant\",\"nom\",\"prenom\",\n",
    "        \"nom_cours\",\"note_cours\",\"moyenne\",\"grade_atteint\",\n",
    "        \"grade_ects\",\"code_UE\",\"libelle_UE\",\"responsable_UE\"]"
   ]
  },
  {
   "cell_type": "markdown",
   "metadata": {},
   "source": [
    "#### Column numero\n",
    "- numero"
   ]
  },
  {
   "cell_type": "code",
   "execution_count": null,
   "metadata": {},
   "outputs": [],
   "source": [
    "num_col = pd.to_numeric(df[\"Unnamed: 0\"].loc[11:])\n",
    "max_num = num_col.max()\n",
    "ind_max = num_col[num_col == max_num].index[0]"
   ]
  },
  {
   "cell_type": "code",
   "execution_count": null,
   "metadata": {},
   "outputs": [],
   "source": [
    "num_col = num_col.loc[:ind_max].apply(int)\n",
    "number_std = len(num_col)"
   ]
  },
  {
   "cell_type": "markdown",
   "metadata": {},
   "source": [
    "The numero column : **num_col**"
   ]
  },
  {
   "cell_type": "markdown",
   "metadata": {},
   "source": [
    "### Filling missing columns with randomly generated values\n",
    "- numero_Etudiant\n",
    "- nom\n",
    "- prenom"
   ]
  },
  {
   "cell_type": "code",
   "execution_count": null,
   "metadata": {},
   "outputs": [],
   "source": [
    "rd_val = Rdgen(number_std)"
   ]
  },
  {
   "cell_type": "code",
   "execution_count": null,
   "metadata": {},
   "outputs": [],
   "source": [
    "firstname_col = rd_val.get_firstname()\n",
    "lastname_col = rd_val.get_lastname()\n",
    "std_num_col = rd_val.get_std_num()"
   ]
  },
  {
   "cell_type": "markdown",
   "metadata": {},
   "source": [
    "The firstname column: **firstname_col** <br>\n",
    "The lastname column: **lastname_coll** <br>\n",
    "the student number column: **std_num_col** <br>"
   ]
  },
  {
   "cell_type": "markdown",
   "metadata": {},
   "source": [
    "### General values\n",
    "- code_UE\n",
    "- libelle_UE\n",
    "- responsable_UE\n",
    "- annee"
   ]
  },
  {
   "cell_type": "code",
   "execution_count": null,
   "metadata": {},
   "outputs": [],
   "source": [
    "code_UE = df[\"Relevé de notes\"].iloc[3]\n",
    "libelle_UE = df[\"Relevé de notes\"].iloc[4]\n",
    "responsable_UE = df[\"Relevé de notes\"].iloc[5]\n",
    "annee = df[\"Relevé de notes\"].iloc[1]"
   ]
  },
  {
   "cell_type": "code",
   "execution_count": null,
   "metadata": {},
   "outputs": [],
   "source": [
    "print(\"code_UE : {}\\nlibelle_UE : {}\\nresponsable_UE : {}\\nannee :{}\".format(code_UE,libelle_UE,responsable_UE,annee))"
   ]
  },
  {
   "cell_type": "markdown",
   "metadata": {},
   "source": [
    "### Dealing with UV columns\n",
    "- nom_cours\n",
    "- note_cours\n",
    "- moyenne\n",
    "- grade_atteint\n",
    "- grade_ects"
   ]
  },
  {
   "cell_type": "markdown",
   "metadata": {},
   "source": [
    "### Preparing the dataset"
   ]
  },
  {
   "cell_type": "markdown",
   "metadata": {},
   "source": [
    "We can drop the first 10 columns since we already have the information"
   ]
  },
  {
   "cell_type": "code",
   "execution_count": null,
   "metadata": {},
   "outputs": [],
   "source": [
    "col_todrop = list(df.loc[:,\"Unnamed: 24\":].columns)"
   ]
  },
  {
   "cell_type": "code",
   "execution_count": null,
   "metadata": {},
   "outputs": [],
   "source": [
    "Uv_name = list(df.loc[9,\"Unnamed: 8\":\"Unnamed: 17\"])"
   ]
  },
  {
   "cell_type": "code",
   "execution_count": null,
   "metadata": {},
   "outputs": [],
   "source": [
    "for k in range(len(Uv_name)):\n",
    "    if(Uv_name[k] == \"Niveau-Situation\"):\n",
    "        Uv_name[k] = \"Niveau-Situation{}\".format(k)"
   ]
  },
  {
   "cell_type": "code",
   "execution_count": null,
   "metadata": {},
   "outputs": [],
   "source": [
    "df.drop(col_todrop,axis=1,inplace=True)"
   ]
  },
  {
   "cell_type": "code",
   "execution_count": null,
   "metadata": {},
   "outputs": [],
   "source": [
    "df = df.iloc[10:]\n",
    "df_col = list(df.iloc[0])\n"
   ]
  },
  {
   "cell_type": "code",
   "execution_count": null,
   "metadata": {},
   "outputs": [],
   "source": [
    "df_col = df_col[0:8]+Uv_name+df_col[18:]"
   ]
  },
  {
   "cell_type": "code",
   "execution_count": null,
   "metadata": {},
   "outputs": [],
   "source": [
    "df.columns = df_col\n",
    "df.drop(10,inplace = True)\n",
    "df.reset_index(inplace=True)\n",
    "df.drop(['IDOPUSER','IDOPSESSION',\"index\",\"Groupe\",\"Intervenant\"], axis =1, inplace= True)"
   ]
  },
  {
   "cell_type": "code",
   "execution_count": null,
   "metadata": {},
   "outputs": [],
   "source": [
    "df = df.iloc[:number_std]"
   ]
  },
  {
   "cell_type": "markdown",
   "metadata": {},
   "source": [
    "### Adding the generated information"
   ]
  },
  {
   "cell_type": "code",
   "execution_count": null,
   "metadata": {},
   "outputs": [],
   "source": [
    "df"
   ]
  },
  {
   "cell_type": "code",
   "execution_count": null,
   "metadata": {},
   "outputs": [],
   "source": [
    "df[\"N° Etudiant\"]= std_num_col\n",
    "df[\"Nom\"] = lastname_col\n",
    "df[\"Prénom\"]= firstname_col"
   ]
  },
  {
   "cell_type": "code",
   "execution_count": null,
   "metadata": {},
   "outputs": [],
   "source": [
    "UV = df.loc[:,\"Prénom\":\"Moyenne\"].drop([\"Prénom\",\"Moyenne\"],axis = 1)"
   ]
  },
  {
   "cell_type": "code",
   "execution_count": null,
   "metadata": {},
   "outputs": [],
   "source": [
    "\n",
    "def drop_na_line(var):\n",
    "    if(list(var) == [True, True, True, True, True, True, True, True, True, True]):\n",
    "        df.drop(var.name,inplace=True)\n",
    "    return\n",
    "\n",
    "def drop_na_col(var):\n",
    "    tocompare = [True]*len(df)\n",
    "    if(list(var) == tocompare):\n",
    "        df.drop(var.name,inplace = True, axis = 1)"
   ]
  },
  {
   "cell_type": "code",
   "execution_count": null,
   "metadata": {
    "scrolled": true
   },
   "outputs": [],
   "source": [
    "c = UV.isna().apply(lambda var : drop_na_line(var),axis=1)"
   ]
  },
  {
   "cell_type": "code",
   "execution_count": null,
   "metadata": {},
   "outputs": [],
   "source": [
    "c = df.isna().apply(lambda var : drop_na_col(var),axis=0)"
   ]
  },
  {
   "cell_type": "code",
   "execution_count": null,
   "metadata": {},
   "outputs": [],
   "source": [
    "code_UE = df[\"Relevé de notes\"].iloc[3]\n",
    "libelle_UE = df[\"Relevé de notes\"].iloc[4]\n",
    "responsable_UE = df[\"Relevé de notes\"].iloc[5]\n",
    "annee = df[\"Relevé de notes\"].iloc[1]"
   ]
  },
  {
   "cell_type": "code",
   "execution_count": null,
   "metadata": {},
   "outputs": [],
   "source": [
    "df[\"code_UE\"] = code_UE\n",
    "df[\"libelle_UE\"] = libelle_UE\n",
    "df[\"responsable_UE\"] = responsable_UE\n",
    "df[\"annee\"] = annee"
   ]
  },
  {
   "cell_type": "code",
   "execution_count": null,
   "metadata": {},
   "outputs": [],
   "source": [
    "Uv_name = list(df.loc[:,\"Prénom\":\"Moyenne\"])\n",
    "Uv_name.pop(0)\n",
    "Uv_name.pop(-1)"
   ]
  },
  {
   "cell_type": "code",
   "execution_count": null,
   "metadata": {},
   "outputs": [],
   "source": [
    "dict_uv = {}\n",
    "for k in Uv_name:\n",
    "    dict_uv[k] = df[k]\n",
    "dict_uv"
   ]
  },
  {
   "cell_type": "code",
   "execution_count": null,
   "metadata": {},
   "outputs": [],
   "source": [
    "df.head()"
   ]
  },
  {
   "cell_type": "code",
   "execution_count": null,
   "metadata": {},
   "outputs": [],
   "source": []
  }
 ],
 "metadata": {
  "kernelspec": {
   "display_name": "Python 3",
   "language": "python",
   "name": "python3"
  },
  "language_info": {
   "codemirror_mode": {
    "name": "ipython",
    "version": 3
   },
   "file_extension": ".py",
   "mimetype": "text/x-python",
   "name": "python",
   "nbconvert_exporter": "python",
   "pygments_lexer": "ipython3",
   "version": "3.6.7"
  }
 },
 "nbformat": 4,
 "nbformat_minor": 2
}
